{
  "nbformat": 4,
  "nbformat_minor": 0,
  "metadata": {
    "colab": {
      "provenance": [],
      "authorship_tag": "ABX9TyNOX5Zlv4fLnEWu3eaELy6x",
      "include_colab_link": true
    },
    "kernelspec": {
      "name": "python3",
      "display_name": "Python 3"
    },
    "language_info": {
      "name": "python"
    }
  },
  "cells": [
    {
      "cell_type": "markdown",
      "metadata": {
        "id": "view-in-github",
        "colab_type": "text"
      },
      "source": [
        "<a href=\"https://colab.research.google.com/github/ysabel1111/1st_Repository/blob/main/ADDITIONALEXERCISE/Program_12.ipynb\" target=\"_parent\"><img src=\"https://colab.research.google.com/assets/colab-badge.svg\" alt=\"Open In Colab\"/></a>"
      ]
    },
    {
      "cell_type": "markdown",
      "source": [
        "Write a program to convert Kilometers to miles."
      ],
      "metadata": {
        "id": "G5dgZSp0IUcT"
      }
    },
    {
      "cell_type": "code",
      "execution_count": null,
      "metadata": {
        "colab": {
          "base_uri": "https://localhost:8080/"
        },
        "id": "5-96Ftj6HtnK",
        "outputId": "9c1dc623-0b87-408f-b595-ee36e09e1895"
      },
      "outputs": [
        {
          "output_type": "stream",
          "name": "stdout",
          "text": [
            "KM TO M CONVERSION\n",
            "\n",
            "Enter the value of the kilometer: 5\n",
            "Kilometers in miles is:  3.106855\n"
          ]
        }
      ],
      "source": [
        "#Program 1\n",
        "\n",
        "print('KM TO M CONVERSION\\n')\n",
        "km = int (input (\"Enter the value of the kilometer: \"))\n",
        "convert = 0.621371\n",
        "mi = km * convert\n",
        "print(\"Kilometers in miles is: \", mi)\n"
      ]
    },
    {
      "cell_type": "markdown",
      "source": [
        "Write a program to convert temperature in Celsius to Fahrenheit"
      ],
      "metadata": {
        "id": "k9Ell99NMBag"
      }
    },
    {
      "cell_type": "code",
      "source": [
        "#Program 2\n",
        "\n",
        "print(\"CELSIUS TO FAHRENHEIT CONVERSION\\n\")\n",
        "celsius=int(input(\"Enter the temperature in celcius: \"))\n",
        "fahrenheit=(celsius* 9/5)+32\n",
        "print(\"Temperature in farenheit is:\",fahrenheit)"
      ],
      "metadata": {
        "colab": {
          "base_uri": "https://localhost:8080/"
        },
        "id": "kYeMRsMML9N4",
        "outputId": "cba9b555-d046-4b89-a716-6c8bd52c9f5a"
      },
      "execution_count": null,
      "outputs": [
        {
          "output_type": "stream",
          "name": "stdout",
          "text": [
            "CELSIUS TO FAHRENHEIT CONVERSION\n",
            "\n",
            "Enter the temperature in celcius: 18\n",
            "Temperature in farenheit is: 64.4\n"
          ]
        }
      ]
    },
    {
      "cell_type": "markdown",
      "source": [
        "Write a program to check if a Number is positive, Negative or 0\n",
        "\n"
      ],
      "metadata": {
        "id": "QNOgTQAPN_HL"
      }
    },
    {
      "cell_type": "code",
      "source": [
        "#Program 3\n",
        "\n",
        "print(\"Enter the number: \")\n",
        "n=int(input())\n",
        "\n",
        "if n<=-1:\n",
        "  print(n, \"is a negative number.\")\n",
        "elif n==0: \n",
        "  print(n, \"is a zero number.\" )\n",
        "else:\n",
        "  print(n, \"is a positive number.\")"
      ],
      "metadata": {
        "id": "yglYYyPdN8nL",
        "colab": {
          "base_uri": "https://localhost:8080/"
        },
        "outputId": "2b014ab1-71be-46e0-cd50-fdbf74a4b444"
      },
      "execution_count": null,
      "outputs": [
        {
          "output_type": "stream",
          "name": "stdout",
          "text": [
            "Enter the number: \n",
            "8\n",
            "8 is a positive number.\n"
          ]
        }
      ]
    },
    {
      "cell_type": "code",
      "source": [
        "prompt = \"\\nEnter your desire number: \"\n",
        "while True:\n",
        "    number = input(prompt)\n",
        "    if number == 'No more':\n",
        "               break \n",
        "    number = int(number) \n",
        "  \n",
        "    if number <= 0:\n",
        "        print(number, \"is a negative number.\")\n",
        "\n",
        "    elif number ==0:\n",
        "        print(number, \"is a zero number.\")\n",
        "\n",
        "    else:\n",
        "        print(number, \"is a positive number.\")"
      ],
      "metadata": {
        "colab": {
          "base_uri": "https://localhost:8080/"
        },
        "id": "Svzt03jGQcRJ",
        "outputId": "cdf9fa74-6d1a-4afe-aebb-df41de390a30"
      },
      "execution_count": null,
      "outputs": [
        {
          "name": "stdout",
          "output_type": "stream",
          "text": [
            "\n",
            "Enter your desire number: 9\n",
            "9 is a positive number.\n",
            "\n",
            "Enter your desire number: 0\n",
            "0 is a negative number.\n",
            "\n",
            "Enter your desire number: -22\n",
            "-22 is a negative number.\n",
            "\n",
            "Enter your desire number: No more\n"
          ]
        }
      ]
    },
    {
      "cell_type": "markdown",
      "source": [
        "Write a program to check prime number"
      ],
      "metadata": {
        "id": "6GsTYD0vTiDZ"
      }
    },
    {
      "cell_type": "code",
      "source": [
        "#Program 4\n",
        "number = int(input(\"Check the number if prime or not: \"))\n",
        "\n",
        "if number > 1:\n",
        "  for i in range(2, number):\n",
        "    if (number % i) == 0:\n",
        "      print(number, \"is not considered a Prime number.\")\n",
        "      break\n",
        "    \n",
        "    else:\n",
        "      print(number, \"is a Prime number.\")"
      ],
      "metadata": {
        "colab": {
          "base_uri": "https://localhost:8080/"
        },
        "id": "1UIYkb20Tfe8",
        "outputId": "a53e4f8f-1aaa-4e9d-da31-e40accf301f7"
      },
      "execution_count": null,
      "outputs": [
        {
          "output_type": "stream",
          "name": "stdout",
          "text": [
            "Check the number if prime or not: 4\n",
            "4 is not considered a Prime number.\n"
          ]
        }
      ]
    },
    {
      "cell_type": "markdown",
      "source": [
        "Write a program to display the multiplication table"
      ],
      "metadata": {
        "id": "ZwaAtT18UrCc"
      }
    },
    {
      "cell_type": "code",
      "source": [
        "#Program 5\n",
        "\n",
        "n = int(input('Multiplication Table of ')) \n",
        "for i in range(0, 11):\n",
        "   print(n,\"x\",i, \"=\" ,n*i)\n",
        "\n"
      ],
      "metadata": {
        "colab": {
          "base_uri": "https://localhost:8080/"
        },
        "id": "y2-rT_DfUpWS",
        "outputId": "77f704b0-68f5-43d8-e638-39f2ce09bfe1"
      },
      "execution_count": null,
      "outputs": [
        {
          "output_type": "stream",
          "name": "stdout",
          "text": [
            "Multiplication Table of 12\n",
            "12 x 0 = 0\n",
            "12 x 1 = 12\n",
            "12 x 2 = 24\n",
            "12 x 3 = 36\n",
            "12 x 4 = 48\n",
            "12 x 5 = 60\n",
            "12 x 6 = 72\n",
            "12 x 7 = 84\n",
            "12 x 8 = 96\n",
            "12 x 9 = 108\n",
            "12 x 10 = 120\n"
          ]
        }
      ]
    },
    {
      "cell_type": "markdown",
      "source": [
        "Write a program to print the fibonacci series "
      ],
      "metadata": {
        "id": "LRscOleSWvyW"
      }
    },
    {
      "cell_type": "code",
      "source": [
        "#Program 6\n",
        "\n",
        "print(\"The Fibonacci Sequence\\n\")\n",
        "series = int(input(\"Enter the term number: \"))\n",
        "n = 1\n",
        "n1 = 0\n",
        "n2 = 1\n",
        "\n",
        "for i in range(0, series):\n",
        "  print(n)\n",
        "  n = n1+n2\n",
        "  n1 = n2\n",
        "  n2= n\n"
      ],
      "metadata": {
        "colab": {
          "base_uri": "https://localhost:8080/"
        },
        "id": "OarIJ5v7Wmsx",
        "outputId": "6ab8ed6a-f289-4177-9fdd-bb6fc35ebab2"
      },
      "execution_count": null,
      "outputs": [
        {
          "output_type": "stream",
          "name": "stdout",
          "text": [
            "The Fibonacci Sequence\n",
            "\n",
            "Enter the term number: 5\n",
            "1\n",
            "1\n",
            "2\n",
            "3\n",
            "5\n"
          ]
        }
      ]
    },
    {
      "cell_type": "markdown",
      "source": [
        "Write a program to check if a string is palindrome or not"
      ],
      "metadata": {
        "id": "GoUYnWdtZmCP"
      }
    },
    {
      "cell_type": "code",
      "source": [
        "\n",
        "#Program 7\n",
        "\n",
        "string = input((\"Enter a string: \"))\n",
        "string = string.lower()\n",
        "print(string)\n",
        "\n",
        "reversedstring = string[::-1]\n",
        "\n",
        "if string == reversedstring:\n",
        "  print(\"This string is a palindrome.\")\n",
        "else:\n",
        "  print(\"This string is not a palindrome.\")\n",
        "\n"
      ],
      "metadata": {
        "colab": {
          "base_uri": "https://localhost:8080/"
        },
        "id": "NQFWT7WSmtRW",
        "outputId": "3f49024b-b6e5-4308-d5a5-05d267d390ef"
      },
      "execution_count": null,
      "outputs": [
        {
          "output_type": "stream",
          "name": "stdout",
          "text": [
            "Enter a string: hannah\n",
            "hannah\n",
            "This string is a palindrome.\n"
          ]
        }
      ]
    },
    {
      "cell_type": "code",
      "source": [
        "string = input((\"Enter a string: \"))\n",
        "string = string.lower()\n",
        "print(string)\n",
        "\n",
        "rev_str = reversed(string)\n",
        "print(rev_str)\n",
        "print(list(rev_str))\n",
        "\n",
        "if list(string)== list(rev_str):\n",
        "  print(\"This string is a palindrome.\")\n",
        "else:\n",
        "  print(\"This string is not a palindrome.\")\n",
        "\n"
      ],
      "metadata": {
        "colab": {
          "base_uri": "https://localhost:8080/"
        },
        "id": "ZjiN4exAo8qu",
        "outputId": "0d94ae72-eaf9-41f6-cfc7-a8849f9f3f16"
      },
      "execution_count": null,
      "outputs": [
        {
          "output_type": "stream",
          "name": "stdout",
          "text": [
            "Enter a string: HAnah\n",
            "hanah\n",
            "<reversed object at 0x7f068eb9fe10>\n",
            "['h', 'a', 'n', 'a', 'h']\n",
            "This string is not a palindrome.\n"
          ]
        }
      ]
    },
    {
      "cell_type": "markdown",
      "source": [
        "Write a program to merge two dictionary"
      ],
      "metadata": {
        "id": "hQLDAa5pa23S"
      }
    },
    {
      "cell_type": "code",
      "source": [
        "#Program 8\n",
        "\n",
        "colors = [\"Red\", \"Yellow\", \"Blue\", \"Black\"]\n",
        "shoes = [\"Adidas\", \"Nike\", \"Converse\", \"Balenciaga\"]\n",
        "\n",
        "for c, s in zip (colors, shoes):\n",
        "  print(f'Color: {c}')\n",
        "  print(f'Shoe: {s}')\n"
      ],
      "metadata": {
        "colab": {
          "base_uri": "https://localhost:8080/"
        },
        "id": "9oAsZiY7ax_8",
        "outputId": "9e6354f1-54c0-468d-af32-04e65d6f4454"
      },
      "execution_count": null,
      "outputs": [
        {
          "output_type": "stream",
          "name": "stdout",
          "text": [
            "Color: Red\n",
            "Shoe: Adidas\n",
            "Color: Yellow\n",
            "Shoe: Nike\n",
            "Color: Blue\n",
            "Shoe: Converse\n",
            "Color: Black\n",
            "Shoe: Balenciaga\n"
          ]
        }
      ]
    },
    {
      "cell_type": "markdown",
      "source": [
        "Write a program to count the number of occurence of a character in string"
      ],
      "metadata": {
        "id": "3KHhVhx3dSU1"
      }
    },
    {
      "cell_type": "code",
      "source": [
        "#Program 9\n",
        "\n",
        "string = input((\"Enter a string: \"))\n",
        "count = 0\n",
        "  \n",
        "for i in string:\n",
        "    if i == 's':\n",
        "        count = count + 1\n",
        "\n",
        "print (\"The number counts of: \" +  str(count))\n"
      ],
      "metadata": {
        "colab": {
          "base_uri": "https://localhost:8080/"
        },
        "id": "1FYaqJ8ydO8s",
        "outputId": "5c86a5e8-a44c-4c8a-9e16-2671aef38623"
      },
      "execution_count": null,
      "outputs": [
        {
          "output_type": "stream",
          "name": "stdout",
          "text": [
            "Enter a string: Mississippi\n",
            "The number counts of: 4\n"
          ]
        }
      ]
    },
    {
      "cell_type": "markdown",
      "source": [
        "Write a program to find the largest number among the three input numbers"
      ],
      "metadata": {
        "id": "ikGpIP1ydaRM"
      }
    },
    {
      "cell_type": "code",
      "source": [
        "#Program 10\n",
        "\n",
        "x = int(input(\"Enter 1st number: \"))\n",
        "y =int(input(\"Enter 2nd number: \"))\n",
        "z= int(input(\"Enter 3rd number: \"))\n",
        "\n",
        "if (x > y) and (x > z):\n",
        "  largest = x\n",
        "  \n",
        "elif (y > x) and (y > z):\n",
        "  largest = y\n",
        "\n",
        "else:\n",
        "   largest = z\n",
        " \n",
        "print(\"The largest number:\",largest)"
      ],
      "metadata": {
        "colab": {
          "base_uri": "https://localhost:8080/"
        },
        "id": "0bB2gLdXdZt7",
        "outputId": "fc522cc8-c68e-41dd-c643-973207f96a55"
      },
      "execution_count": null,
      "outputs": [
        {
          "output_type": "stream",
          "name": "stdout",
          "text": [
            "Enter 1st number: 199\n",
            "Enter 2nd number: 29\n",
            "Enter 3rd number: 30\n",
            "The largest number: 199\n"
          ]
        }
      ]
    }
  ]
}