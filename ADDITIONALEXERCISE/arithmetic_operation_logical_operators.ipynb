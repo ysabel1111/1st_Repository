{
  "nbformat": 4,
  "nbformat_minor": 0,
  "metadata": {
    "colab": {
      "provenance": [],
      "authorship_tag": "ABX9TyMuChZZDxNlRIMyqIa9bKf/",
      "include_colab_link": true
    },
    "kernelspec": {
      "name": "python3",
      "display_name": "Python 3"
    },
    "language_info": {
      "name": "python"
    }
  },
  "cells": [
    {
      "cell_type": "markdown",
      "metadata": {
        "id": "view-in-github",
        "colab_type": "text"
      },
      "source": [
        "<a href=\"https://colab.research.google.com/github/ysabel1111/1st_Repository/blob/main/ADDITIONALEXERCISE/arithmetic_operation_logical_operators.ipynb\" target=\"_parent\"><img src=\"https://colab.research.google.com/assets/colab-badge.svg\" alt=\"Open In Colab\"/></a>"
      ]
    },
    {
      "cell_type": "code",
      "execution_count": null,
      "metadata": {
        "colab": {
          "base_uri": "https://localhost:8080/"
        },
        "id": "F8dQxxNHz_mB",
        "outputId": "df896d13-4576-4b8e-8979-e587ea22ecb0"
      },
      "outputs": [
        {
          "output_type": "stream",
          "name": "stdout",
          "text": [
            "5\n",
            "-3\n",
            "4\n",
            "0.25\n",
            "1\n",
            "1\n"
          ]
        }
      ],
      "source": [
        "#two numbers\n",
        "x=1\n",
        "y=4\n",
        "print(x+y)\n",
        "print(x-y)\n",
        "print(x*y)\n",
        "print(x/y)\n",
        "print(x%y)\n",
        "print(x**y)"
      ]
    },
    {
      "cell_type": "code",
      "source": [
        "#get 2 numbers from the user\n",
        "print('Enter 2 numbers: ')\n",
        "a=int(input())\n",
        "b=int(input())\n",
        "\n",
        "#calculate and print the results\n",
        "print('The addition of '+str(a)+' and '+str(b)+' is '+str(a+b))\n",
        "print('The subtraction of '+str(a)+' and '+str(b)+' is '+str(a-b))\n",
        "print('The multiplication of '+str(a)+' and '+str(b)+' is '+str(a*b))\n",
        "print('The division of '+str(a)+' and '+str(b)+' is '+str(a//b))\n",
        "print('The modulus of '+str(a)+' and '+str(b)+' is '+str(a%b))\n",
        "print('The power of '+str(a)+' and '+str(b)+' is '+str(a**b))\n"
      ],
      "metadata": {
        "colab": {
          "base_uri": "https://localhost:8080/"
        },
        "id": "LjY1peTO0x6h",
        "outputId": "97c23a9b-ddd9-4514-fd54-65fdc5b9b618"
      },
      "execution_count": null,
      "outputs": [
        {
          "output_type": "stream",
          "name": "stdout",
          "text": [
            "Enter 2 numbers: \n",
            "8\n",
            "2\n",
            "The addition of 8 and 2 is 10\n",
            "The subtraction of 8 and 2 is 6\n",
            "The multiplication of 8 and 2 is 16\n",
            "The division of 8 and 2 is 4\n",
            "The modulus of 8 and 2 is 0\n",
            "The power of 8 and 2 is 64\n"
          ]
        }
      ]
    },
    {
      "cell_type": "code",
      "source": [
        "#Conversion between Shopkeeper and the girl\n",
        "print('A girl goes to a shop to buy USB\\nGirl:what is the price of an ISB?\\nShopkeeper:$6\\nGirl:Please give me USB sticks for $50')\n",
        "No_of_USB=50//6\n",
        "money_back=50%6\n",
        "print('The shopkeeper gives the girl '+str(No_of_USB)+' USBs'+' and returns her '+str(money_back)+'$')\n",
        "print('The shopkeeper gives the girl '+str(50//6)+' USBs'+' and returns her '+str(50%6)+'$')\n"
      ],
      "metadata": {
        "colab": {
          "base_uri": "https://localhost:8080/"
        },
        "id": "Y6azOBZ31Xqb",
        "outputId": "b9d18725-edbf-4373-f68e-448e582cb647"
      },
      "execution_count": null,
      "outputs": [
        {
          "output_type": "stream",
          "name": "stdout",
          "text": [
            "A girl goes to a shop to buy USB\n",
            "Girl:what is the price of an ISB?\n",
            "Shopkeeper:$6\n",
            "Girl:Please give me USB sticks for $50\n",
            "The shopkeeper gives the girl 8 USBs and returns her 2$\n",
            "The shopkeeper gives the girl 8 USBs and returns her 2$\n"
          ]
        }
      ]
    },
    {
      "cell_type": "code",
      "source": [
        "#Logical Operators\n",
        "x = True\n",
        "y = False\n",
        "\n",
        "print('x and y is',x and y)\n",
        "print('x or y is',x or y)\n",
        "print('not x is', not x)"
      ],
      "metadata": {
        "colab": {
          "base_uri": "https://localhost:8080/"
        },
        "id": "2KyTdiWm4CjP",
        "outputId": "a8fc934b-ac61-462a-d9b4-2474241258ee"
      },
      "execution_count": null,
      "outputs": [
        {
          "output_type": "stream",
          "name": "stdout",
          "text": [
            "x and y is False\n",
            "x or y is True\n",
            "not x is False\n"
          ]
        }
      ]
    },
    {
      "cell_type": "code",
      "source": [
        "x1 = 5\n",
        "y1 = 5\n",
        "x2 = 'Hello'\n",
        "y2 = 'Hello'\n",
        "x3 = [1,2,3]\n",
        "y3 = [1,2,3]\n",
        "\n",
        "# Output: False\n",
        "print(x1 is not y1)\n",
        "\n",
        "# Output: True\n",
        "print(x2 is y2)\n",
        "\n",
        "# Output: False\n",
        "print(x3 is y3)"
      ],
      "metadata": {
        "colab": {
          "base_uri": "https://localhost:8080/"
        },
        "id": "CAXWD-ka6UWL",
        "outputId": "ab1d1814-a306-411e-be42-252b7a303a5c"
      },
      "execution_count": null,
      "outputs": [
        {
          "output_type": "stream",
          "name": "stdout",
          "text": [
            "False\n",
            "True\n",
            "False\n"
          ]
        }
      ]
    },
    {
      "cell_type": "code",
      "source": [
        "#If-else statement\n",
        "\n",
        "print('Enter your age')\n",
        "age= int(input())\n",
        "\n",
        "if age >= 18:\n",
        "  #Executes if true\n",
        "  print( \"You are old enough to vote! \")\n",
        "\n",
        "else:\n",
        "  #Execute if false\n",
        "  print(\"Sorry, you are too young to vote.\")"
      ],
      "metadata": {
        "colab": {
          "base_uri": "https://localhost:8080/"
        },
        "id": "O8Baif8GBYuh",
        "outputId": "b0a11458-0840-4be8-c828-4f416720115f"
      },
      "execution_count": null,
      "outputs": [
        {
          "output_type": "stream",
          "name": "stdout",
          "text": [
            "Enter your age\n",
            "19\n",
            "You are old enough to vote! \n"
          ]
        }
      ]
    },
    {
      "cell_type": "code",
      "source": [
        "print('Enter your age')\n",
        "age= int(input())\n",
        "\n",
        "if age >= 18:\n",
        "  #Executes if true\n",
        "  print( \"You are an adult! \")\n",
        "\n",
        "else:\n",
        "  #Execute if false\n",
        "  print(\"Sorry, you are still a minor :( \")"
      ],
      "metadata": {
        "colab": {
          "base_uri": "https://localhost:8080/"
        },
        "id": "TMZJWufvCTdK",
        "outputId": "c837072a-d611-4f3e-d746-1c71218a048b"
      },
      "execution_count": null,
      "outputs": [
        {
          "output_type": "stream",
          "name": "stdout",
          "text": [
            "Enter your age\n",
            "17\n",
            "Sorry, you are still a minor :( \n"
          ]
        }
      ]
    },
    {
      "cell_type": "code",
      "source": [
        "#Declare two numbers in two variables\n",
        "a, b =10,20\n",
        "#Copy value of a in min if a < b else copy b\n",
        "min=a\n",
        "if a<b:\n",
        "  min=a\n",
        "\n",
        "else:\n",
        "  min=b\n",
        "print('The minimum value is '+str(min))"
      ],
      "metadata": {
        "colab": {
          "base_uri": "https://localhost:8080/"
        },
        "id": "dTdZZwwME0ET",
        "outputId": "ddd80dad-89ed-4869-dbc2-ecbb92e8a65b"
      },
      "execution_count": null,
      "outputs": [
        {
          "output_type": "stream",
          "name": "stdout",
          "text": [
            "The minimum value is 10\n"
          ]
        }
      ]
    },
    {
      "cell_type": "code",
      "source": [
        "#Declare two numbers in two variables\n",
        "a,b =5,2\n",
        "#Copy value of a in min if a < b else copy b\n",
        "min=a\n",
        "if a<b:\n",
        "  min=a\n",
        "\n",
        "else:\n",
        "  min=b\n",
        "print('The minimum value is '+str(min))"
      ],
      "metadata": {
        "colab": {
          "base_uri": "https://localhost:8080/"
        },
        "id": "ngyXkmCkFQBv",
        "outputId": "66a7ded8-ecd6-42ae-838b-601833e484a8"
      },
      "execution_count": null,
      "outputs": [
        {
          "output_type": "stream",
          "name": "stdout",
          "text": [
            "The minimum value is 2\n"
          ]
        }
      ]
    },
    {
      "cell_type": "code",
      "source": [
        "#If-else chain statements\n",
        "\n",
        "print('Enter your age')\n",
        "age=int(input())\n",
        "\n",
        "if age < 4:\n",
        "  print(\"Your admission cost is $0.\")\n",
        "elif age < 18:\n",
        "  print(\"Your admission cost is $25.\")\n",
        "else:\n",
        "  print(\"Your admission cost is $40.\")\n"
      ],
      "metadata": {
        "colab": {
          "base_uri": "https://localhost:8080/"
        },
        "id": "OI8nq6ikFoe1",
        "outputId": "dd410ea4-5345-404e-dca7-b994709a3646"
      },
      "execution_count": null,
      "outputs": [
        {
          "output_type": "stream",
          "name": "stdout",
          "text": [
            "Enter your age\n",
            "1\n",
            "Your admission cost is $0.\n"
          ]
        }
      ]
    },
    {
      "cell_type": "code",
      "source": [
        "#Nested If Statements\n"
      ],
      "metadata": {
        "id": "HLgeUz_uGkja"
      },
      "execution_count": null,
      "outputs": []
    }
  ]
}