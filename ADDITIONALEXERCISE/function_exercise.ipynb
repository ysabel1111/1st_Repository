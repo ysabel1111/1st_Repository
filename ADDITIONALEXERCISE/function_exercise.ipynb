{
  "nbformat": 4,
  "nbformat_minor": 0,
  "metadata": {
    "colab": {
      "provenance": [],
      "authorship_tag": "ABX9TyOlNq1K8PiIlnCDbp5mI20y",
      "include_colab_link": true
    },
    "kernelspec": {
      "name": "python3",
      "display_name": "Python 3"
    },
    "language_info": {
      "name": "python"
    }
  },
  "cells": [
    {
      "cell_type": "markdown",
      "metadata": {
        "id": "view-in-github",
        "colab_type": "text"
      },
      "source": [
        "<a href=\"https://colab.research.google.com/github/ysabel1111/1st_Repository/blob/main/ADDITIONALEXERCISE/function_exercise.ipynb\" target=\"_parent\"><img src=\"https://colab.research.google.com/assets/colab-badge.svg\" alt=\"Open In Colab\"/></a>"
      ]
    },
    {
      "cell_type": "markdown",
      "source": [
        "Write a program to create function which returns square root of a number. Call the function to print square root of consecutive 10 numbers."
      ],
      "metadata": {
        "id": "vOV_-xFsfI36"
      }
    },
    {
      "cell_type": "code",
      "execution_count": null,
      "metadata": {
        "colab": {
          "base_uri": "https://localhost:8080/"
        },
        "id": "c40JHLkge4Yu",
        "outputId": "a2f1c540-d65a-43cf-9379-4fed428a90e5"
      },
      "outputs": [
        {
          "output_type": "stream",
          "name": "stdout",
          "text": [
            "The square root of 1 is 1\n",
            "The square root of 2 is 4\n",
            "The square root of 3 is 9\n",
            "The square root of 4 is 16\n",
            "The square root of 5 is 25\n",
            "The square root of 6 is 36\n",
            "The square root of 7 is 49\n",
            "The square root of 8 is 64\n",
            "The square root of 9 is 81\n",
            "The square root of 10 is 100\n"
          ]
        }
      ],
      "source": [
        "#function\n",
        "def square_root(num):\n",
        "  return num*num\n",
        "\n",
        "for i in range(1,11):\n",
        "  #function call\n",
        "  result = square_root(i)\n",
        "  print(\"The square root of\",i, 'is',result)\n",
        "\n"
      ]
    },
    {
      "cell_type": "code",
      "source": [
        "#Using lstrip\n",
        "word = \"   Knowledge Refresher\"\n",
        "print(\"lstrip:\") \n",
        "print(word.lstrip())\n",
        "\n",
        "#Using rstrip\n",
        "word = \"   Knowledge Refresher\" \n",
        "print(\"\\nrstrip:\") \n",
        "print(word.rstrip())\n",
        "\n",
        "#Using strip\n",
        "word = \"   Knowledge Refresher    \" \n",
        "print(\"\\nstrip:\") \n",
        "print(word.strip())"
      ],
      "metadata": {
        "colab": {
          "base_uri": "https://localhost:8080/"
        },
        "id": "8q43SKwGg_q9",
        "outputId": "a07a8b55-01bb-420f-a529-b12db04a7b6f"
      },
      "execution_count": null,
      "outputs": [
        {
          "output_type": "stream",
          "name": "stdout",
          "text": [
            "lstrip:\n",
            "Knowledge Refresher\n",
            "\n",
            "rstrip:\n",
            "   Knowledge Refresher\n",
            "\n",
            "strip:\n",
            "Knowledge Refresher\n"
          ]
        }
      ]
    },
    {
      "cell_type": "markdown",
      "source": [
        "Write a Python program to check whether an alphabet is a vowel or consonant"
      ],
      "metadata": {
        "id": "4_BV9DsLiwoc"
      }
    },
    {
      "cell_type": "code",
      "source": [
        "#if-else\n",
        "\n",
        "vowels = ['a','e','i','o','u'] #list\n",
        "\n",
        "\n",
        "alphabet = str(input(\"Enter an alphabet to check whether vowel or consonant: \")).lower() \n",
        "\n",
        "if alphabet in vowels:\n",
        "  print(alphabet.title(), \"is a vowel.\")\n",
        "\n",
        "else:\n",
        "  print(alphabet.title(), \"is a consonant.\")"
      ],
      "metadata": {
        "colab": {
          "base_uri": "https://localhost:8080/"
        },
        "id": "WnNJonAzityR",
        "outputId": "a402961d-0a91-422a-9dfa-c897918db20b"
      },
      "execution_count": null,
      "outputs": [
        {
          "output_type": "stream",
          "name": "stdout",
          "text": [
            "Enter an alphabet to check whether vowel or consonant: A\n",
            "A is a vowel.\n"
          ]
        }
      ]
    },
    {
      "cell_type": "code",
      "source": [
        "#if-elif-else\n",
        "\n",
        "print('Enter two numbers: ')\n",
        "x=int(input()) #input string\n",
        "y=int(input()) #input string\n",
        "\n",
        "if x < y:\n",
        "  print(\"The smaller number between\", x ,\"and\",y,\": \", x)\n",
        "elif x == y:\n",
        "  print(x, \"and\", y, \"have an equal value.\" )\n",
        "else:\n",
        "  print(\"The smaller number between\", x, \"and\",y,\": \", y)"
      ],
      "metadata": {
        "colab": {
          "base_uri": "https://localhost:8080/"
        },
        "id": "7hcF5iPBlO7D",
        "outputId": "85303687-602c-4965-c2f0-d0697c30c2b4"
      },
      "execution_count": null,
      "outputs": [
        {
          "output_type": "stream",
          "name": "stdout",
          "text": [
            "Enter two numbers: \n",
            "4\n",
            "5\n",
            "The smaller number between 4 and 5 :  4\n"
          ]
        }
      ]
    },
    {
      "cell_type": "code",
      "source": [
        "#List type data+ for loop\n",
        "\n",
        "iphones = ['Iphone 11', 'Iphone 11 Pro', 'Iphone 11 Pro Max', 'Iphone 12', 'Iphone 12 Pro', 'Iphone 12 Pro Max', 'Iphone 13', 'Iphone 13 Pro', 'Iphone 13 Pro Max']\n",
        "for iphone in iphones:\n",
        "  print(iphone)"
      ],
      "metadata": {
        "colab": {
          "base_uri": "https://localhost:8080/"
        },
        "id": "loJLTJfSn6Si",
        "outputId": "b469dc15-ff9a-471b-e23d-4bcdf2e78cef"
      },
      "execution_count": null,
      "outputs": [
        {
          "output_type": "stream",
          "name": "stdout",
          "text": [
            "Iphone 11\n",
            "Iphone 11 Pro\n",
            "Iphone 11 Pro Max\n",
            "Iphone 12\n",
            "Iphone 12 Pro\n",
            "Iphone 12 Pro Max\n",
            "Iphone 13\n",
            "Iphone 13 Pro\n",
            "Iphone 13 Pro Max\n"
          ]
        }
      ]
    },
    {
      "cell_type": "code",
      "source": [
        "#Dictionary data type\n",
        "student = {'Name': 'Ben Ten', 'ID': 10, 'Course': 'BSC CC'}\n",
        "print(student)\n",
        "print('\\nDisplay key-value pairs')\n",
        "\n",
        "for key, value in student.items(): #Reads all items\n",
        "  print(f\"{key} : {value}\")\n",
        "\n",
        "#Adding key-value pair called gender\n",
        "student['Gender'] = 'Male'\n",
        "print(\"\\n\")\n",
        "print(student)\n",
        "\n",
        "print('\\nUpdated Dictionary')\n",
        "for key, value in student.items():\n",
        "    print(f\"{key} : {value}\")"
      ],
      "metadata": {
        "colab": {
          "base_uri": "https://localhost:8080/"
        },
        "id": "-pJuKJ8SpLhC",
        "outputId": "3dc89805-35ea-436e-d96e-4d53a5e5fb8d"
      },
      "execution_count": null,
      "outputs": [
        {
          "output_type": "stream",
          "name": "stdout",
          "text": [
            "{'Name': 'Ben Ten', 'ID': 10, 'Course': 'BSC CC'}\n",
            "\n",
            "Display key-value pairs\n",
            "Name : Ben Ten\n",
            "ID : 10\n",
            "Course : BSC CC\n",
            "\n",
            "\n",
            "{'Name': 'Ben Ten', 'ID': 10, 'Course': 'BSC CC', 'Gender': 'Male'}\n",
            "\n",
            "Updated Dictionary\n",
            "Name : Ben Ten\n",
            "ID : 10\n",
            "Course : BSC CC\n",
            "Gender : Male\n"
          ]
        }
      ]
    },
    {
      "cell_type": "code",
      "source": [
        "#Tuple data type\n",
        "\n",
        "#print tuples\n",
        "leap_year = (2004, 2008, 2012, 2016)\n",
        "non_leap = (2100, 2200, 2300, 2500)\n",
        "print(\"4 Leap years: \")\n",
        "for i in leap_year:\n",
        "  print(i,end=\" \")\n",
        "\n",
        "print(\"\\n4 Non-leap years: \")\n",
        "for i in non_leap:\n",
        "  print(i,end=\" \")\n",
        "\n",
        "print(\"\\n\")\n",
        "#concetenate 2 tuples\n",
        "print(leap_year + non_leap)\n",
        "\n",
        "#multiple each tuple 3 times\n",
        "print(leap_year * 3)\n",
        "print(non_leap * 3)\n",
        "\n",
        "#compare 2 tuples\n",
        "print(leap_year == non_leap)\n",
        "\n",
        "#len()\n",
        "print(len(leap_year))\n",
        "print(len(non_leap))\n",
        "\n",
        "#sum()\n",
        "print(sum(leap_year))\n",
        "print(sum(non_leap))\n",
        "\n",
        "#sorted()\n",
        "print(sorted(leap_year))\n",
        "print(sorted(non_leap))\n",
        "\n",
        "#swap() \n",
        "print(\"\\nBefore Swapping\")\n",
        "print(\"Leap years:\", leap_year)\n",
        "print(\"Non-leap years:\", non_leap)\n",
        "\n",
        "leap_year, non_leap = non_leap, leap_year\n",
        "print(\"\\nAfter Swapping\")\n",
        "print(\"Leap years:\", leap_year)\n",
        "print(\"Non-leap years:\", non_leap)\n"
      ],
      "metadata": {
        "colab": {
          "base_uri": "https://localhost:8080/"
        },
        "id": "ZOlPqvraqqNO",
        "outputId": "32b3f88c-ff71-4a14-a7be-2b845234412c"
      },
      "execution_count": null,
      "outputs": [
        {
          "output_type": "stream",
          "name": "stdout",
          "text": [
            "4 Leap years: \n",
            "2004 2008 2012 2016 \n",
            "4 Non-leap years: \n",
            "2100 2200 2300 2500 \n",
            "\n",
            "(2004, 2008, 2012, 2016, 2100, 2200, 2300, 2500)\n",
            "(2004, 2008, 2012, 2016, 2004, 2008, 2012, 2016, 2004, 2008, 2012, 2016)\n",
            "(2100, 2200, 2300, 2500, 2100, 2200, 2300, 2500, 2100, 2200, 2300, 2500)\n",
            "False\n",
            "4\n",
            "4\n",
            "8040\n",
            "9100\n",
            "[2004, 2008, 2012, 2016]\n",
            "[2100, 2200, 2300, 2500]\n",
            "\n",
            "Before Swapping\n",
            "Leap years: (2004, 2008, 2012, 2016)\n",
            "Non-leap years: (2100, 2200, 2300, 2500)\n",
            "\n",
            "After Swapping\n",
            "Leap years: (2100, 2200, 2300, 2500)\n",
            "Non-leap years: (2004, 2008, 2012, 2016)\n"
          ]
        }
      ]
    },
    {
      "cell_type": "code",
      "source": [
        "#Nested for loop\n",
        "p = int(input('How many rows you want: ')) \n",
        "n = 1\n",
        "while n<=p:\n",
        "  f=1\n",
        "  while f<=n:\n",
        "    print((n*2-1),end=' ')\n",
        "    f=f+1\n",
        "  n=n+1\n",
        "  print()"
      ],
      "metadata": {
        "colab": {
          "base_uri": "https://localhost:8080/"
        },
        "id": "7csgvDCTr8JQ",
        "outputId": "155164f2-162f-4b5b-f39c-b0da77007f16"
      },
      "execution_count": null,
      "outputs": [
        {
          "output_type": "stream",
          "name": "stdout",
          "text": [
            "How many rows you want: 5\n",
            "1 \n",
            "3 3 \n",
            "5 5 5 \n",
            "7 7 7 7 \n",
            "9 9 9 9 9 \n"
          ]
        }
      ]
    },
    {
      "cell_type": "code",
      "source": [
        "#String + for loop\n",
        "\n",
        "string = input((\"Enter a string: \"))\n",
        "count = 0\n",
        "  \n",
        "for i in string:\n",
        "    if i == 's':\n",
        "        count = count + 1\n",
        "\n",
        "print (\"The number counts of: \" +  str(count))\n"
      ],
      "metadata": {
        "colab": {
          "base_uri": "https://localhost:8080/"
        },
        "id": "AIcSx2PsswPb",
        "outputId": "9c58e350-6464-42b7-caef-e2b16f7ae801"
      },
      "execution_count": null,
      "outputs": [
        {
          "output_type": "stream",
          "name": "stdout",
          "text": [
            "Enter a string: mississippi\n",
            "The number counts of: 4\n"
          ]
        }
      ]
    },
    {
      "cell_type": "code",
      "source": [
        "\n",
        "counter =0 \n",
        "string =\"happy\"\n",
        "letter =\"p\"\n",
        "\n",
        "for i in string:\n",
        "    if i == letter:\n",
        "        counter += 1\n",
        "print(string)\n",
        "print(counter)"
      ],
      "metadata": {
        "colab": {
          "base_uri": "https://localhost:8080/"
        },
        "id": "mQNgb9trt77i",
        "outputId": "5ee40877-d4c9-47d4-f688-ab1c05a50f6d"
      },
      "execution_count": null,
      "outputs": [
        {
          "output_type": "stream",
          "name": "stdout",
          "text": [
            "happy\n",
            "2\n"
          ]
        }
      ]
    },
    {
      "cell_type": "code",
      "source": [
        "#Array\n",
        "import numpy as np\n",
        "\n",
        "#0 dimensional array\n",
        "shoes0=np.array(\"\\nBalenciaga\")\n",
        "print(\"Zero dimentional array: \", shoes0)\n",
        "\n",
        "\n",
        "#1 dimensional array\n",
        "shoes1=np.array(([\"Addidas\",\"Nike\",\"Converse\"]))\n",
        "print(\"\\nOne dimensional array:\\n \", shoes1)\n",
        "\n",
        "\n",
        "#2 dimensional array\n",
        "shoes2=np.array ([[1,2,3],[4,8,12]])\n",
        "print(\"\\nTwo dimensional array:\\n\", shoes2)\n",
        "\n",
        "#Multi dimensional array\n",
        "shoes = np.array([[[\"Adidas\",\"Adidas\",\"Adidas\"],[\"Nike\",\"Nike\",\"Nike\"]],[[\"Converse\",\"Converse\",\"Converse\"],[\"Balenciaga\",\"Balenciage\",\"Balenciage\"]]])\n",
        "print(\"\\nMulti dimensional array:\\n\", shoes)\n",
        "print('Dimension of the above array is:\\n ',shoes.ndim)\n"
      ],
      "metadata": {
        "colab": {
          "base_uri": "https://localhost:8080/"
        },
        "id": "7YfdNyfSuDP7",
        "outputId": "3d23f37e-c2a4-4e71-8e43-d7dabc771610"
      },
      "execution_count": null,
      "outputs": [
        {
          "output_type": "stream",
          "name": "stdout",
          "text": [
            "Zero dimentional array:  \n",
            "Balenciaga\n",
            "\n",
            "One dimensional array:\n",
            "  ['Addidas' 'Nike' 'Converse']\n",
            "\n",
            "Two dimensional array:\n",
            " [[ 1  2  3]\n",
            " [ 4  8 12]]\n",
            "\n",
            "Multi dimensional array:\n",
            " [[['Adidas' 'Adidas' 'Adidas']\n",
            "  ['Nike' 'Nike' 'Nike']]\n",
            "\n",
            " [['Converse' 'Converse' 'Converse']\n",
            "  ['Balenciaga' 'Balenciage' 'Balenciage']]]\n",
            "Dimension of the above array is:\n",
            "  3\n"
          ]
        }
      ]
    },
    {
      "cell_type": "code",
      "source": [
        "#Turtle Python\n",
        "#square shape turtle with colors\n",
        "\n",
        "!pip3 install ColabTurtle\n",
        "from ColabTurtle.Turtle import *\n",
        "\n",
        "import ColabTurtle.Turtle as t\n",
        "initializeTurtle()\n",
        "\n",
        "\n",
        "t.color(\"gold\")\n",
        "t.forward(150)\n",
        "t.left(90)\n",
        "\n",
        "t.color(\"purple\")\n",
        "t.forward(150)\n",
        "t.left(90)\n",
        "\n",
        "t.color(\"yellow\")\n",
        "t.forward(150)\n",
        "t.left(90)\n",
        "\n",
        "t.color(\"violet\")\n",
        "t.forward(150)\n",
        "t.left(90)"
      ],
      "metadata": {
        "colab": {
          "base_uri": "https://localhost:8080/",
          "height": 732
        },
        "id": "1uqGE9IkvWy8",
        "outputId": "9f72df1a-0118-482e-ebb2-c9c1f40c91d1"
      },
      "execution_count": null,
      "outputs": [
        {
          "output_type": "stream",
          "name": "stdout",
          "text": [
            "Looking in indexes: https://pypi.org/simple, https://us-python.pkg.dev/colab-wheels/public/simple/\n",
            "Collecting ColabTurtle\n",
            "  Downloading ColabTurtle-2.1.0.tar.gz (6.8 kB)\n",
            "  Preparing metadata (setup.py) ... \u001b[?25l\u001b[?25hdone\n",
            "Building wheels for collected packages: ColabTurtle\n",
            "  Building wheel for ColabTurtle (setup.py) ... \u001b[?25l\u001b[?25hdone\n",
            "  Created wheel for ColabTurtle: filename=ColabTurtle-2.1.0-py3-none-any.whl size=7656 sha256=0bc862549efc5b02a730ad6e6715a8a51935ec90c5f6cb7bfbb131edb343cd33\n",
            "  Stored in directory: /root/.cache/pip/wheels/a9/85/dc/29b6b43c4c6c0fe37192ccad65fe2adcef1e52dd24b0eb61fc\n",
            "Successfully built ColabTurtle\n",
            "Installing collected packages: ColabTurtle\n",
            "Successfully installed ColabTurtle-2.1.0\n"
          ]
        },
        {
          "output_type": "display_data",
          "data": {
            "text/plain": [
              "<IPython.core.display.HTML object>"
            ],
            "text/html": [
              "\n",
              "      <svg width=\"800\" height=\"500\">\n",
              "        <rect width=\"100%\" height=\"100%\" fill=\"black\"/>\n",
              "        <line x1=\"400\" y1=\"250\" x2=\"400.0\" y2=\"100.0\" stroke-linecap=\"round\" style=\"stroke:gold;stroke-width:4\"/><line x1=\"400.0\" y1=\"100.0\" x2=\"250.0\" y2=\"100.0\" stroke-linecap=\"round\" style=\"stroke:purple;stroke-width:4\"/><line x1=\"250.0\" y1=\"100.0\" x2=\"250.0\" y2=\"250.0\" stroke-linecap=\"round\" style=\"stroke:yellow;stroke-width:4\"/><line x1=\"250.0\" y1=\"250.0\" x2=\"400.0\" y2=\"250.0\" stroke-linecap=\"round\" style=\"stroke:violet;stroke-width:4\"/>\n",
              "        <g visibility=visible transform=\"rotate(360,400.0,250.0) translate(382.0, 232.0)\">\n",
              "<path style=\" stroke:none;fill-rule:evenodd;fill:violet;fill-opacity:1;\" d=\"M 18.214844 0.632812 C 16.109375 1.800781 15.011719 4.074219 15.074219 7.132812 L 15.085938 7.652344 L 14.785156 7.496094 C 13.476562 6.824219 11.957031 6.671875 10.40625 7.066406 C 8.46875 7.550781 6.515625 9.15625 4.394531 11.992188 C 3.0625 13.777344 2.679688 14.636719 3.042969 15.027344 L 3.15625 15.152344 L 3.519531 15.152344 C 4.238281 15.152344 4.828125 14.886719 8.1875 13.039062 C 9.386719 12.378906 10.371094 11.839844 10.378906 11.839844 C 10.386719 11.839844 10.355469 11.929688 10.304688 12.035156 C 9.832031 13.09375 9.257812 14.820312 8.96875 16.078125 C 7.914062 20.652344 8.617188 24.53125 11.070312 27.660156 C 11.351562 28.015625 11.363281 27.914062 10.972656 28.382812 C 8.925781 30.84375 7.945312 33.28125 8.238281 35.1875 C 8.289062 35.527344 8.28125 35.523438 8.917969 35.523438 C 10.941406 35.523438 13.074219 34.207031 15.136719 31.6875 C 15.359375 31.417969 15.328125 31.425781 15.5625 31.574219 C 16.292969 32.042969 18.023438 32.964844 18.175781 32.964844 C 18.335938 32.964844 19.941406 32.210938 20.828125 31.71875 C 20.996094 31.625 21.136719 31.554688 21.136719 31.558594 C 21.203125 31.664062 21.898438 32.414062 22.222656 32.730469 C 23.835938 34.300781 25.5625 35.132812 27.582031 35.300781 C 27.90625 35.328125 27.9375 35.308594 28.007812 34.984375 C 28.382812 33.242188 27.625 30.925781 25.863281 28.425781 L 25.542969 27.96875 L 25.699219 27.785156 C 28.945312 23.960938 29.132812 18.699219 26.257812 11.96875 L 26.207031 11.84375 L 27.945312 12.703125 C 31.53125 14.476562 32.316406 14.800781 33.03125 14.800781 C 33.976562 14.800781 33.78125 13.9375 32.472656 12.292969 C 28.519531 7.355469 25.394531 5.925781 21.921875 7.472656 L 21.558594 7.636719 L 21.578125 7.542969 C 21.699219 6.992188 21.761719 5.742188 21.699219 5.164062 C 21.496094 3.296875 20.664062 1.964844 19.003906 0.855469 C 18.480469 0.503906 18.457031 0.5 18.214844 0.632812\"/>\n",
              "</g>\n",
              "      </svg>\n",
              "    "
            ]
          },
          "metadata": {}
        }
      ]
    },
    {
      "cell_type": "code",
      "source": [
        "#Array + nested for loop\n",
        "\n",
        "import numpy as np\n",
        "\n",
        "array = np.array ([5, 25, 60, 10, 35, 85])\n",
        "print(\"\\nNumbers: \" + str(array))\n",
        "\n",
        "for i in range(len(array)):\n",
        "  for j in range(i + 1, len(array)):\n",
        "    if array[i] < array [j]:\n",
        "      temp = array[i]\n",
        "      array[i] = array[j]\n",
        "      array[j] = temp\n",
        "\n",
        "print(\"Descending Order: \" + str(array))"
      ],
      "metadata": {
        "colab": {
          "base_uri": "https://localhost:8080/"
        },
        "id": "rPF5R3Wzvolm",
        "outputId": "bcf0b549-f8e6-41b9-ad92-71daeb1419a6"
      },
      "execution_count": null,
      "outputs": [
        {
          "output_type": "stream",
          "name": "stdout",
          "text": [
            "\n",
            "Numbers: [ 5 25 60 10 35 85]\n",
            "Descending Order: [85 60 35 25 10  5]\n"
          ]
        }
      ]
    }
  ]
}