{
  "nbformat": 4,
  "nbformat_minor": 0,
  "metadata": {
    "colab": {
      "provenance": [],
      "authorship_tag": "ABX9TyPSEtoiuc87VsNNu1ydc0Aj",
      "include_colab_link": true
    },
    "kernelspec": {
      "name": "python3",
      "display_name": "Python 3"
    },
    "language_info": {
      "name": "python"
    }
  },
  "cells": [
    {
      "cell_type": "markdown",
      "metadata": {
        "id": "view-in-github",
        "colab_type": "text"
      },
      "source": [
        "<a href=\"https://colab.research.google.com/github/ysabel1111/1st_Repository/blob/main/ADDITIONALEXERCISE/if_else_chap_4_guestlist.ipynb\" target=\"_parent\"><img src=\"https://colab.research.google.com/assets/colab-badge.svg\" alt=\"Open In Colab\"/></a>"
      ]
    },
    {
      "cell_type": "code",
      "execution_count": null,
      "metadata": {
        "id": "Sqbnxbjg1Qjf",
        "colab": {
          "base_uri": "https://localhost:8080/"
        },
        "outputId": "f852605f-d4c8-4aea-ebde-94b6d88f71ce"
      },
      "outputs": [
        {
          "output_type": "stream",
          "name": "stdout",
          "text": [
            "8 is positive\n"
          ]
        }
      ],
      "source": [
        "#If-else statement\n",
        "\n",
        "#Write a program to print a number only if it is positive.\n",
        "x= 8\n",
        "if x>0:\n",
        "  print( x, 'is positive')"
      ]
    },
    {
      "cell_type": "code",
      "source": [
        "#if-else statement\n",
        "#Take two numbers from the user and print the first number only if it smaller than the second number\n",
        "\n",
        "print('Enter 1st number: ')\n",
        "x=int(input())\n",
        "\n",
        "print('Enter 2nd number: ')\n",
        "y=int(input())\n",
        "\n",
        "if x<y:\n",
        "  print(x, 'is the first number and it is smaller than the second number.')\n"
      ],
      "metadata": {
        "colab": {
          "base_uri": "https://localhost:8080/"
        },
        "id": "qZO9w-ty2dvR",
        "outputId": "93429753-b85e-4fb3-c650-77570323d72e"
      },
      "execution_count": null,
      "outputs": [
        {
          "name": "stdout",
          "output_type": "stream",
          "text": [
            "Enter 1st number: \n",
            "9\n",
            "Enter 2nd number: \n",
            "7\n"
          ]
        }
      ]
    },
    {
      "cell_type": "code",
      "source": [
        "#Take two number from the user, compare and print the smaller number.\n",
        "\n",
        "print('Enter 1st number: ')\n",
        "x=int(input())\n",
        "\n",
        "print('Enter 2nd number: ')\n",
        "y=int(input())\n",
        "\n",
        "if x<y:\n",
        "  print(x, 'is the first number and it is smaller than the second number',y )\n",
        "else:\n",
        "  print(y, 'is the second number and it is smaller than the first number',x )\n",
        "\n"
      ],
      "metadata": {
        "colab": {
          "base_uri": "https://localhost:8080/"
        },
        "id": "xAflN0hr3beP",
        "outputId": "740aa3b6-23c4-4f3d-b9a5-012262d74b64"
      },
      "execution_count": null,
      "outputs": [
        {
          "output_type": "stream",
          "name": "stdout",
          "text": [
            "Enter 1st number: \n",
            "8\n",
            "Enter 2nd number: \n",
            "10\n",
            "8 is the first number and it is smaller than the second number 10\n"
          ]
        }
      ]
    },
    {
      "cell_type": "code",
      "source": [
        "#Take two numbers from the user, compare and print the smaller number. Also consider a condition where both the numbers can be same.\n",
        "\n",
        "print('Enter 1st number: ')\n",
        "x=int(input())\n",
        "\n",
        "print('Enter 2nd number: ')\n",
        "y=int(input())\n",
        "\n",
        "if x<y:\n",
        "  print(x, 'is the first number and it is smaller than the second number',y )\n",
        "elif x==y:\n",
        "  print(x,'is the first number,',y,'is the second number and both numbers are equal' )\n",
        "else:\n",
        "  print(y, 'is the second number and it is smaller than the first number',x )\n"
      ],
      "metadata": {
        "colab": {
          "base_uri": "https://localhost:8080/"
        },
        "id": "unPNvErx_gqI",
        "outputId": "451ea1e2-7e43-4a75-d8cc-a57b13105de3"
      },
      "execution_count": null,
      "outputs": [
        {
          "output_type": "stream",
          "name": "stdout",
          "text": [
            "Enter 1st number: \n",
            "66\n",
            "Enter 2nd number: \n",
            "66\n",
            "66 is the first number, 66 is the second number and both numbers are equal\n"
          ]
        }
      ]
    },
    {
      "cell_type": "code",
      "source": [
        "#Using nested-if\n",
        "#Write a program for a shipment company is having the following offer-\n",
        "#For US: $50 for first 50 shipments and $25 for more than 5 shipments\n",
        "#For Australia: $150 for first 100 shipments and $15 for more than 100 shipments\n",
        "\n",
        "print ('Select country: US/Australia')\n",
        "country=str(input())\n",
        "print('Enter number of shipments')\n",
        "shipment=int(input())\n",
        "\n",
        "if country==\"US\":\n",
        "  if shipment<=50:\n",
        "    print('Shipping cost is $50')\n",
        "  elif shipment>50:\n",
        "    print('Shipping cost is $25')\n",
        "  else:\n",
        "    print(\"Sorry, we cannot ship your order.\")\n",
        "\n",
        "if country==\"Australia\":\n",
        "  if shipment<=150:\n",
        "    print('Shipping cost is $100')\n",
        "  elif shipment>150:\n",
        "    print('Shipping cost is $15')\n",
        "  else:\n",
        "    print(\"Sorry, we cannot ship your order.\")\n",
        "\n"
      ],
      "metadata": {
        "colab": {
          "base_uri": "https://localhost:8080/"
        },
        "id": "Lo7yKnA6CrL0",
        "outputId": "91555b4d-9c84-416e-8c7a-023cdb0f9a3e"
      },
      "execution_count": null,
      "outputs": [
        {
          "output_type": "stream",
          "name": "stdout",
          "text": [
            "Select country: US/Australia\n",
            "US\n",
            "Enter number of shipments\n",
            "800\n",
            "Shipping cost is $25\n"
          ]
        }
      ]
    },
    {
      "cell_type": "code",
      "source": [
        "#create a list of flowers comprising of 3 flowers\n",
        "\n",
        "flowers = ['Roses', 'Lily','Orchid']\n",
        "print(flowers)\n",
        "\n",
        "#access list elements using index function\n",
        "print(flowers[0])\n",
        "print(flowers[1])\n",
        "print(flowers[2])\n",
        "\n",
        "#replace the first element of the list with some other flower\n",
        "flowers[0]='Tulip'\n",
        "print(flowers)\n",
        "\n",
        "#add an element at the end of the list use append() function\n",
        "flowers.append('Daisy')\n",
        "print(flowers)\n",
        "\n",
        "#insert elements in the list use the insert() function\n",
        "flowers.insert(1,'Sunflower')\n",
        "flowers.insert(5,'Rosemary')\n",
        "print(flowers)\n",
        "\n",
        "#remove element in a List using value\n",
        "print(flowers)\n",
        "flowers.remove('Lily')\n",
        "print(flowers)\n",
        "\n",
        "#remove yung LAST\n",
        "#remove last element in a list using pop() function\n",
        "popped=flowers.pop()\n",
        "print(flowers)\n",
        "\n",
        "#print the popped element\n",
        "print(popped)\n",
        "\n",
        "#sort list alphabetically\n",
        "print(flowers)\n",
        "flowers.sort()\n",
        "print(flowers)\n",
        "\n",
        "#reverse\n",
        "flowers.reverse()\n",
        "print(flowers)\n",
        "\n",
        "#use delete function (del[]) to empty the list\n",
        "del flowers[:4]\n",
        "print(flowers)"
      ],
      "metadata": {
        "colab": {
          "base_uri": "https://localhost:8080/"
        },
        "id": "hFCOUuiYPFr6",
        "outputId": "a9777830-ee74-41bb-c7c2-09fe1431939d"
      },
      "execution_count": null,
      "outputs": [
        {
          "output_type": "stream",
          "name": "stdout",
          "text": [
            "['Roses', 'Lily', 'Orchid']\n",
            "Roses\n",
            "Lily\n",
            "Orchid\n",
            "['Tulip', 'Lily', 'Orchid']\n",
            "['Tulip', 'Lily', 'Orchid', 'Daisy']\n",
            "['Tulip', 'Sunflower', 'Lily', 'Orchid', 'Daisy', 'Rosemary']\n",
            "['Tulip', 'Sunflower', 'Lily', 'Orchid', 'Daisy', 'Rosemary']\n",
            "['Tulip', 'Sunflower', 'Orchid', 'Daisy', 'Rosemary']\n",
            "['Tulip', 'Sunflower', 'Orchid', 'Daisy']\n",
            "Rosemary\n",
            "['Tulip', 'Sunflower', 'Orchid', 'Daisy']\n",
            "['Daisy', 'Orchid', 'Sunflower', 'Tulip']\n",
            "['Tulip', 'Sunflower', 'Orchid', 'Daisy']\n",
            "[]\n"
          ]
        }
      ]
    },
    {
      "cell_type": "code",
      "source": [
        "#DICTIONARY DATATYLE\n",
        "\n",
        "student={'Name':'Ysabel', 'id':'2022500','Course':'Creative Computing'} #dictionary\n",
        "print(student)\n",
        "print(student['Name']) #key\n",
        "print(student['id']) #key\n",
        "print(student['Course']) #key"
      ],
      "metadata": {
        "colab": {
          "base_uri": "https://localhost:8080/"
        },
        "id": "Dh-OLxnQVvaV",
        "outputId": "a196c187-c1de-41d8-ce17-13d48c333ed1"
      },
      "execution_count": null,
      "outputs": [
        {
          "output_type": "stream",
          "name": "stdout",
          "text": [
            "{'Name': 'Ysabel', 'id': '2022500', 'Course': 'Creative Computing'}\n",
            "Ysabel\n",
            "2022500\n",
            "Creative Computing\n"
          ]
        }
      ]
    }
  ]
}