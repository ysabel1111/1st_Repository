{
  "nbformat": 4,
  "nbformat_minor": 0,
  "metadata": {
    "colab": {
      "provenance": [],
      "authorship_tag": "ABX9TyNYigoZzsF2fZ/iNVFSDeG2",
      "include_colab_link": true
    },
    "kernelspec": {
      "name": "python3",
      "display_name": "Python 3"
    },
    "language_info": {
      "name": "python"
    }
  },
  "cells": [
    {
      "cell_type": "markdown",
      "metadata": {
        "id": "view-in-github",
        "colab_type": "text"
      },
      "source": [
        "<a href=\"https://colab.research.google.com/github/ysabel1111/1st_Repository/blob/main/ADDITIONALEXERCISE/loop.ipynb\" target=\"_parent\"><img src=\"https://colab.research.google.com/assets/colab-badge.svg\" alt=\"Open In Colab\"/></a>"
      ]
    },
    {
      "cell_type": "code",
      "execution_count": null,
      "metadata": {
        "colab": {
          "base_uri": "https://localhost:8080/"
        },
        "id": "rnmE3U3_3atn",
        "outputId": "60a1c946-a7a4-4835-ee15-bf913e27635d"
      },
      "outputs": [
        {
          "output_type": "stream",
          "name": "stdout",
          "text": [
            "1\n",
            "2\n",
            "3\n",
            "4\n",
            "5\n",
            "6\n",
            "7\n",
            "8\n",
            "9\n",
            "10\n"
          ]
        }
      ],
      "source": [
        "#Using while loop, print 1 to 10 using while loop\n",
        "count=1\n",
        "while count<=10:\n",
        "  print(count)\n",
        "  count=count+1"
      ]
    },
    {
      "cell_type": "code",
      "source": [
        "#Using while loop, print 1 to 10 using while loop\n",
        "count=1\n",
        "while count<=10:\n",
        "  print(count)\n",
        "  count+=1"
      ],
      "metadata": {
        "colab": {
          "base_uri": "https://localhost:8080/"
        },
        "id": "aSvz6Map4PmU",
        "outputId": "844e8d40-3b7b-4106-9978-7f2c8f6d6b2a"
      },
      "execution_count": null,
      "outputs": [
        {
          "output_type": "stream",
          "name": "stdout",
          "text": [
            "1\n",
            "2\n",
            "3\n",
            "4\n",
            "5\n",
            "6\n",
            "7\n",
            "8\n",
            "9\n",
            "10\n"
          ]
        }
      ]
    },
    {
      "cell_type": "code",
      "source": [
        "#Using while loop, print 1 to 10 using while loop\n",
        "count=2\n",
        "while count<=10:\n",
        "  print(count)\n",
        "  count+=2"
      ],
      "metadata": {
        "colab": {
          "base_uri": "https://localhost:8080/"
        },
        "id": "XRpTO4Vm45xr",
        "outputId": "bb44c59d-2973-4223-c8dc-e0314043ded8"
      },
      "execution_count": null,
      "outputs": [
        {
          "output_type": "stream",
          "name": "stdout",
          "text": [
            "2\n",
            "4\n",
            "6\n",
            "8\n",
            "10\n"
          ]
        }
      ]
    },
    {
      "cell_type": "code",
      "source": [
        "#places they love to visit\n",
        "city_name='\\nEnter the name of the city that you would love to visit: '\n",
        "city_name+='\\nEnter quit when you are finished'\n",
        "while True:\n",
        "  city=input(city_name)\n",
        "\n",
        "  if city=='quit':\n",
        "    break\n",
        "  else:\n",
        "    print('I would love to go to', city.title(),'!')\n"
      ],
      "metadata": {
        "colab": {
          "base_uri": "https://localhost:8080/"
        },
        "id": "SWMUjeAa4h_7",
        "outputId": "0c29f5e2-5197-4085-ca27-2f6fcd8c1746"
      },
      "execution_count": null,
      "outputs": [
        {
          "name": "stdout",
          "output_type": "stream",
          "text": [
            "\n",
            "Enter the name of the city that you would love to visit: \n",
            "Enter quit when you are finishedtokyo\n",
            "I would love to go to Tokyo !\n",
            "\n",
            "Enter the name of the city that you would love to visit: \n",
            "Enter quit when you are finishedquit\n"
          ]
        }
      ]
    },
    {
      "cell_type": "code",
      "source": [
        "city_name = \"\\nPlease enter the name of a city you have visited:\"\n",
        "city_name += \"\\n(Enter 'quit' when you are finished.) \"\n",
        "\n",
        "while True:\n",
        "  city = input(city_name)\n",
        "  if city == 'quit':\n",
        "              break\n",
        "  else:\n",
        "    print(\"I'd love to go to \" + city.title() + \"!\")"
      ],
      "metadata": {
        "colab": {
          "base_uri": "https://localhost:8080/"
        },
        "id": "L_i0OQDK7PeW",
        "outputId": "4b60b5b5-8fc1-4929-fcc0-522815cfdf94"
      },
      "execution_count": null,
      "outputs": [
        {
          "name": "stdout",
          "output_type": "stream",
          "text": [
            "\n",
            "Please enter the name of a city you have visited:\n",
            "(Enter 'quit' when you are finished.) Tokyo\n",
            "I'd love to go to Tokyo!\n",
            "\n",
            "Please enter the name of a city you have visited:\n",
            "(Enter 'quit' when you are finished.) Bangkok\n",
            "I'd love to go to Bangkok!\n",
            "\n",
            "Please enter the name of a city you have visited:\n",
            "(Enter 'quit' when you are finished.) quit\n"
          ]
        }
      ]
    },
    {
      "cell_type": "code",
      "source": [
        "#While loop -continue\n",
        "\n",
        "count=0\n",
        "while count<10:\n",
        "  count+=1\n",
        "  if count%2==0:\n",
        "    continue\n",
        "  print(count)\n",
        "else:\n",
        "  print('Loop terminated as number exceeds 10')"
      ],
      "metadata": {
        "colab": {
          "base_uri": "https://localhost:8080/"
        },
        "id": "fxGbK01z9bNV",
        "outputId": "b437cbc4-edeb-401b-b1ac-12b11c5138df"
      },
      "execution_count": null,
      "outputs": [
        {
          "output_type": "stream",
          "name": "stdout",
          "text": [
            "1\n",
            "3\n",
            "5\n",
            "7\n",
            "9\n",
            "Loop terminated as number exceeds 10\n"
          ]
        }
      ]
    },
    {
      "cell_type": "code",
      "source": [
        "#while loop-continue\n",
        "\n",
        "odd_numbers = 0\n",
        "while odd_numbers < 10:\n",
        "  odd_numbers += 1\n",
        "  if odd_numbers % 2 == 0:\n",
        "    continue\n",
        "  print(odd_numbers)\n",
        "else:\n",
        "  print('Loop terminated as number exceeds 10')"
      ],
      "metadata": {
        "colab": {
          "base_uri": "https://localhost:8080/"
        },
        "id": "dX3KyF2w-e67",
        "outputId": "d9bda994-694d-412f-a558-b7768b3791ea"
      },
      "execution_count": null,
      "outputs": [
        {
          "output_type": "stream",
          "name": "stdout",
          "text": [
            "1\n",
            "3\n",
            "5\n",
            "7\n",
            "9\n",
            "Loop terminated as number exceeds 10\n"
          ]
        }
      ]
    },
    {
      "cell_type": "code",
      "source": [
        "#list datatype using -For loop\n",
        "\n",
        "\n",
        "flowers=['rose','jasmine','lily','poppy']\n",
        "for flower in flowers:\n",
        "  print(flower)"
      ],
      "metadata": {
        "colab": {
          "base_uri": "https://localhost:8080/"
        },
        "id": "SL3TvqMsALku",
        "outputId": "285a44de-42dd-4d69-a9ea-cfab95a70b67"
      },
      "execution_count": null,
      "outputs": [
        {
          "output_type": "stream",
          "name": "stdout",
          "text": [
            "rose\n",
            "jasmine\n",
            "lily\n",
            "poppy\n"
          ]
        }
      ]
    },
    {
      "cell_type": "code",
      "source": [
        "cars =['toyota','audi','hyundai','mitsubishi']\n",
        "for car in cars:\n",
        "  print(car)"
      ],
      "metadata": {
        "colab": {
          "base_uri": "https://localhost:8080/"
        },
        "id": "PKV10is7AnLD",
        "outputId": "5501bd92-2d63-4854-9e8b-125ba24e681a"
      },
      "execution_count": null,
      "outputs": [
        {
          "output_type": "stream",
          "name": "stdout",
          "text": [
            "toyota\n",
            "audi\n",
            "hyundai\n",
            "mitsubishi\n"
          ]
        }
      ]
    },
    {
      "cell_type": "code",
      "source": [
        "#disctionary data-type of a student wih name, id, and course\n",
        "\n",
        "student={'First Name':'Taylor', 'Last Name':'Swift', 'ID':'500','Course':'BSC CC'}\n",
        "print(student)\n",
        "print(student['First Name'])\n",
        "print(student['Last Name'])\n",
        "print(student['ID'])\n",
        "print(student['Course'])"
      ],
      "metadata": {
        "colab": {
          "base_uri": "https://localhost:8080/"
        },
        "id": "nGpvP0vQEE0-",
        "outputId": "7050b3a3-5740-4736-de2c-e23d8d36a19b"
      },
      "execution_count": null,
      "outputs": [
        {
          "output_type": "stream",
          "name": "stdout",
          "text": [
            "{'First Name': 'Taylor', 'Last Name': 'Swift', 'ID': '500', 'Course': 'BS CC'}\n",
            "Taylor\n",
            "Swift\n",
            "500\n",
            "BS CC\n"
          ]
        }
      ]
    },
    {
      "cell_type": "code",
      "source": [
        "#F means format- to break\n",
        "#keys means given\n",
        "#value means answer\n",
        "\n",
        "student = {'name': 'Ben Ten', 'id': 10, 'course': 'BSC CC'}\n",
        "print('Display key-value pairs')\n",
        "\n",
        "for key, value in student.items(): #Reads all items\n",
        "  print(f\"\\nKey: {key}\")\n",
        "  print(f\"Value: {value}\")\n",
        "\n",
        "print('\\nDisplay only keys')\n",
        "for key in student.keys(): #Selects only keys\n",
        "  print(key)\n",
        "\n",
        "print('\\nDisplay only values')\n",
        "for value in student.values(): #Selects only values\n",
        "  print(value)\n",
        "\n",
        "\n",
        "\n"
      ],
      "metadata": {
        "colab": {
          "base_uri": "https://localhost:8080/"
        },
        "id": "u3Tm_K0FEn4_",
        "outputId": "1a6ad6d4-1bd7-446a-aa12-ece06d1c28dc"
      },
      "execution_count": null,
      "outputs": [
        {
          "output_type": "stream",
          "name": "stdout",
          "text": [
            "Display key-value pairs\n",
            "\n",
            "Key: name\n",
            "Value: Ben Ten\n",
            "\n",
            "Key: id\n",
            "Value: 10\n",
            "\n",
            "Key: course\n",
            "Value: BSC CC\n",
            "\n",
            "Display only keys\n",
            "name\n",
            "id\n",
            "course\n",
            "\n",
            "Display only values\n",
            "Ben Ten\n",
            "10\n",
            "BSC CC\n"
          ]
        }
      ]
    },
    {
      "cell_type": "code",
      "source": [
        "student = {'name': 'Ben Ten','id': '10', 'course': 'BSC CC'}\n",
        "print('Display key-value pairs')\n",
        "for key, value in student.items():\n",
        "  print(f\"\\nKey: {key}\")\n",
        "  print(f\"Value: {value}\")\n",
        "\n",
        "student['gender'] = 'Male'\n",
        "print(student)\n"
      ],
      "metadata": {
        "colab": {
          "base_uri": "https://localhost:8080/"
        },
        "id": "8YB-HTfkJaXJ",
        "outputId": "1d31f858-5751-4bef-f7e5-84f4cbfbdca7"
      },
      "execution_count": null,
      "outputs": [
        {
          "output_type": "stream",
          "name": "stdout",
          "text": [
            "Display key-value pairs\n",
            "\n",
            "Key: name\n",
            "Value: Ben Ten\n",
            "\n",
            "Key: id\n",
            "Value: 10\n",
            "\n",
            "Key: course\n",
            "Value: BSC CC\n",
            "{'name': 'Ben Ten', 'id': '10', 'course': 'BSC CC', 'gender': 'Male'}\n"
          ]
        }
      ]
    },
    {
      "cell_type": "code",
      "source": [
        "student = {'name': 'Wild Flower', 'id': 10, 'course':'BSC CC'}\n",
        "print('Display key-value pairs')\n",
        "for key, value in student.items():\n",
        "  print(f\"\\nKey: {key}\")\n",
        "  print(f\"Value: {value}\")\n",
        "\n",
        "student['gender']='Male'\n",
        "print(student)"
      ],
      "metadata": {
        "colab": {
          "base_uri": "https://localhost:8080/"
        },
        "id": "eI5FAu3mMnRT",
        "outputId": "fc26e7d8-78e8-4cbd-b1bb-d69c8aa4e846"
      },
      "execution_count": null,
      "outputs": [
        {
          "output_type": "stream",
          "name": "stdout",
          "text": [
            "Display key-value pairs\n",
            "\n",
            "Key: name\n",
            "Value: Wild Flower\n",
            "\n",
            "Key: id\n",
            "Value: 10\n",
            "\n",
            "Key: course\n",
            "Value: BSC CC\n",
            "{'name': 'Wild Flower', 'id': 10, 'course': 'BSC CC', 'gender': 'Male'}\n"
          ]
        }
      ]
    },
    {
      "cell_type": "code",
      "source": [
        "student1 = {'name' : 'Pat', 'id': '5', 'course': 'BSC CC'}\n",
        "student2 = {'name' : 'Krunch', 'id': '10', 'course': 'BSC CC'}\n",
        "student3 = {'name' : 'Charls', 'id': '15', 'course': 'BSC CC'}\n",
        "student4 = {'name' : 'Renzie', 'id': '20', 'course': 'BSC CC'}\n",
        "student = [student1,student2,student3,student4]\n",
        "for std in student:\n",
        "  print(std)"
      ],
      "metadata": {
        "colab": {
          "base_uri": "https://localhost:8080/"
        },
        "id": "TKssccwJJeXd",
        "outputId": "2f705391-7369-4729-d487-0c2e10b85f3e"
      },
      "execution_count": null,
      "outputs": [
        {
          "output_type": "stream",
          "name": "stdout",
          "text": [
            "{'name': 'Pat', 'id': '5', 'course': 'BSC CC'}\n",
            "{'name': 'Krunch', 'id': '10', 'course': 'BSC CC'}\n",
            "{'name': 'Charls', 'id': '15', 'course': 'BSC CC'}\n",
            "{'name': 'Renzie', 'id': '20', 'course': 'BSC CC'}\n"
          ]
        }
      ]
    },
    {
      "cell_type": "code",
      "source": [
        "#exercises\n",
        "\n",
        "sandwich_orders=['veggie', 'grilled cheese','turkey','tuna']\n",
        "finished_sandwiches=[]\n",
        "\n",
        "while sandwich_orders:\n",
        "  current_sandwich=sandwich_orders.pop()\n",
        "  print(\"I made your \" + current_sandwich + \" sandwich.\")\n",
        "  finished_sandwiches.append(current_sandwich)\n",
        "\n",
        "print(\"\\n\")\n",
        "print('Sandwich Orders:')\n",
        "for sandwich in finished_sandwiches:\n",
        "    print(sandwich, 'Sandwich')"
      ],
      "metadata": {
        "colab": {
          "base_uri": "https://localhost:8080/"
        },
        "id": "rfzROQNeKZ8T",
        "outputId": "32575eb0-f14e-4345-d4f7-b963ebf2bfc3"
      },
      "execution_count": null,
      "outputs": [
        {
          "output_type": "stream",
          "name": "stdout",
          "text": [
            "I made your tuna sandwich.\n",
            "I made your turkey sandwich.\n",
            "I made your grilled cheese sandwich.\n",
            "I made your veggie sandwich.\n",
            "\n",
            "\n",
            "Sandwich Orders:\n",
            "tuna Sandwich\n",
            "turkey Sandwich\n",
            "grilled cheese Sandwich\n",
            "veggie Sandwich\n"
          ]
        }
      ]
    }
  ]
}