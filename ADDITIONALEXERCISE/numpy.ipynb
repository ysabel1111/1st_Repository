{
  "nbformat": 4,
  "nbformat_minor": 0,
  "metadata": {
    "colab": {
      "provenance": [],
      "authorship_tag": "ABX9TyNvDUAofZ+/mnm+YhDLWTtC",
      "include_colab_link": true
    },
    "kernelspec": {
      "name": "python3",
      "display_name": "Python 3"
    },
    "language_info": {
      "name": "python"
    }
  },
  "cells": [
    {
      "cell_type": "markdown",
      "metadata": {
        "id": "view-in-github",
        "colab_type": "text"
      },
      "source": [
        "<a href=\"https://colab.research.google.com/github/ysabel1111/1st_Repository/blob/main/ADDITIONALEXERCISE/numpy.ipynb\" target=\"_parent\"><img src=\"https://colab.research.google.com/assets/colab-badge.svg\" alt=\"Open In Colab\"/></a>"
      ]
    },
    {
      "cell_type": "code",
      "execution_count": null,
      "metadata": {
        "id": "umjh-gXaPcO9",
        "colab": {
          "base_uri": "https://localhost:8080/"
        },
        "outputId": "d7cf40b7-7043-465b-b16d-a054c2c4eb14"
      },
      "outputs": [
        {
          "output_type": "stream",
          "name": "stdout",
          "text": [
            "Largest Number is:  55\n",
            "Largest Number in Index Position is:  4\n"
          ]
        }
      ],
      "source": [
        "#Get the largest number and index position of the largest number in the array\n",
        "import numpy as np\n",
        "\n",
        "number = np.array([11, 8, 29, 10, 55])\n",
        "largest = number [0]\n",
        "index = 0\n",
        "\n",
        "for i in range (len(number)):\n",
        "  if largest < number[i]:\n",
        "    largest = number[i]\n",
        "    index = i \n",
        "\n",
        "print(\"Largest Number is: \", largest)\n",
        "print(\"Largest Number in Index Position is: \", index)\n",
        "  \n",
        "\n",
        "\n",
        "\n"
      ]
    },
    {
      "cell_type": "code",
      "source": [
        "import numpy as np\n",
        "\n",
        "number = np.array([8,55,10,29])\n",
        "largest = number[0]\n",
        "index = 0\n",
        "\n",
        "for i in range(1, len(number)-1):\n",
        " if (largest <number[i]):\n",
        "  largest = number[i]\n",
        "  index = i\n",
        "\n",
        "print(\"Largest Number in Array is: \", largest)\n",
        "print(\"Largest Number in Index Position is: \", index)"
      ],
      "metadata": {
        "colab": {
          "base_uri": "https://localhost:8080/"
        },
        "id": "0B9SE5JQWMVB",
        "outputId": "81316491-1210-49ee-ed01-bd2c2560dfbe"
      },
      "execution_count": null,
      "outputs": [
        {
          "output_type": "stream",
          "name": "stdout",
          "text": [
            "Largest Number in Array is:  55\n",
            "Largest Number in Index Position is:  1\n"
          ]
        }
      ]
    },
    {
      "cell_type": "code",
      "source": [
        "#Print the even positions in the array\n",
        "\n",
        "import numpy as np\n",
        "\n",
        "number = np.array ([1,2,3,4,5,6,7,8,9,10])\n",
        "\n",
        "for i in range(1, len(number), 2):\n",
        "  print(number[i], end = ' ')\n",
        "  "
      ],
      "metadata": {
        "colab": {
          "base_uri": "https://localhost:8080/"
        },
        "id": "fL1oUG-AZQlF",
        "outputId": "27da2a11-d2f8-44e2-991c-e252c5d31544"
      },
      "execution_count": null,
      "outputs": [
        {
          "output_type": "stream",
          "name": "stdout",
          "text": [
            "2 4 6 8 10 "
          ]
        }
      ]
    },
    {
      "cell_type": "code",
      "source": [
        "#even position in array position\n",
        "\n",
        "import numpy as np\n",
        "\n",
        "number= np.array([1,2,3,4,5,6,7,8,9,10])\n",
        "i = 0\n",
        "\n",
        "while i < len(number):\n",
        "  print(number[i], end = ' ')\n",
        "  i = i + 2"
      ],
      "metadata": {
        "colab": {
          "base_uri": "https://localhost:8080/"
        },
        "id": "7Rn5gWZxbffl",
        "outputId": "60663e38-a379-4d2a-c3be-67dcfc6bc3ee"
      },
      "execution_count": null,
      "outputs": [
        {
          "output_type": "stream",
          "name": "stdout",
          "text": [
            "1 3 5 7 9 "
          ]
        }
      ]
    },
    {
      "cell_type": "code",
      "source": [
        "#Odd position in array position\n",
        "\n",
        "import numpy as np\n",
        "\n",
        "number= np.array([5,10,15,20,25,30])\n",
        "i = 1\n",
        "while i <len(number):\n",
        "  print(number[i], end = ' ')\n",
        "  i = i + 2"
      ],
      "metadata": {
        "colab": {
          "base_uri": "https://localhost:8080/"
        },
        "id": "G05UkRWpcCe7",
        "outputId": "4f90df49-2033-47e5-bb5b-f0fd72c7f05c"
      },
      "execution_count": null,
      "outputs": [
        {
          "output_type": "stream",
          "name": "stdout",
          "text": [
            "10 20 30 "
          ]
        }
      ]
    },
    {
      "cell_type": "code",
      "source": [
        "#Odd position in array position\n",
        "\n",
        "import numpy as np\n",
        "\n",
        "number = np.array([5,10,15,20,25,30])\n",
        "\n",
        "for i in range(0, len(number), 2):\n",
        "  print(number[i], end = ' ')"
      ],
      "metadata": {
        "colab": {
          "base_uri": "https://localhost:8080/"
        },
        "id": "gZ18NRWUcYox",
        "outputId": "b64c4a4a-c78e-48e1-ee3e-973282efb320"
      },
      "execution_count": null,
      "outputs": [
        {
          "output_type": "stream",
          "name": "stdout",
          "text": [
            "5 15 25 "
          ]
        }
      ]
    },
    {
      "cell_type": "code",
      "source": [
        "#Sorting Array in descending order\n",
        "\n",
        "import numpy as np\n",
        "\n",
        "number = np.array([5,20,56,44,1,39,80])\n",
        "print(\"Original array order: \", number)\n",
        "\n",
        "number = np.sort(number)[::-1]'?-\n",
        "print(\"Descending Sorted Array Order:  \", number)"
      ],
      "metadata": {
        "colab": {
          "base_uri": "https://localhost:8080/"
        },
        "id": "GfGJhWuic_HS",
        "outputId": "d733140b-cd6c-4f32-9f13-b056568e066f"
      },
      "execution_count": null,
      "outputs": [
        {
          "output_type": "stream",
          "name": "stdout",
          "text": [
            "Original array order:  [ 5 20 56 44  1 39 80]\n",
            "Descending Sorted Array Order:   [80 56 44 39 20  5  1]\n"
          ]
        }
      ]
    },
    {
      "cell_type": "code",
      "source": [
        "#Sorting Array in descending order\n",
        "import numpy as np\n",
        "\n",
        "number = np.array([5,20,56,44,1,39,80])\n",
        "print(\"Original Array: \", number)\n",
        "\n",
        "length = len(number)\n",
        "for i in range(length):\n",
        "  for j in range( i +1, length):\n",
        "    if (number[i] < number[j]):\n",
        "      sort = number[i]\n",
        "      number[i] = number[j]\n",
        "      number[j] = sort\n",
        "print(\"Descending Sorted Array Order: \", number)"
      ],
      "metadata": {
        "colab": {
          "base_uri": "https://localhost:8080/"
        },
        "id": "A1eL4s40ee8u",
        "outputId": "31f8ac7e-9e4e-4109-e009-e523856d0ba5"
      },
      "execution_count": 1,
      "outputs": [
        {
          "output_type": "stream",
          "name": "stdout",
          "text": [
            "Original Array:  [ 5 20 56 44  1 39 80]\n",
            "Descending Sorted Array Order:  [80 56 44 39 20  5  1]\n"
          ]
        }
      ]
    }
  ]
}