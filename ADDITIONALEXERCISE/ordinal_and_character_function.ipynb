{
  "nbformat": 4,
  "nbformat_minor": 0,
  "metadata": {
    "colab": {
      "provenance": [],
      "authorship_tag": "ABX9TyMkHIhYN4ytVKeN8HYcn+gR",
      "include_colab_link": true
    },
    "kernelspec": {
      "name": "python3",
      "display_name": "Python 3"
    },
    "language_info": {
      "name": "python"
    }
  },
  "cells": [
    {
      "cell_type": "markdown",
      "metadata": {
        "id": "view-in-github",
        "colab_type": "text"
      },
      "source": [
        "<a href=\"https://colab.research.google.com/github/ysabel1111/1st_Repository/blob/main/ADDITIONALEXERCISE/ordinal_and_character_function.ipynb\" target=\"_parent\"><img src=\"https://colab.research.google.com/assets/colab-badge.svg\" alt=\"Open In Colab\"/></a>"
      ]
    },
    {
      "cell_type": "markdown",
      "source": [
        "CAPITAL CASES"
      ],
      "metadata": {
        "id": "m-0uo3XHBvlp"
      }
    },
    {
      "cell_type": "code",
      "source": [
        "#Using Ordinal Function for A,B,C,D,E to represent its numeric value.\n",
        "print('The ordinal value of capital A,B,C,D,E is') \n",
        "print(ord('A'),ord('B'),ord('C'),ord('D'),ord('E'))\n"
      ],
      "metadata": {
        "colab": {
          "base_uri": "https://localhost:8080/"
        },
        "id": "UxNR_3Xz5ArS",
        "outputId": "8c5d6284-66cf-4164-af80-c432644028b1"
      },
      "execution_count": null,
      "outputs": [
        {
          "output_type": "stream",
          "name": "stdout",
          "text": [
            "The ordinal value of capital A,B,C,D,E is\n",
            "65 66 67 68 69\n"
          ]
        }
      ]
    },
    {
      "cell_type": "code",
      "source": [
        "#Using Ordinal Function for F,G,H,I,J to represent its numeric value.\n",
        "print('The ordinal value of capital F,G,H,I,J is') \n",
        "print(ord('F'),ord('G'),ord('H'),ord('I'),ord('J'))"
      ],
      "metadata": {
        "colab": {
          "base_uri": "https://localhost:8080/"
        },
        "id": "RHuEQq1KAZqF",
        "outputId": "351e42a4-a0e8-439f-8e05-4c877f7945af"
      },
      "execution_count": null,
      "outputs": [
        {
          "output_type": "stream",
          "name": "stdout",
          "text": [
            "The ordinal value of capital F,G,H,I,J is\n",
            "70 71 72 73 74\n"
          ]
        }
      ]
    },
    {
      "cell_type": "code",
      "source": [
        "#Using Ordinal Function for K,L,M,N,O to represent its numeric value.\n",
        "print('The ordinal value of capital K,L,M,N,O is') \n",
        "print(ord('K'),ord('L'),ord('M'),ord('N'),ord('O'))"
      ],
      "metadata": {
        "colab": {
          "base_uri": "https://localhost:8080/"
        },
        "id": "O0_9I6YfAmJM",
        "outputId": "bfef1bc2-53cc-497f-9cc6-c7def4fa7c77"
      },
      "execution_count": null,
      "outputs": [
        {
          "output_type": "stream",
          "name": "stdout",
          "text": [
            "The ordinal value of capital K,L,M,N,O is\n",
            "75 76 77 78 79\n"
          ]
        }
      ]
    },
    {
      "cell_type": "code",
      "source": [
        "#Using Ordinal Function for P,Q,R,S,T to represent its numeric value.\n",
        "print('The ordinal value of capital P,Q,R,S,T is') \n",
        "print(ord('P'),ord('Q'),ord('R'),ord('S'),ord('T'))"
      ],
      "metadata": {
        "colab": {
          "base_uri": "https://localhost:8080/"
        },
        "id": "ZHswyF1hAq4A",
        "outputId": "90cf5939-de96-42f5-f7bf-80bd1d0b13e0"
      },
      "execution_count": null,
      "outputs": [
        {
          "output_type": "stream",
          "name": "stdout",
          "text": [
            "The ordinal value of capital P,Q,R,S,T is\n",
            "80 81 82 83 84\n"
          ]
        }
      ]
    },
    {
      "cell_type": "code",
      "source": [
        "#Using Ordinal Function for U,V,W,X,Y to represent its numeric value.\n",
        "print('The ordinal value of capital U,V,W,X,Y is') \n",
        "print(ord('U'),ord('V'),ord('W'),ord('X'),ord('Y'))"
      ],
      "metadata": {
        "colab": {
          "base_uri": "https://localhost:8080/"
        },
        "id": "B5NdahyhArJ-",
        "outputId": "1ff39bc0-5d5d-4e37-e79b-ef83aec35b38"
      },
      "execution_count": null,
      "outputs": [
        {
          "output_type": "stream",
          "name": "stdout",
          "text": [
            "The ordinal value of capital U,V,W,X,Y is\n",
            "85 86 87 88 89\n"
          ]
        }
      ]
    },
    {
      "cell_type": "code",
      "source": [
        "#Using Ordinal Function for X,Y,Z,A,B to represent its numeric value.\n",
        "print('The ordinal value of capital X,Y,Z,A,B is') \n",
        "print(ord('X'),ord('Y'),ord('Z'),ord('A'),ord('B'))"
      ],
      "metadata": {
        "colab": {
          "base_uri": "https://localhost:8080/"
        },
        "id": "YvwcFHWRArT5",
        "outputId": "138b65c0-c40b-41d4-d8f6-88b93b1714ef"
      },
      "execution_count": null,
      "outputs": [
        {
          "output_type": "stream",
          "name": "stdout",
          "text": [
            "The ordinal value of capital X,Y,Z,A,B is\n",
            "88 89 90 65 66\n"
          ]
        }
      ]
    },
    {
      "cell_type": "markdown",
      "source": [
        "SMALL CASES"
      ],
      "metadata": {
        "id": "1nFZJcAyBspL"
      }
    },
    {
      "cell_type": "code",
      "source": [
        "#Using Character Function for a,b,c,d,e to represent its character.\n",
        "print('The character of number 65,66,67,68,69 is') \n",
        "print(chr(97),chr(98),chr(99),chr(100),chr(101))"
      ],
      "metadata": {
        "colab": {
          "base_uri": "https://localhost:8080/"
        },
        "id": "xuPn3FNI6UWG",
        "outputId": "3dad459f-05d7-4b77-e316-de7cc7e907d3"
      },
      "execution_count": null,
      "outputs": [
        {
          "output_type": "stream",
          "name": "stdout",
          "text": [
            "The character of number 65,66,67,68,69 is\n",
            "a b c d e\n"
          ]
        }
      ]
    },
    {
      "cell_type": "code",
      "source": [
        "#Using Character Function for f,g,h,i,j to represent its character.\n",
        "print('The character of number 65,66,67,68,69 is') \n",
        "print(chr(97),chr(98),chr(99),chr(100),chr(101))"
      ],
      "metadata": {
        "colab": {
          "base_uri": "https://localhost:8080/"
        },
        "id": "tDBgO8IKB2J_",
        "outputId": "29eac29f-ecad-43e1-b212-071ec3657242"
      },
      "execution_count": null,
      "outputs": [
        {
          "output_type": "stream",
          "name": "stdout",
          "text": [
            "The character of number 65,66,67,68,69 is\n",
            "a b c d e\n"
          ]
        }
      ]
    },
    {
      "cell_type": "code",
      "source": [
        "#Using Character Function for k,lm,n,o to represent its character.\n",
        "print('The character of number 65,66,67,68,69 is') \n",
        "print(chr(107),chr(108),chr(109),chr(110),chr(111))"
      ],
      "metadata": {
        "colab": {
          "base_uri": "https://localhost:8080/"
        },
        "id": "W3mPSLWTB2We",
        "outputId": "90384ae3-e7e4-481e-c14e-c7f384a08aaa"
      },
      "execution_count": null,
      "outputs": [
        {
          "output_type": "stream",
          "name": "stdout",
          "text": [
            "The character of number 65,66,67,68,69 is\n",
            "k l m n o\n"
          ]
        }
      ]
    },
    {
      "cell_type": "code",
      "source": [
        "#Using Character Function for p,q,r,s,t to represent its character.\n",
        "print('The character of number 65,66,67,68,69 is') \n",
        "print(chr(112),chr(113),chr(114),chr(115),chr(116))"
      ],
      "metadata": {
        "colab": {
          "base_uri": "https://localhost:8080/"
        },
        "id": "WHTGZhHdB2fO",
        "outputId": "6bbf5e1e-da6b-41b7-8bc8-a3ae2e42bbeb"
      },
      "execution_count": null,
      "outputs": [
        {
          "output_type": "stream",
          "name": "stdout",
          "text": [
            "The character of number 65,66,67,68,69 is\n",
            "p q r s t\n"
          ]
        }
      ]
    },
    {
      "cell_type": "code",
      "source": [
        "#Using Character Function for u,v,w,x,y to represent its character.\n",
        "print('The character of number 65,66,67,68,69 is') \n",
        "print(chr(117),chr(118),chr(119),chr(120),chr(121))"
      ],
      "metadata": {
        "colab": {
          "base_uri": "https://localhost:8080/"
        },
        "id": "Uf_lAU4fB2rn",
        "outputId": "05b36a63-3dc8-4cde-f82d-c6387e18b94f"
      },
      "execution_count": null,
      "outputs": [
        {
          "output_type": "stream",
          "name": "stdout",
          "text": [
            "The character of number 65,66,67,68,69 is\n",
            "u v w x y\n"
          ]
        }
      ]
    },
    {
      "cell_type": "code",
      "source": [
        "#Using Character Function for x,y,z,a,b to represent its character.\n",
        "print('The character of number 65,66,67,68,69 is') \n",
        "print(chr(120),chr(121),chr(122),chr(97),chr(98))"
      ],
      "metadata": {
        "colab": {
          "base_uri": "https://localhost:8080/"
        },
        "id": "79EgM_niB25m",
        "outputId": "3f33e761-12d7-437e-8e1f-449298410ad7"
      },
      "execution_count": null,
      "outputs": [
        {
          "output_type": "stream",
          "name": "stdout",
          "text": [
            "The character of number 65,66,67,68,69 is\n",
            "x y z a b\n"
          ]
        }
      ]
    },
    {
      "cell_type": "markdown",
      "source": [
        "BIN FOR CAPITAL CASES"
      ],
      "metadata": {
        "id": "noHYmpeSDOCs"
      }
    },
    {
      "cell_type": "code",
      "source": [
        "#Using bin Function for the binary of A,B,C,D,E.\n",
        "print('The binary value of A,B,C,D,E is')\n",
        "print(bin(65),bin(66),bin(67),bin(68),bin(69))"
      ],
      "metadata": {
        "colab": {
          "base_uri": "https://localhost:8080/"
        },
        "id": "jVL5gZ0rHbsK",
        "outputId": "0bab764a-49dd-47e5-af17-84cf626ade5b"
      },
      "execution_count": null,
      "outputs": [
        {
          "output_type": "stream",
          "name": "stdout",
          "text": [
            "The binary value of A,B,C,D,E is\n",
            "0b1000001 0b1000010 0b1000011 0b1000100 0b1000101\n"
          ]
        }
      ]
    },
    {
      "cell_type": "code",
      "source": [
        "#Using bin Function for the binary of F,G,H,I,J.\n",
        "print('The binary value of F,G,H,I,J is')\n",
        "print(bin(70),bin(71),bin(72),bin(73),bin(74))"
      ],
      "metadata": {
        "colab": {
          "base_uri": "https://localhost:8080/"
        },
        "id": "3YBJYSSCCaIk",
        "outputId": "b3a720e0-1bbb-4c53-a24e-94ba79e67667"
      },
      "execution_count": null,
      "outputs": [
        {
          "output_type": "stream",
          "name": "stdout",
          "text": [
            "The binary value of F,G,H,I,J is\n",
            "0b1000110 0b1000111 0b1001000 0b1001001 0b1001010\n"
          ]
        }
      ]
    },
    {
      "cell_type": "code",
      "source": [
        "#Using bin Function for the binary of K,L,M,N,O.\n",
        "print('The binary value of K,L,M,N,O is')\n",
        "print(bin(75),bin(76),bin(77),bin(78),bin(79))"
      ],
      "metadata": {
        "colab": {
          "base_uri": "https://localhost:8080/"
        },
        "id": "v6qVidZRDaBV",
        "outputId": "f70813ea-b230-4a07-ae09-5369053aee1f"
      },
      "execution_count": null,
      "outputs": [
        {
          "output_type": "stream",
          "name": "stdout",
          "text": [
            "The binary value of K,L,M,N,O is\n",
            "0b1001011 0b1001100 0b1001101 0b1001110 0b1001111\n"
          ]
        }
      ]
    },
    {
      "cell_type": "code",
      "source": [
        "#Using bin Function for the binary of P,Q,R,S,T.\n",
        "print('The binary value of P,Q,R,S,T is')\n",
        "print(bin(80),bin(81),bin(82),bin(83),bin(84))"
      ],
      "metadata": {
        "colab": {
          "base_uri": "https://localhost:8080/"
        },
        "id": "YTTrVG8LDaSq",
        "outputId": "2e5176cf-ed42-4d11-f435-66efa7591e99"
      },
      "execution_count": null,
      "outputs": [
        {
          "output_type": "stream",
          "name": "stdout",
          "text": [
            "The binary value of P,Q,R,S,T is\n",
            "0b1010000 0b1010001 0b1010010 0b1010011 0b1010100\n"
          ]
        }
      ]
    },
    {
      "cell_type": "code",
      "source": [
        "#Using bin Function for the binary of U,V,W,X,Y.\n",
        "print('The binary value of U,V,W,X,Y is')\n",
        "print(bin(85),bin(86),bin(87),bin(88),bin(89))"
      ],
      "metadata": {
        "colab": {
          "base_uri": "https://localhost:8080/"
        },
        "id": "4tBPfsz1DaWP",
        "outputId": "533a185a-061d-49ff-846b-03e3ef38af77"
      },
      "execution_count": null,
      "outputs": [
        {
          "output_type": "stream",
          "name": "stdout",
          "text": [
            "The binary value of U,V,W,X,Y is\n",
            "0b1010101 0b1010110 0b1010111 0b1011000 0b1011001\n"
          ]
        }
      ]
    },
    {
      "cell_type": "code",
      "source": [
        "#Using bin Function for the binary of X,Y,Z,A,B.\n",
        "print('The binary value of X,Y,Z,A,B is')\n",
        "print(bin(88),bin(89),bin(90),bin(65),bin(66))"
      ],
      "metadata": {
        "colab": {
          "base_uri": "https://localhost:8080/"
        },
        "id": "mfUENP8rD1Rd",
        "outputId": "00356bd5-eb98-4bbf-900d-21d5ace607b3"
      },
      "execution_count": null,
      "outputs": [
        {
          "output_type": "stream",
          "name": "stdout",
          "text": [
            "The binary value of X,Y,Z,A,B is\n",
            "0b1011000 0b1011001 0b1011010 0b1000001 0b1000010\n"
          ]
        }
      ]
    },
    {
      "cell_type": "markdown",
      "source": [
        "BIN FOR LOW CASES"
      ],
      "metadata": {
        "id": "I6z_0KGaE1vW"
      }
    },
    {
      "cell_type": "code",
      "source": [
        "#Using bin Function for the binary of a,b,c,d,e.\n",
        "print('The binary value of a,b,c,d,e is')\n",
        "print(bin(97),bin(98),bin(99),bin(100),bin(101))"
      ],
      "metadata": {
        "colab": {
          "base_uri": "https://localhost:8080/"
        },
        "id": "jpww_V1HDad-",
        "outputId": "8e1487a3-8b6a-43b9-bd05-29618e3d294e"
      },
      "execution_count": null,
      "outputs": [
        {
          "output_type": "stream",
          "name": "stdout",
          "text": [
            "The binary value of a,b,c,d,e is\n",
            "0b1100001 0b1100010 0b1100011 0b1100100 0b1100101\n"
          ]
        }
      ]
    },
    {
      "cell_type": "code",
      "source": [
        "#Using bin Function for the binary of f,g,h,i,j.\n",
        "print('The binary value of f,g,h,i,j is')\n",
        "print(bin(102),bin(103),bin(104),bin(105),bin(106))"
      ],
      "metadata": {
        "colab": {
          "base_uri": "https://localhost:8080/"
        },
        "id": "UWOourmoE948",
        "outputId": "5027a3d2-47c3-448b-926b-d46708f2e466"
      },
      "execution_count": null,
      "outputs": [
        {
          "output_type": "stream",
          "name": "stdout",
          "text": [
            "The binary value of f,g,h,i,j is\n",
            "0b1100110 0b1100111 0b1101000 0b1101001 0b1101010\n"
          ]
        }
      ]
    },
    {
      "cell_type": "code",
      "source": [
        "#Using bin Function for the binary of k,l,m,n,o.\n",
        "print('The binary value of k,l,m,n,o is')\n",
        "print(bin(107),bin(108),bin(109),bin(110),bin(111))"
      ],
      "metadata": {
        "colab": {
          "base_uri": "https://localhost:8080/"
        },
        "id": "dzP-pWpTE97S",
        "outputId": "b0968d75-2e16-47ed-b7f8-d49740e55d3c"
      },
      "execution_count": null,
      "outputs": [
        {
          "output_type": "stream",
          "name": "stdout",
          "text": [
            "The binary value of k,l,m,n,o is\n",
            "0b1101011 0b1101100 0b1101101 0b1101110 0b1101111\n"
          ]
        }
      ]
    },
    {
      "cell_type": "code",
      "source": [
        "#Using bin Function for the binary of p,q,r,s,t.\n",
        "print('The binary value of p,q,r,s,t is')\n",
        "print(bin(112),bin(113),bin(114),bin(115),bin(116))"
      ],
      "metadata": {
        "colab": {
          "base_uri": "https://localhost:8080/"
        },
        "id": "_ouSdwrxE99l",
        "outputId": "af90324e-4e9d-4fb5-8f04-b42baf41c170"
      },
      "execution_count": null,
      "outputs": [
        {
          "output_type": "stream",
          "name": "stdout",
          "text": [
            "The binary value of p,q,r,s,t is\n",
            "0b1110000 0b1110001 0b1110010 0b1110011 0b1110100\n"
          ]
        }
      ]
    },
    {
      "cell_type": "code",
      "source": [
        "#Using bin Function for the binary of u,v,qw,x,y.\n",
        "print('The binary value of u,v,qw,x,y is')\n",
        "print(bin(117),bin(118),bin(119),bin(120),bin(121))"
      ],
      "metadata": {
        "colab": {
          "base_uri": "https://localhost:8080/"
        },
        "id": "vDSYZUxxE-Aa",
        "outputId": "45302d4b-7928-414c-f66a-3ff73b435e35"
      },
      "execution_count": null,
      "outputs": [
        {
          "output_type": "stream",
          "name": "stdout",
          "text": [
            "The binary value of u,v,qw,x,y is\n",
            "0b1110101 0b1110110 0b1110111 0b1111000 0b1111001\n"
          ]
        }
      ]
    },
    {
      "cell_type": "code",
      "source": [
        "#Using bin Function for the binary of x,y,z,a,b.\n",
        "print('The binary value of x,y,z,a,b is')\n",
        "print(bin(120),bin(121),bin(122),bin(97),bin(98))"
      ],
      "metadata": {
        "colab": {
          "base_uri": "https://localhost:8080/"
        },
        "id": "lvYfQpG3E-DR",
        "outputId": "fd29733d-da9c-4fb9-85ad-2b8066993a18"
      },
      "execution_count": null,
      "outputs": [
        {
          "output_type": "stream",
          "name": "stdout",
          "text": [
            "The binary value of x,y,z,a,b is\n",
            "0b1111000 0b1111001 0b1111010 0b1100001 0b1100010\n"
          ]
        }
      ]
    }
  ]
}