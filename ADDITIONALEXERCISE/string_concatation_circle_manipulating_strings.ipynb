{
  "nbformat": 4,
  "nbformat_minor": 0,
  "metadata": {
    "colab": {
      "provenance": [],
      "authorship_tag": "ABX9TyOZOuO57Zn66ODS7XVCTu0I",
      "include_colab_link": true
    },
    "kernelspec": {
      "name": "python3",
      "display_name": "Python 3"
    },
    "language_info": {
      "name": "python"
    }
  },
  "cells": [
    {
      "cell_type": "markdown",
      "metadata": {
        "id": "view-in-github",
        "colab_type": "text"
      },
      "source": [
        "<a href=\"https://colab.research.google.com/github/ysabel1111/1st_Repository/blob/main/ADDITIONALEXERCISE/string_concatation_circle_manipulating_strings.ipynb\" target=\"_parent\"><img src=\"https://colab.research.google.com/assets/colab-badge.svg\" alt=\"Open In Colab\"/></a>"
      ]
    },
    {
      "cell_type": "code",
      "execution_count": null,
      "metadata": {
        "colab": {
          "base_uri": "https://localhost:8080/"
        },
        "id": "QBYG-4d20DsJ",
        "outputId": "6cf2b138-294c-4e27-dc6e-58d70cec6d62"
      },
      "outputs": [
        {
          "output_type": "stream",
          "name": "stdout",
          "text": [
            "Today is 6th October, 2022, Thursday.\n",
            "Today is 6th October, 2022, Thursday.\n",
            "Today is 6th October, 2022, Thursday.\n",
            "Today is 6 th October, 2022, Thursday.\n",
            "Today is 6 th October, 2022, Thursday.\n",
            "Today is 6 th October, 2022, Thursday.\n",
            "Today is 6 th October, 2022, Thursday.\n",
            "Today is 6 th October, 2022, Thursday.\n",
            "Today is 6 th October, 2022, Thursday.\n",
            "Today is 6 th October, 2022, Thursday.\n",
            "Today is 6 th October, 2022, Thursday.\n"
          ]
        }
      ],
      "source": [
        "#sentence\n",
        "\n",
        "sentence='Today is 6th October, 2022, Thursday.'\n",
        "print(sentence)\n",
        "\n",
        "sentence1='Today is 6th October, 2022, Thursday.'\n",
        "print(sentence1)\n",
        "\n",
        "sentence_1='Today is 6th October, 2022, Thursday.'\n",
        "print(sentence_1)\n",
        "\n",
        "sentence1= 'Today is 6 th October, 2022, Thursday.'\n",
        "print(sentence1)\n",
        "\n",
        "sentence_1= 'Today is 6 th October, 2022, Thursday.'\n",
        "print(sentence_1)\n",
        "\n",
        "SENTENCE1= 'Today is 6 th October, 2022, Thursday.'\n",
        "print(SENTENCE1)\n",
        "\n",
        "SEnTEnCE1= 'Today is 6 th October, 2022, Thursday.'\n",
        "print(SEnTEnCE1)\n",
        "\n",
        "SENTENCE_1= 'Today is 6 th October, 2022, Thursday.'\n",
        "print(SENTENCE_1)\n",
        "\n",
        "SEnTEnCE_1= 'Today is 6 th October, 2022, Thursday.'\n",
        "print(SEnTEnCE_1)\n",
        "\n",
        "_sentence='Today is 6 th October, 2022, Thursday.'\n",
        "print(_sentence)\n",
        "\n",
        "today_date='Today is 6 th October, 2022, Thursday.'\n",
        "print(today_date)\n",
        "\n",
        "Today_Date='Today is 6 th October, 2022, Thursday.'\n",
        "\n",
        "\n"
      ]
    },
    {
      "cell_type": "code",
      "source": [
        "1sentence='Today is 6th October, 2022, Thursday.'\n",
        "-sentence='Today is 6th October, 2022, Thursday.'\n",
        "*sentence='Today is 6th October, 2022, Thursday.'\n",
        "Sentence-1='Today is 6 th October, 2022, Thursday.'\n",
        "Sentence*1='Today is 6 th October, 2022, Thursday.'\n",
        "today's_date='Today is 6th October, 2022, Thursday."
      ],
      "metadata": {
        "colab": {
          "base_uri": "https://localhost:8080/",
          "height": 131
        },
        "id": "5qSFJoDY39gF",
        "outputId": "0880e80f-32a8-4173-ba52-c0cfe093c68f"
      },
      "execution_count": null,
      "outputs": [
        {
          "output_type": "error",
          "ename": "SyntaxError",
          "evalue": "ignored",
          "traceback": [
            "\u001b[0;36m  File \u001b[0;32m\"<ipython-input-13-11730dd995af>\"\u001b[0;36m, line \u001b[0;32m1\u001b[0m\n\u001b[0;31m    1sentence='Today is 6th October, 2022, Thursday.'\u001b[0m\n\u001b[0m            ^\u001b[0m\n\u001b[0;31mSyntaxError\u001b[0m\u001b[0;31m:\u001b[0m invalid syntax\n"
          ]
        }
      ]
    },
    {
      "cell_type": "code",
      "source": [
        "red=4 #int value\n",
        "white=10.5 #floating point value\n",
        "blue= 5+6j #complex value\n",
        "\n",
        "#type()prints the datatype of the variable\n",
        "print(\"Type of red is \", type(red))\n",
        "print(\"Type of white is \", type(white))\n",
        "print(\"type of blue is \", type(blue))"
      ],
      "metadata": {
        "colab": {
          "base_uri": "https://localhost:8080/"
        },
        "id": "UfDG_bvY26Zc",
        "outputId": "3dfba879-20fa-49c1-b871-c1a81741b26f"
      },
      "execution_count": null,
      "outputs": [
        {
          "output_type": "stream",
          "name": "stdout",
          "text": [
            "Type of red is  <class 'int'>\n",
            "Type of white is  <class 'float'>\n",
            "type of blue is  <class 'complex'>\n"
          ]
        }
      ]
    },
    {
      "cell_type": "code",
      "source": [
        "print(\"enter marks\")\n",
        "\n",
        "marks= int(input())\n",
        "\n",
        "print(\"Marks obtained are\", marks)"
      ],
      "metadata": {
        "colab": {
          "base_uri": "https://localhost:8080/"
        },
        "id": "aWGTtHon6xfD",
        "outputId": "85e19a32-f813-422e-dadb-d54fd63b73fe"
      },
      "execution_count": null,
      "outputs": [
        {
          "output_type": "stream",
          "name": "stdout",
          "text": [
            "enter marks\n",
            "100\n",
            "Marks obtained are 100\n"
          ]
        }
      ]
    },
    {
      "cell_type": "code",
      "source": [
        "\n",
        "side = int(input(\"Enter the sides:\"))\n",
        "Area = side*side\n",
        "print(\"Area of the square=\"+str(Area))\n",
        "\n"
      ],
      "metadata": {
        "colab": {
          "base_uri": "https://localhost:8080/"
        },
        "id": "YCLDjCJb7Lqz",
        "outputId": "7749e279-a278-4070-edd6-e0bdfea5ee49"
      },
      "execution_count": null,
      "outputs": [
        {
          "output_type": "stream",
          "name": "stdout",
          "text": [
            "Enter the sides:5\n",
            "Area of the square=25\n"
          ]
        }
      ]
    },
    {
      "cell_type": "code",
      "source": [
        "print('Please enter the side of square:')\n",
        "side=int(input())\n",
        "print('Side of the square=', side)\n",
        "print('The area of a square with side '+str(side)+ 'units=' +str(side**2)+ ' sq units')"
      ],
      "metadata": {
        "colab": {
          "base_uri": "https://localhost:8080/"
        },
        "id": "CieSVGLd9JQ0",
        "outputId": "9a6d9e4a-642f-492a-f104-7ac3f6d01b1c"
      },
      "execution_count": null,
      "outputs": [
        {
          "output_type": "stream",
          "name": "stdout",
          "text": [
            "Please enter the side of square:\n",
            "5\n",
            "Side of the sqyare= 5\n",
            "The area of a square with side 5units=25 sq units\n"
          ]
        }
      ]
    },
    {
      "cell_type": "code",
      "source": [
        "pi= 3.14159\n",
        "r= float(input(\"the radius of the circle: \"))\n",
        "print(\"The area of the circle with radius \" + str(r) + 'is:' + str(pi*r**2)+ 'sq units')"
      ],
      "metadata": {
        "colab": {
          "base_uri": "https://localhost:8080/"
        },
        "id": "SmyKnIzz9zr7",
        "outputId": "7e514f41-dad6-4046-9212-58ab5b939898"
      },
      "execution_count": null,
      "outputs": [
        {
          "output_type": "stream",
          "name": "stdout",
          "text": [
            "the radius of the circle: 5\n",
            "The area of the circle with radius 5.0is:78.53975sq units\n"
          ]
        }
      ]
    },
    {
      "cell_type": "code",
      "source": [
        "pi= 3.14159\n",
        "print('Enter the radius of circle:')\n",
        "r= int(input())\n",
        "print('The area of the circle with radius '+str(r)+' units=: '+str(pi*r**2)+ 'sq units')"
      ],
      "metadata": {
        "colab": {
          "base_uri": "https://localhost:8080/"
        },
        "id": "ElOobB0B_Z3_",
        "outputId": "e4ee19fc-e282-46e5-e21c-55144a6c6827"
      },
      "execution_count": null,
      "outputs": [
        {
          "output_type": "stream",
          "name": "stdout",
          "text": [
            "Enter the radius of circle:\n",
            "5\n",
            "The area of the circle with radius 5 units=: 78.53975sq units\n"
          ]
        }
      ]
    },
    {
      "cell_type": "code",
      "source": [
        "#working with strings\n",
        "sentence1='Today is 6th October, 2022, Thursday.'\n",
        "print(sentence1)\n",
        "print (sentence1[0])\n",
        "print (sentence[0:5])\n",
        "print (sentence[4:])\n",
        "print (sentence1*2)\n",
        "\n",
        "sentence2=\"Today is our fifth session on 'Introduction on Programming'.\"\n",
        "print(sentence2)\n",
        "\n",
        "sentence3='Today we are learning about different types of variables in python programming'\n",
        "print(sentence3)\n",
        "\n",
        "#Strings Concatination\n",
        "#Write three strings in different variables and print the output as one string.\n",
        "\n",
        "print(sentence1+sentence2+sentence3)"
      ],
      "metadata": {
        "colab": {
          "base_uri": "https://localhost:8080/"
        },
        "id": "wISkKWDfIZPH",
        "outputId": "9d8530f7-22af-4f33-d9df-ef163c1ebefe"
      },
      "execution_count": null,
      "outputs": [
        {
          "output_type": "stream",
          "name": "stdout",
          "text": [
            "Today is 6th October, 2022, Thursday.\n",
            "T\n",
            "Today\n",
            "y is 6th October, 2022, Thursday.\n",
            "Today is 6th October, 2022, Thursday.Today is 6th October, 2022, Thursday.\n",
            "Today is our fifth session on 'Introduction on Programming'.\n",
            "Today we are learning about different types of variables in python programming\n",
            "Today is 6th October, 2022, Thursday.Today is our fifth session on 'Introduction on Programming'.Today we are learning about different types of variables in python programming\n"
          ]
        }
      ]
    },
    {
      "cell_type": "code",
      "source": [
        "#changing case in Python\n",
        "date='Today is 6th October, 2022, Thursday.'\n",
        "print(date.lower())\n",
        "print(date.upper())\n",
        "print(date.title())\n",
        "\n",
        "rhyme='twinkle twinkle little star. how I wonder, what you are!'\n",
        "print(rhyme.capitalize())\n",
        "print(date.swapcase())\n"
      ],
      "metadata": {
        "colab": {
          "base_uri": "https://localhost:8080/"
        },
        "id": "2wN9cNvgJ4yd",
        "outputId": "180eeadc-944c-4d21-e34f-24e07e75d47d"
      },
      "execution_count": null,
      "outputs": [
        {
          "output_type": "stream",
          "name": "stdout",
          "text": [
            "today is 6th october, 2022, thursday.\n",
            "TODAY IS 6TH OCTOBER, 2022, THURSDAY.\n",
            "Today Is 6Th October, 2022, Thursday.\n",
            "Twinkle twinkle little star. how i wonder, what you are!\n",
            "tODAY IS 6TH oCTOBER, 2022, tHURSDAY.\n"
          ]
        }
      ]
    },
    {
      "cell_type": "code",
      "source": [
        "#use of lstrip() function to remove spaces from left side of the string\n",
        "word='   python'\n",
        "new_word=word.lstrip()\n",
        "print(word)\n",
        "print(new_word)"
      ],
      "metadata": {
        "colab": {
          "base_uri": "https://localhost:8080/"
        },
        "id": "-0Ho-byvL4E3",
        "outputId": "1c59731c-ea87-49a4-99e2-8f4945a1c596"
      },
      "execution_count": null,
      "outputs": [
        {
          "output_type": "stream",
          "name": "stdout",
          "text": [
            "   python\n",
            "python\n"
          ]
        }
      ]
    },
    {
      "cell_type": "code",
      "source": [
        "#use of rstrip() function to remove spaces from right side of the string\n",
        "word='python   '\n",
        "new_word=word.rstrip()\n",
        "print(word)\n",
        "print(new_word)"
      ],
      "metadata": {
        "colab": {
          "base_uri": "https://localhost:8080/"
        },
        "id": "tGqc9S2-NAyH",
        "outputId": "63164649-7d68-4ae0-cba2-d705b4e87e02"
      },
      "execution_count": null,
      "outputs": [
        {
          "output_type": "stream",
          "name": "stdout",
          "text": [
            "python   \n",
            "python\n"
          ]
        }
      ]
    },
    {
      "cell_type": "code",
      "source": [
        "#To add a tab to your text, use the character combination \\t\n",
        "print(\"The programming language is \\t Python\")\n",
        "\n",
        "#To add a newline in a string, use the character combination \\n:\n",
        "print(\"\\n\")\n",
        "print(\"Programming Languages:\\nPython\\nC\\nJavaScript\")\n",
        "print(\"\\n\")\n",
        "\n",
        "#formating using \\t and \\n\n",
        "print(\"Programming Languages : \\n\\tPython\\n\\tC\\n\\tJavaScript\")"
      ],
      "metadata": {
        "colab": {
          "base_uri": "https://localhost:8080/"
        },
        "id": "m2cx4pB_Nlc9",
        "outputId": "b52c0ce5-9006-49a8-8c28-4efa4dcee13a"
      },
      "execution_count": null,
      "outputs": [
        {
          "output_type": "stream",
          "name": "stdout",
          "text": [
            "The programming language is \t Python\n",
            "\n",
            "\n",
            "Programming Languages:\n",
            "Python\n",
            "C\n",
            "JavaScript\n",
            "\n",
            "\n",
            "Programming Languages : \n",
            "\tPython\n",
            "\tC\n",
            "\tJavaScript\n"
          ]
        }
      ]
    },
    {
      "cell_type": "code",
      "source": [],
      "metadata": {
        "id": "0iKfWBQYOd0s"
      },
      "execution_count": null,
      "outputs": []
    }
  ]
}