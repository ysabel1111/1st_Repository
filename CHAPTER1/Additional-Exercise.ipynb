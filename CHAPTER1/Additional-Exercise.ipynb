{
  "nbformat": 4,
  "nbformat_minor": 0,
  "metadata": {
    "colab": {
      "provenance": [],
      "authorship_tag": "ABX9TyOP80bsXaK3ivt1b20aWNpM",
      "include_colab_link": true
    },
    "kernelspec": {
      "name": "python3",
      "display_name": "Python 3"
    },
    "language_info": {
      "name": "python"
    }
  },
  "cells": [
    {
      "cell_type": "markdown",
      "metadata": {
        "id": "view-in-github",
        "colab_type": "text"
      },
      "source": [
        "<a href=\"https://colab.research.google.com/github/ysabel1111/1st_Repository/blob/main/CHAPTER1/Additional-Exercise.ipynb\" target=\"_parent\"><img src=\"https://colab.research.google.com/assets/colab-badge.svg\" alt=\"Open In Colab\"/></a>"
      ]
    },
    {
      "cell_type": "code",
      "execution_count": 2,
      "metadata": {
        "colab": {
          "base_uri": "https://localhost:8080/"
        },
        "id": "DehK8oY7zUNy",
        "outputId": "90531e6f-e013-4703-cb99-d69dd9919464"
      },
      "outputs": [
        {
          "output_type": "stream",
          "name": "stdout",
          "text": [
            "Row, row, row your boat\n",
            "Gently down the stream\n",
            "Merrily, merrily, merrily, merrily\n",
            "Life is but a dream\n"
          ]
        }
      ],
      "source": [
        "#Additional Exercise\n",
        "\n",
        "#Using print() function to execute the English rhyme string in a specific format.\n",
        "print(\"Row, row, row your boat\")\n",
        "print(\"Gently down the stream\")\n",
        "print(\"Merrily, merrily, merrily, merrily\")\n",
        "print(\"Life is but a dream\")"
      ]
    }
  ]
}