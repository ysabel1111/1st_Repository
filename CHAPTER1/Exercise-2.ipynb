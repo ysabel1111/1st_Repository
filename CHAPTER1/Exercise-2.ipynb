{
  "nbformat": 4,
  "nbformat_minor": 0,
  "metadata": {
    "colab": {
      "provenance": [],
      "authorship_tag": "ABX9TyN4DvNkBYzAtnbH7rfHji5/",
      "include_colab_link": true
    },
    "kernelspec": {
      "name": "python3",
      "display_name": "Python 3"
    },
    "language_info": {
      "name": "python"
    }
  },
  "cells": [
    {
      "cell_type": "markdown",
      "metadata": {
        "id": "view-in-github",
        "colab_type": "text"
      },
      "source": [
        "<a href=\"https://colab.research.google.com/github/ysabel1111/1st_Repository/blob/main/CHAPTER1/Exercise-2.ipynb\" target=\"_parent\"><img src=\"https://colab.research.google.com/assets/colab-badge.svg\" alt=\"Open In Colab\"/></a>"
      ]
    },
    {
      "cell_type": "markdown",
      "source": [
        "Write a Python program to get the Python version you are using."
      ],
      "metadata": {
        "id": "Yw27lveIY5Ql"
      }
    },
    {
      "cell_type": "code",
      "execution_count": 1,
      "metadata": {
        "colab": {
          "base_uri": "https://localhost:8080/"
        },
        "id": "IHl2bCyfYxFd",
        "outputId": "8098e31a-7cb7-4484-c282-73fc1dbaf6ea"
      },
      "outputs": [
        {
          "output_type": "stream",
          "name": "stdout",
          "text": [
            "Python version:\n",
            "3.7.15 (default, Oct 12 2022, 19:14:55) \n",
            "[GCC 7.5.0]\n",
            "\n",
            "Version info:\n",
            "sys.version_info(major=3, minor=7, micro=15, releaselevel='final', serial=0)\n"
          ]
        }
      ],
      "source": [
        "#Exercise 2: Print the Version of Python\n",
        "\n",
        "#Using sys module to determine Python version\n",
        "import sys\n",
        "print(\"Python version:\")\n",
        "print(sys.version)\n",
        "\n",
        "print(\"\\nVersion info:\")\n",
        "print(sys.version_info)"
      ]
    }
  ]
}