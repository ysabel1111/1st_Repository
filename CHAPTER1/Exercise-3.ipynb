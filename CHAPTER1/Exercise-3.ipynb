{
  "nbformat": 4,
  "nbformat_minor": 0,
  "metadata": {
    "colab": {
      "provenance": [],
      "authorship_tag": "ABX9TyN211lF8WRKo8ZpSgjyvH60",
      "include_colab_link": true
    },
    "kernelspec": {
      "name": "python3",
      "display_name": "Python 3"
    },
    "language_info": {
      "name": "python"
    }
  },
  "cells": [
    {
      "cell_type": "markdown",
      "metadata": {
        "id": "view-in-github",
        "colab_type": "text"
      },
      "source": [
        "<a href=\"https://colab.research.google.com/github/ysabel1111/1st_Repository/blob/main/CHAPTER1/Exercise-3.ipynb\" target=\"_parent\"><img src=\"https://colab.research.google.com/assets/colab-badge.svg\" alt=\"Open In Colab\"/></a>"
      ]
    },
    {
      "cell_type": "markdown",
      "source": [
        "Write a Python program to display the current date and time."
      ],
      "metadata": {
        "id": "1_w6h6jCLUrz"
      }
    },
    {
      "cell_type": "code",
      "execution_count": null,
      "metadata": {
        "colab": {
          "base_uri": "https://localhost:8080/"
        },
        "id": "K7Dj8EaqLOtD",
        "outputId": "78afd345-8728-433d-94d6-742ca6a413b4"
      },
      "outputs": [
        {
          "output_type": "stream",
          "name": "stdout",
          "text": [
            "now = 2022-11-04 19:54:24.474600\n",
            "Current date and time = 04/11/2022 19:54:24\n"
          ]
        }
      ],
      "source": [
        "#Exercise 3: Print date and Time \n",
        "\n",
        "from datetime import datetime\n",
        "\n",
        "#The datetime stored the current local date and time \n",
        "now = datetime.now()\n",
        "\n",
        "print(\"now =\", now)\n",
        "\n",
        "#date.strftime refers to the specific format for date, hours, minutes, seconds\n",
        "dt_string = now.strftime(\"%d/%m/%Y %H:%M:%S\") ##dd/mm/YY H:M:S\n",
        "print(\"Current date and time =\", dt_string)"
      ]
    }
  ]
}