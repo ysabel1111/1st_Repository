{
  "nbformat": 4,
  "nbformat_minor": 0,
  "metadata": {
    "colab": {
      "provenance": [],
      "authorship_tag": "ABX9TyNZfKW9kPFx1IeAk5Bh8Q9k",
      "include_colab_link": true
    },
    "kernelspec": {
      "name": "python3",
      "display_name": "Python 3"
    },
    "language_info": {
      "name": "python"
    }
  },
  "cells": [
    {
      "cell_type": "markdown",
      "metadata": {
        "id": "view-in-github",
        "colab_type": "text"
      },
      "source": [
        "<a href=\"https://colab.research.google.com/github/ysabel1111/1st_Repository/blob/main/CHAPTER1/Exercise-4.ipynb\" target=\"_parent\"><img src=\"https://colab.research.google.com/assets/colab-badge.svg\" alt=\"Open In Colab\"/></a>"
      ]
    },
    {
      "cell_type": "markdown",
      "source": [
        "Write three strings in different variables and print the output as one string.  "
      ],
      "metadata": {
        "id": "JTLgo_d6a7QJ"
      }
    },
    {
      "cell_type": "code",
      "execution_count": null,
      "metadata": {
        "colab": {
          "base_uri": "https://localhost:8080/"
        },
        "id": "qgbE0DyNa4OX",
        "outputId": "20440ed2-df3b-451c-9faa-609ddef364c0"
      },
      "outputs": [
        {
          "output_type": "stream",
          "name": "stdout",
          "text": [
            "This is string one.This is string two.This is string three.\n"
          ]
        }
      ],
      "source": [
        "#Exercise 4: Strings Concatination\n",
        "\n",
        "#Three strings with a different variables\n",
        "sentence1= 'This is string one.'\n",
        "sentence2= 'This is string two.'\n",
        "sentence3= 'This is string three.'\n",
        "print(sentence1+sentence2+sentence3) #Print the output into one string. "
      ]
    }
  ]
}