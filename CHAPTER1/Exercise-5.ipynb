{
  "nbformat": 4,
  "nbformat_minor": 0,
  "metadata": {
    "colab": {
      "provenance": [],
      "authorship_tag": "ABX9TyPZBj+L0IUfC6pWuZOBsI2k",
      "include_colab_link": true
    },
    "kernelspec": {
      "name": "python3",
      "display_name": "Python 3"
    },
    "language_info": {
      "name": "python"
    }
  },
  "cells": [
    {
      "cell_type": "markdown",
      "metadata": {
        "id": "view-in-github",
        "colab_type": "text"
      },
      "source": [
        "<a href=\"https://colab.research.google.com/github/ysabel1111/1st_Repository/blob/main/CHAPTER1/Exercise-5.ipynb\" target=\"_parent\"><img src=\"https://colab.research.google.com/assets/colab-badge.svg\" alt=\"Open In Colab\"/></a>"
      ]
    },
    {
      "cell_type": "markdown",
      "source": [
        "Write a Python program which accepts the radius of a circle from the user and compute the area."
      ],
      "metadata": {
        "id": "kpW_9HPDNynQ"
      }
    },
    {
      "cell_type": "code",
      "execution_count": 7,
      "metadata": {
        "colab": {
          "base_uri": "https://localhost:8080/"
        },
        "id": "iGdxaJEuNx0t",
        "outputId": "256fc5c2-0ccf-46ec-aaa7-356b8be9e552"
      },
      "outputs": [
        {
          "output_type": "stream",
          "name": "stdout",
          "text": [
            "Enter the radius of the circle: 5\n",
            "The area of the circle with radius 5.0 is : 78.53981633974483\n"
          ]
        }
      ],
      "source": [
        "#Exercise 5: Compute area of Circle\n",
        "\n",
        "#Input the pi value first\n",
        "pi= 3.14159\n",
        "\n",
        "#Input() function is used to work with user to run the said program\n",
        "from math import pi\n",
        "r = float(input(\"Enter the radius of the circle: \"))\n",
        "print(\"The area of the circle with radius \" + str(r) + \" is : \" +str(pi*r**2))"
      ]
    }
  ]
}