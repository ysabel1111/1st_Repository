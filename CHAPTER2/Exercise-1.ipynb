{
  "nbformat": 4,
  "nbformat_minor": 0,
  "metadata": {
    "colab": {
      "provenance": [],
      "authorship_tag": "ABX9TyMpCqFPY6XQx6monQZPqNVj",
      "include_colab_link": true
    },
    "kernelspec": {
      "name": "python3",
      "display_name": "Python 3"
    },
    "language_info": {
      "name": "python"
    }
  },
  "cells": [
    {
      "cell_type": "markdown",
      "metadata": {
        "id": "view-in-github",
        "colab_type": "text"
      },
      "source": [
        "<a href=\"https://colab.research.google.com/github/ysabel1111/1st_Repository/blob/main/CHAPTER2/Exercise-1.ipynb\" target=\"_parent\"><img src=\"https://colab.research.google.com/assets/colab-badge.svg\" alt=\"Open In Colab\"/></a>"
      ]
    },
    {
      "cell_type": "markdown",
      "source": [
        "Assign a message to a variable, and print that message. Then change the value of the variable to a new message, and print the new message.\n",
        "\n"
      ],
      "metadata": {
        "id": "ayJVvvwQRdEd"
      }
    },
    {
      "cell_type": "code",
      "execution_count": 1,
      "metadata": {
        "colab": {
          "base_uri": "https://localhost:8080/"
        },
        "id": "dm8Skug-RV5_",
        "outputId": "e7e3dfeb-6d74-4d1d-9b78-9526d4c62af9"
      },
      "outputs": [
        {
          "output_type": "stream",
          "name": "stdout",
          "text": [
            "Hello! I'm Ysabel.\n",
            "I love to learn Python.\n"
          ]
        }
      ],
      "source": [
        "#Exercise 1: Variables\n",
        "\n",
        "message = (\"Hello! I'm Ysabel.\") #Display the value \n",
        "print(message) #Print the value directly\n",
        "\n",
        "message = (\"I love to learn Python.\")\n",
        "print(message)"
      ]
    }
  ]
}