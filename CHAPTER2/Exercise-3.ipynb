{
  "nbformat": 4,
  "nbformat_minor": 0,
  "metadata": {
    "colab": {
      "provenance": [],
      "authorship_tag": "ABX9TyPCIyD6bC7UveroLoZWag7U",
      "include_colab_link": true
    },
    "kernelspec": {
      "name": "python3",
      "display_name": "Python 3"
    },
    "language_info": {
      "name": "python"
    }
  },
  "cells": [
    {
      "cell_type": "markdown",
      "metadata": {
        "id": "view-in-github",
        "colab_type": "text"
      },
      "source": [
        "<a href=\"https://colab.research.google.com/github/ysabel1111/1st_Repository/blob/main/CHAPTER2/Exercise-3.ipynb\" target=\"_parent\"><img src=\"https://colab.research.google.com/assets/colab-badge.svg\" alt=\"Open In Colab\"/></a>"
      ]
    },
    {
      "cell_type": "markdown",
      "source": [
        "Tidy up the code to make it easier to understand. \n",
        "\n",
        "Use a variable to represent a person’s name, and include some whitespace characters at the beginning and end of the name. Make sure you use each character combination, “\\t” and “\\n”, at least once.\n",
        "\n",
        "Print the name once, so the whitespace around the name is displayed. Then print the name using each of the three stripping functions, lstrip(), rstrip(), and strip()."
      ],
      "metadata": {
        "id": "3Gp4aPdxT1a3"
      }
    },
    {
      "cell_type": "code",
      "execution_count": 3,
      "metadata": {
        "colab": {
          "base_uri": "https://localhost:8080/"
        },
        "id": "jject6w4T0fL",
        "outputId": "26e31505-a2ef-4f49-9106-cd0d06f9c89e"
      },
      "outputs": [
        {
          "output_type": "stream",
          "name": "stdout",
          "text": [
            "   \tYsabel Ramirez\n",
            "   \n",
            "\n",
            "Using lstrip():\n",
            "Ysabel Ramirez\n",
            "   \n",
            "\n",
            "Using rstrip():\n",
            "   \tYsabel Ramirez\n",
            "\n",
            "Using strip():\n",
            "Ysabel Ramirez\n"
          ]
        }
      ],
      "source": [
        "#Exercise 3: Stripping Names\n",
        "\n",
        "#Variable representing a person's name\n",
        "#The character combination \\t - is used to add a tab to the text\n",
        "#The character combination \\n - is used to add a newline to a string\n",
        "\n",
        "name = \"   \\tYsabel Ramirez\\n   \"\n",
        "print(name)\n",
        "\n",
        "#lstrip() function is used to remove the spaces on the left side of the string\n",
        "print(\"\\nUsing lstrip():\")\n",
        "print(name.lstrip())\n",
        "\n",
        "#rstrip() function is used to remove the spaces on the right side of the string\n",
        "print(\"\\nUsing rstrip():\")\n",
        "print(name.rstrip())\n",
        "\n",
        "#strip() function is used to remove the spaces on both left and right of the string\n",
        "print(\"\\nUsing strip():\")\n",
        "print(name.strip())"
      ]
    }
  ]
}