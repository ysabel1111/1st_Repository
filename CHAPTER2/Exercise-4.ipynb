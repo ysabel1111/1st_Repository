{
  "nbformat": 4,
  "nbformat_minor": 0,
  "metadata": {
    "colab": {
      "provenance": [],
      "authorship_tag": "ABX9TyPdvtuGNeMZhwsS1AToXzrK",
      "include_colab_link": true
    },
    "kernelspec": {
      "name": "python3",
      "display_name": "Python 3"
    },
    "language_info": {
      "name": "python"
    }
  },
  "cells": [
    {
      "cell_type": "markdown",
      "metadata": {
        "id": "view-in-github",
        "colab_type": "text"
      },
      "source": [
        "<a href=\"https://colab.research.google.com/github/ysabel1111/1st_Repository/blob/main/CHAPTER2/Exercise-4.ipynb\" target=\"_parent\"><img src=\"https://colab.research.google.com/assets/colab-badge.svg\" alt=\"Open In Colab\"/></a>"
      ]
    },
    {
      "cell_type": "markdown",
      "source": [
        "Use a variable to represent your favorite number. Then,using that variable, create a message that reveals your favorite number. Print that message."
      ],
      "metadata": {
        "id": "Dk1nM85VVSpv"
      }
    },
    {
      "cell_type": "code",
      "execution_count": 3,
      "metadata": {
        "colab": {
          "base_uri": "https://localhost:8080/"
        },
        "id": "7qfR5ZG7VP4D",
        "outputId": "9683cda3-e4bc-460a-9936-19c493eae688"
      },
      "outputs": [
        {
          "output_type": "stream",
          "name": "stdout",
          "text": [
            "One of my favorite number is 7.\n"
          ]
        }
      ],
      "source": [
        "#Exercise 4: Favorite Number\n",
        "\n",
        "fav_num = 7 #integers value\n",
        "message= \"One of my favorite number is \" + str(fav_num) +\".\"\n",
        "print(message) #Prints the value of fav_num along with the text."
      ]
    }
  ]
}