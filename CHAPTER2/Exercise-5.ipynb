{
  "nbformat": 4,
  "nbformat_minor": 0,
  "metadata": {
    "colab": {
      "provenance": [],
      "authorship_tag": "ABX9TyPuvDssJiSUnyqXZFVPY8Fr",
      "include_colab_link": true
    },
    "kernelspec": {
      "name": "python3",
      "display_name": "Python 3"
    },
    "language_info": {
      "name": "python"
    }
  },
  "cells": [
    {
      "cell_type": "markdown",
      "metadata": {
        "id": "view-in-github",
        "colab_type": "text"
      },
      "source": [
        "<a href=\"https://colab.research.google.com/github/ysabel1111/1st_Repository/blob/main/CHAPTER2/Exercise-5.ipynb\" target=\"_parent\"><img src=\"https://colab.research.google.com/assets/colab-badge.svg\" alt=\"Open In Colab\"/></a>"
      ]
    },
    {
      "cell_type": "markdown",
      "source": [
        "A girl heads to a computer shop to buy some USB sticks. She loves USB sticks and wants as many as she can get for £50. They are £6 each.\n",
        "\n",
        "Write a programme that calculates how many USB sticks she can buy and how many pounds she will have left.\n",
        "\n",
        "You will to use the arithmetic operators to complete this exercise."
      ],
      "metadata": {
        "id": "nteIY0WkYe7x"
      }
    },
    {
      "cell_type": "code",
      "execution_count": 8,
      "metadata": {
        "colab": {
          "base_uri": "https://localhost:8080/"
        },
        "id": "hAy-k2SIYdEA",
        "outputId": "5d18255c-4990-4086-dc53-8e016ff92f4e"
      },
      "outputs": [
        {
          "output_type": "stream",
          "name": "stdout",
          "text": [
            "There is a computer shop that the girl goes to buy a USB\n",
            "\n",
            "Girl: How much is the price of an USB?\n",
            "Shopkeeper: It is £6.\n",
            "Girl: Can I have USB sticks for £50?\n",
            "\n",
            "\n",
            "The girl receives 8 USBs and £2 by the shopkeeper.\n"
          ]
        }
      ],
      "source": [
        "#Exercise 5: USB Shopper\n",
        "\n",
        "#A conversion of the shopkeeper and the girl\n",
        "print('There is a computer shop that the girl goes to buy a USB')\n",
        "print('\\nGirl: How much is the price of an USB?\\nShopkeeper: It is £6.\\nGirl: Can I have USB sticks for £50?')\n",
        "\n",
        "No_of_USB=50//6 #Use division operator for the USB sticks value\n",
        "money_back=50%6 #Use modulus operator to receive the remaining pounds\n",
        "\n",
        "print('\\n')\n",
        "print('The girl receives '+str(No_of_USB)+' USBs'+' and £'+str(money_back)+' by the shopkeeper.') \n",
        "#Prints the value of the number of USBs and money back along with the text.\n"
      ]
    }
  ]
}