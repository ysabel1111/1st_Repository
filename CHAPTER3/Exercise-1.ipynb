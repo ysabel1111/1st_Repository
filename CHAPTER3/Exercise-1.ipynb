{
  "nbformat": 4,
  "nbformat_minor": 0,
  "metadata": {
    "colab": {
      "provenance": [],
      "collapsed_sections": [],
      "authorship_tag": "ABX9TyMdyBJzv/vOjC3BJAnHMOVp",
      "include_colab_link": true
    },
    "kernelspec": {
      "name": "python3",
      "display_name": "Python 3"
    },
    "language_info": {
      "name": "python"
    }
  },
  "cells": [
    {
      "cell_type": "markdown",
      "metadata": {
        "id": "view-in-github",
        "colab_type": "text"
      },
      "source": [
        "<a href=\"https://colab.research.google.com/github/ysabel1111/1st_Repository/blob/main/CHAPTER3/Exercise-1.ipynb\" target=\"_parent\"><img src=\"https://colab.research.google.com/assets/colab-badge.svg\" alt=\"Open In Colab\"/></a>"
      ]
    },
    {
      "cell_type": "markdown",
      "source": [
        "Store the names of a few of your friends in a list called names. Print each person’s name by accessing each element in the list, one at a time."
      ],
      "metadata": {
        "id": "15XWfH3tcbj_"
      }
    },
    {
      "cell_type": "code",
      "execution_count": 3,
      "metadata": {
        "colab": {
          "base_uri": "https://localhost:8080/"
        },
        "id": "BTpnrARUcMqp",
        "outputId": "7208e452-a8ac-43cf-e902-f98c2c222a40"
      },
      "outputs": [
        {
          "output_type": "stream",
          "name": "stdout",
          "text": [
            "Eya\n",
            "Sophia\n",
            "Gab\n"
          ]
        }
      ],
      "source": [
        "#Exercise 1: Names\n",
        "\n",
        "names = ['eya', 'sophia','gab'] #three strings list\n",
        "\n",
        "#Using title() method to make the first character into upper case \n",
        "print(names[0].title()) #prints eya\n",
        "print(names[1].title()) #prints sophia\n",
        "print(names[2].title()) #prints gab"
      ]
    }
  ]
}