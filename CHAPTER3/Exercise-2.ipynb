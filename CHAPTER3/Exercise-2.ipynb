{
  "nbformat": 4,
  "nbformat_minor": 0,
  "metadata": {
    "colab": {
      "provenance": [],
      "authorship_tag": "ABX9TyM3ILQXQd3nM3PbgV1CLNbR",
      "include_colab_link": true
    },
    "kernelspec": {
      "name": "python3",
      "display_name": "Python 3"
    },
    "language_info": {
      "name": "python"
    }
  },
  "cells": [
    {
      "cell_type": "markdown",
      "metadata": {
        "id": "view-in-github",
        "colab_type": "text"
      },
      "source": [
        "<a href=\"https://colab.research.google.com/github/ysabel1111/1st_Repository/blob/main/CHAPTER3/Exercise-2.ipynb\" target=\"_parent\"><img src=\"https://colab.research.google.com/assets/colab-badge.svg\" alt=\"Open In Colab\"/></a>"
      ]
    },
    {
      "cell_type": "markdown",
      "source": [
        "Start with the list you used in Exercise 1, but instead of just printing each person’s name, print a message to them. The text of each message should be the same, but each message should be personalized with the person’s name."
      ],
      "metadata": {
        "id": "Zj_Lx0Vadyoj"
      }
    },
    {
      "cell_type": "code",
      "execution_count": 1,
      "metadata": {
        "colab": {
          "base_uri": "https://localhost:8080/"
        },
        "id": "qVEYkjh9drlh",
        "outputId": "47fb438a-caaf-417a-ad99-9c89faf62261"
      },
      "outputs": [
        {
          "output_type": "stream",
          "name": "stdout",
          "text": [
            "Hello, Eya!\n",
            "Hello, Sophia!\n",
            "Hello, Gab!\n"
          ]
        }
      ],
      "source": [
        "#Exercise 2: Greetings \n",
        "\n",
        "names = ['eya', 'sophia','gab'] #string lists\n",
        "\n",
        "message = \"Hello, \" + names[0].title() + \"!\"\n",
        "print(message)\n",
        "\n",
        "message = \"Hello, \" + names[1].title() + \"!\"\n",
        "print(message)\n",
        "\n",
        "message = \"Hello, \" + names[2].title() + \"!\"\n",
        "print(message) #print lists"
      ]
    }
  ]
}