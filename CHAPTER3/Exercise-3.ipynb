{
  "nbformat": 4,
  "nbformat_minor": 0,
  "metadata": {
    "colab": {
      "provenance": [],
      "collapsed_sections": [],
      "authorship_tag": "ABX9TyNvz5qSLchDxJvu2dOENfbD",
      "include_colab_link": true
    },
    "kernelspec": {
      "name": "python3",
      "display_name": "Python 3"
    },
    "language_info": {
      "name": "python"
    }
  },
  "cells": [
    {
      "cell_type": "markdown",
      "metadata": {
        "id": "view-in-github",
        "colab_type": "text"
      },
      "source": [
        "<a href=\"https://colab.research.google.com/github/ysabel1111/1st_Repository/blob/main/CHAPTER3/Exercise-3.ipynb\" target=\"_parent\"><img src=\"https://colab.research.google.com/assets/colab-badge.svg\" alt=\"Open In Colab\"/></a>"
      ]
    },
    {
      "cell_type": "markdown",
      "source": [
        "Think of your favorite mode of transportation, such as a motorcycle or a car, and make a list that stores several examples. Use your list to print a series of statements about these items, such as “I would like to own a Honda motorcycle.”"
      ],
      "metadata": {
        "id": "_VqcTL1hezxJ"
      }
    },
    {
      "cell_type": "code",
      "execution_count": 3,
      "metadata": {
        "colab": {
          "base_uri": "https://localhost:8080/"
        },
        "id": "yyeahdoSezOl",
        "outputId": "ef2d9381-4d87-44b5-90ad-f3cfe0147eae"
      },
      "outputs": [
        {
          "output_type": "stream",
          "name": "stdout",
          "text": [
            "I want to drive a car someday.\n",
            "A taxi from the airport costs a lot.\n",
            "I miss getting on an airplane.\n"
          ]
        }
      ],
      "source": [
        "#Exercise 3: Your Own List\n",
        "\n",
        "#String list\n",
        "transpo = [\"car\",\"taxi\",\"airplane\"] \n",
        "\n",
        "#Prints the list of three strings with text\n",
        "print(\"I want to drive a\" ,transpo[0], \"someday.\")\n",
        "print(\"A\" ,transpo[1], \"from the airport costs a lot.\")\n",
        "print(\"I miss getting on an\",transpo[2]+\".\")"
      ]
    }
  ]
}