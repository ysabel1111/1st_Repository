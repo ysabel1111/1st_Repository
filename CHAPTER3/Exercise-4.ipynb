{
  "nbformat": 4,
  "nbformat_minor": 0,
  "metadata": {
    "colab": {
      "provenance": [],
      "authorship_tag": "ABX9TyPxa3X2xXCvnNdSd5o4fv4B",
      "include_colab_link": true
    },
    "kernelspec": {
      "name": "python3",
      "display_name": "Python 3"
    },
    "language_info": {
      "name": "python"
    }
  },
  "cells": [
    {
      "cell_type": "markdown",
      "metadata": {
        "id": "view-in-github",
        "colab_type": "text"
      },
      "source": [
        "<a href=\"https://colab.research.google.com/github/ysabel1111/1st_Repository/blob/main/CHAPTER3/Exercise-4.ipynb\" target=\"_parent\"><img src=\"https://colab.research.google.com/assets/colab-badge.svg\" alt=\"Open In Colab\"/></a>"
      ]
    },
    {
      "cell_type": "markdown",
      "source": [
        "If you could invite anyone, living or deceased, to dinner, who would you invite? Make a list that includes at least three people you’d like to invite to dinner. Then use your list to print a message to each person, invitingthem to dinner."
      ],
      "metadata": {
        "id": "CcJodu0ofuBq"
      }
    },
    {
      "cell_type": "code",
      "execution_count": 1,
      "metadata": {
        "colab": {
          "base_uri": "https://localhost:8080/"
        },
        "id": "wTwa0pblfs7T",
        "outputId": "e7753aba-ff8e-46a7-b1d9-52c738cfeb74"
      },
      "outputs": [
        {
          "output_type": "stream",
          "name": "stdout",
          "text": [
            "Taylor Swift, please come to dinner.\n",
            "Selena Gomez, please come to dinner.\n",
            "Doja Cat, please come to dinner.\n"
          ]
        }
      ],
      "source": [
        "#Exercise 4: Guest List \n",
        "\n",
        "#Creating a list for a guests\n",
        "guests = ['Taylor Swift','Selena Gomez','Doja Cat']\n",
        "\n",
        "#Obtain list elements and invite them for dinner\n",
        "name = guests[0].title()\n",
        "print((name + \", please come to dinner.\"))\n",
        "\n",
        "name = guests[1].title()\n",
        "print((name + \", please come to dinner.\"))\n",
        "\n",
        "name = guests[2].title()\n",
        "print((name + \", please come to dinner.\"))"
      ]
    }
  ]
}