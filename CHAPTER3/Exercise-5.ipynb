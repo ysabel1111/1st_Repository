{
  "nbformat": 4,
  "nbformat_minor": 0,
  "metadata": {
    "colab": {
      "provenance": [],
      "authorship_tag": "ABX9TyOINR2XBxycDKlePWS5Mjjc",
      "include_colab_link": true
    },
    "kernelspec": {
      "name": "python3",
      "display_name": "Python 3"
    },
    "language_info": {
      "name": "python"
    }
  },
  "cells": [
    {
      "cell_type": "markdown",
      "metadata": {
        "id": "view-in-github",
        "colab_type": "text"
      },
      "source": [
        "<a href=\"https://colab.research.google.com/github/ysabel1111/1st_Repository/blob/main/CHAPTER3/Exercise-5.ipynb\" target=\"_parent\"><img src=\"https://colab.research.google.com/assets/colab-badge.svg\" alt=\"Open In Colab\"/></a>"
      ]
    },
    {
      "cell_type": "markdown",
      "source": [
        "You just heard that one of your guests can’t make the dinner, so you need to send out a new set of invitations. You’ll have to think of someone else to invite.\n",
        "\n",
        "•Start with your program from Exercise 3-4. Add a print() call at the end of your program stating the name of the guest who can’t make it.\n",
        "\n",
        "•Modify your list, replacing the name of the guest who can’t make it with the name of the new person you are inviting.\n",
        "\n",
        "•Print a second set of invitation messages, one for each person who is still in your list."
      ],
      "metadata": {
        "id": "Ub5PeNN-g-CO"
      }
    },
    {
      "cell_type": "code",
      "execution_count": 1,
      "metadata": {
        "colab": {
          "base_uri": "https://localhost:8080/"
        },
        "id": "II8bzx54g0pf",
        "outputId": "9d65d4aa-eb18-4f81-9dff-f9e872ca5696"
      },
      "outputs": [
        {
          "output_type": "stream",
          "name": "stdout",
          "text": [
            "Taylor Swift, please come to dinner.\n",
            "Selena Gomez, please come to dinner.\n",
            "Doja Cat, please come to dinner.\n",
            "\n",
            "\n",
            "Sorry, Doja Cat can't make it to the dinner.\n",
            "\n",
            "\n",
            "Taylor Swift, please come to dinner.\n",
            "Selena Gomez, please come to dinner.\n",
            "Ariana Grande, please come to dinner.\n"
          ]
        }
      ],
      "source": [
        "#Exercise 5: Change Guest List\n",
        "\n",
        "#Inviting guests for dinner\n",
        "guests = ['Taylor Swift','Selena Gomez','Doja Cat']\n",
        "\n",
        "name = guests[0].title()\n",
        "print((name + \", please come to dinner.\"))\n",
        "\n",
        "name = guests[1].title()\n",
        "print((name + \", please come to dinner.\"))\n",
        "\n",
        "name = guests[2].title()\n",
        "print((name + \", please come to dinner.\"))\n",
        "\n",
        "print(\"\\n\")\n",
        "\n",
        "#Doja Cat is unavailable so we'll just invite Ariana Grande to dinner instead.\n",
        "print(\"Sorry,\" ,name,\"can't make it to the dinner.\")\n",
        "\n",
        "print(\"\\n\")\n",
        "\n",
        "#Replacing the name of the guest to the new person.\n",
        "#Use del keyword to delete item within a list.\n",
        "del(guests[2])\n",
        "guests.insert(2, 'Ariana Grande')\n",
        "\n",
        "\n",
        "#Print a second set of invitation messages\n",
        "name = guests[0].title()\n",
        "print((name + \", please come to dinner.\"))\n",
        "\n",
        "name = guests[1].title()\n",
        "print((name + \", please come to dinner.\"))\n",
        "\n",
        "name = guests[2].title()\n",
        "print((name + \", please come to dinner.\"))\n"
      ]
    }
  ]
}