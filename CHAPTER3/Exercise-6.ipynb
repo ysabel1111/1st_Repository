{
  "nbformat": 4,
  "nbformat_minor": 0,
  "metadata": {
    "colab": {
      "provenance": [],
      "authorship_tag": "ABX9TyMsWpNV3CZNWKI0oICJ1Zc+",
      "include_colab_link": true
    },
    "kernelspec": {
      "name": "python3",
      "display_name": "Python 3"
    },
    "language_info": {
      "name": "python"
    }
  },
  "cells": [
    {
      "cell_type": "markdown",
      "metadata": {
        "id": "view-in-github",
        "colab_type": "text"
      },
      "source": [
        "<a href=\"https://colab.research.google.com/github/ysabel1111/1st_Repository/blob/main/CHAPTER3/Exercise-6.ipynb\" target=\"_parent\"><img src=\"https://colab.research.google.com/assets/colab-badge.svg\" alt=\"Open In Colab\"/></a>"
      ]
    },
    {
      "cell_type": "markdown",
      "source": [
        "You just found out that your new dinner table won’t arrive in time for the dinner, and you have space for only two guests.\n",
        "\n",
        "•Start with your program from Exercise 3-5. Add a new line that prints a message saying that you can invite only two people for dinner.\n",
        "\n",
        "•Use pop() to remove guests from your list one at a time until only two names remain in your list. Each time you pop a name from your list, print a message to that person letting them know you’re sorry you can’t invite them to dinner.\n",
        "\n",
        "•Print a message to each of the two people still on your list, letting them know they’re still invited.\n",
        "\n",
        "•Use del to remove the last two names from your list, so you have an empty list. Print your list to make sure you actually have an empty list at the end of your program."
      ],
      "metadata": {
        "id": "0pXLKVw-hr2E"
      }
    },
    {
      "cell_type": "code",
      "execution_count": 1,
      "metadata": {
        "colab": {
          "base_uri": "https://localhost:8080/"
        },
        "id": "AlChqHCvhrLc",
        "outputId": "e23182f2-314f-4be6-ab29-f82975293ded"
      },
      "outputs": [
        {
          "output_type": "stream",
          "name": "stdout",
          "text": [
            "Taylor Swift, please come to dinner.\n",
            "Selena Gomez, please come to dinner.\n",
            "Doja Cat, please come to dinner.\n",
            "\n",
            "\n",
            "Sorry, Doja Cat can't make it to the dinner.\n",
            "\n",
            "\n",
            "Taylor Swift, please come to dinner.\n",
            "Selena Gomez, please come to dinner.\n",
            "Ariana Grande, please come to dinner.\n",
            "\n",
            "\n",
            "Sorry, we can only invite two people to dinner.\n",
            "Ariana Grande, I'm sorry to say there isn't enough room at the table.\n",
            "\n",
            "\n",
            "Taylor Swift, please come to dinner.\n",
            "Selena Gomez, please come to dinner.\n",
            "[]\n"
          ]
        }
      ],
      "source": [
        "#Exercise 6: Shrinking Guest List\n",
        "\n",
        "#Inviting guests for dinner\n",
        "guests = ['Taylor Swift','Selena Gomez','Doja Cat']\n",
        "\n",
        "name = guests[0].title()\n",
        "print((name + \", please come to dinner.\"))\n",
        "\n",
        "name = guests[1].title()\n",
        "print((name + \", please come to dinner.\"))\n",
        "\n",
        "name = guests[2].title()\n",
        "print((name + \", please come to dinner.\"))\n",
        "\n",
        "print(\"\\n\")\n",
        "\n",
        "#Doja Cat is unavailable so we'll just invite Ariana Grande to dinner instead.\n",
        "print(\"Sorry,\" ,name,\"can't make it to the dinner.\")\n",
        "\n",
        "print(\"\\n\")\n",
        "\n",
        "#Replacing the name of the guest to the new person.\n",
        "#Use del keyword to delete item within a list.\n",
        "del(guests[2])\n",
        "guests.insert(2, 'Ariana Grande')\n",
        "\n",
        "\n",
        "#Print a second set of invitation messages\n",
        "name = guests[0].title()\n",
        "print((name + \", please come to dinner.\"))\n",
        "\n",
        "name = guests[1].title()\n",
        "print((name + \", please come to dinner.\"))\n",
        "\n",
        "name = guests[2].title()\n",
        "print((name + \", please come to dinner.\"))\n",
        "\n",
        "print(\"\\n\")\n",
        "\n",
        "#The tables can't arrive on time\n",
        "print(\"Sorry, we can only invite two people to dinner.\")\n",
        "\n",
        "#Use pop() function to bring back the deleted item from the list.\n",
        "name = guests.pop()\n",
        "print(name + \", I'm sorry to say there isn't enough room at the table.\")\n",
        "\n",
        "print(\"\\n\")\n",
        "\n",
        "#Two guests are still invited\n",
        "name = guests[0]\n",
        "print((name + \", please come to dinner.\"))\n",
        "\n",
        "name = guests[1]\n",
        "print((name + \", please come to dinner.\"))\n",
        "\n",
        "#Empty out the list.\n",
        "#removing the last two names from the list\n",
        "\n",
        "del(guests[0])\n",
        "del(guests[0])\n",
        "\n",
        "#Prove the list is empty.\n",
        "print(guests)\n"
      ]
    }
  ]
}