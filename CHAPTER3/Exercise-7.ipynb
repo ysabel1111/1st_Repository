{
  "nbformat": 4,
  "nbformat_minor": 0,
  "metadata": {
    "colab": {
      "provenance": [],
      "collapsed_sections": [],
      "authorship_tag": "ABX9TyMqDDDtG5HKEFgsEWS1OulB",
      "include_colab_link": true
    },
    "kernelspec": {
      "name": "python3",
      "display_name": "Python 3"
    },
    "language_info": {
      "name": "python"
    }
  },
  "cells": [
    {
      "cell_type": "markdown",
      "metadata": {
        "id": "view-in-github",
        "colab_type": "text"
      },
      "source": [
        "<a href=\"https://colab.research.google.com/github/ysabel1111/1st_Repository/blob/main/CHAPTER3/Exercise-7.ipynb\" target=\"_parent\"><img src=\"https://colab.research.google.com/assets/colab-badge.svg\" alt=\"Open In Colab\"/></a>"
      ]
    },
    {
      "cell_type": "markdown",
      "source": [
        "Think of at least five places in the world you’d like to visit. \n",
        "\n",
        "• Store the locations in a list. Make sure the list is not in alphabetical order.\n",
        "\n",
        "• Print your list in its original order. Don’t worry about printing the list neatly,just print it as a raw Python list.\n",
        "\n",
        "• Use sorted() to print your list in alphabetical order without modifying the actual list.\n",
        "\n",
        "• Show that your list is still in its original order by printing it.\n",
        "\n",
        "• Use sorted() to print your list in reverse alphabetical order without changing the order of the original list.\n",
        "\n",
        "• Show that your list is still in its original order by printing it again.\n",
        "\n",
        "• Use reverse() to change the order of your list. Print the list to show that its order has changed.\n",
        "\n",
        "• Use reverse() to change the order of your list again. Print the list to show it’s back to its original order.\n",
        "\n",
        "• Use sort() to change your list so it’s stored in alphabetical order. Print the list to show that its order has been changed.\n",
        "\n",
        "• Use sort() to change your list so it’s stored in reverse alphabetical order. Print the list to show that its order has changed."
      ],
      "metadata": {
        "id": "ecgp9cCLiolP"
      }
    },
    {
      "cell_type": "code",
      "execution_count": 2,
      "metadata": {
        "colab": {
          "base_uri": "https://localhost:8080/"
        },
        "id": "PVgvkhF4il8K",
        "outputId": "10de2e3d-5a6b-42ad-d656-1a9712edf262"
      },
      "outputs": [
        {
          "output_type": "stream",
          "name": "stdout",
          "text": [
            "Raw List:\n",
            "['Tokyo', 'Paris', 'London', 'Venice', 'Seoul']\n",
            "\n",
            "Alphabetical Order:\n",
            "['London', 'Paris', 'Seoul', 'Tokyo', 'Venice']\n",
            "\n",
            "Original order:\n",
            "['Tokyo', 'Paris', 'London', 'Venice', 'Seoul']\n",
            "\n",
            "Reversed Order:\n",
            "['Seoul', 'Venice', 'London', 'Paris', 'Tokyo']\n",
            "\n",
            "Original order:\n",
            "['Tokyo', 'Paris', 'London', 'Venice', 'Seoul']\n",
            "\n",
            "Alphabetical Order:\n",
            "['London', 'Paris', 'Seoul', 'Tokyo', 'Venice']\n",
            "\n",
            "Reverse Alphabetical Order:\n",
            "['Venice', 'Tokyo', 'Seoul', 'Paris', 'London']\n"
          ]
        }
      ],
      "source": [
        "#Exercise 7: Seeing the World\n",
        "\n",
        "locations = [\"Tokyo\",\"Paris\",\"London\",\"Venice\",\"Seoul\"] #list of strings\n",
        "print(\"Raw List:\")\n",
        "print(locations)\n",
        "\n",
        "#Alphabetical Order\n",
        "print(\"\\nAlphabetical Order:\")\n",
        "print(sorted(locations)) \n",
        "\n",
        "#Original Order\n",
        "print(\"\\nOriginal order:\")\n",
        "print(locations)\n",
        "\n",
        "#Reverse List Order\n",
        "print(\"\\nReversed Order:\")\n",
        "locations.reverse()\n",
        "print(locations)\n",
        "\n",
        "#Original Order\n",
        "print(\"\\nOriginal order:\")\n",
        "locations.reverse()\n",
        "print(locations)\n",
        "\n",
        "#Sort to stored in Alphabetical Order\n",
        "print(\"\\nAlphabetical Order:\")\n",
        "locations.sort()\n",
        "print(locations)\n",
        "\n",
        "#Sort to stored in Reverse Alphabetical Order\n",
        "print(\"\\nReverse Alphabetical Order:\")\n",
        "locations.sort(reverse=True) #The list is permanently sorted in reverse alphabetical order\n",
        "print(locations)\n",
        "\n",
        "\n"
      ]
    }
  ]
}