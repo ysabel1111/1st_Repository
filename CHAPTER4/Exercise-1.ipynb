{
  "nbformat": 4,
  "nbformat_minor": 0,
  "metadata": {
    "colab": {
      "provenance": [],
      "authorship_tag": "ABX9TyMr6pDEBcBT4mCp+26+A895",
      "include_colab_link": true
    },
    "kernelspec": {
      "name": "python3",
      "display_name": "Python 3"
    },
    "language_info": {
      "name": "python"
    }
  },
  "cells": [
    {
      "cell_type": "markdown",
      "metadata": {
        "id": "view-in-github",
        "colab_type": "text"
      },
      "source": [
        "<a href=\"https://colab.research.google.com/github/ysabel1111/1st_Repository/blob/main/CHAPTER4/Exercise-1.ipynb\" target=\"_parent\"><img src=\"https://colab.research.google.com/assets/colab-badge.svg\" alt=\"Open In Colab\"/></a>"
      ]
    },
    {
      "cell_type": "markdown",
      "source": [
        "Imagine an alien was just shot down in a game. Create a variable called alien_color and assign it a value of 'green', 'yellow', or 'red'.\n",
        "\n",
        "•Write an if statement to test whether the alien’s color is green. If it is, print a message that the player just earned 5 points.\n",
        "\n",
        "•Write one version of this program that passes the if test and another that fails. (The version that fails will have no output.)"
      ],
      "metadata": {
        "id": "9n0vTZuPlcBt"
      }
    },
    {
      "cell_type": "code",
      "execution_count": 4,
      "metadata": {
        "colab": {
          "base_uri": "https://localhost:8080/"
        },
        "id": "IAQcsnpLlDxc",
        "outputId": "3215d108-aef4-4cd3-9621-4b04e399f4a8"
      },
      "outputs": [
        {
          "output_type": "stream",
          "name": "stdout",
          "text": [
            "You just earned 5 points.\n"
          ]
        }
      ],
      "source": [
        "#Exercise 1: Alien Colors #1\n",
        "\n",
        "#Passing version\n",
        "alien_color = 'green'\n",
        "if alien_color == 'green' :  #Uses Simple If Statements to perform a particular code/condition only \n",
        "  print('You just earned 5 points.')\n"
      ]
    },
    {
      "cell_type": "code",
      "source": [
        "#Failing version\n",
        "alien_color = 'red'\n",
        "if alien_color == 'green' :\n",
        "  print('You just earned 5 points.') #Since the condition is not true hence no output"
      ],
      "metadata": {
        "id": "bIzX9RfmlxvJ"
      },
      "execution_count": 5,
      "outputs": []
    }
  ]
}