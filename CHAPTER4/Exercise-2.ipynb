{
  "nbformat": 4,
  "nbformat_minor": 0,
  "metadata": {
    "colab": {
      "provenance": [],
      "authorship_tag": "ABX9TyM95geF9bt//twrY6hrawwW",
      "include_colab_link": true
    },
    "kernelspec": {
      "name": "python3",
      "display_name": "Python 3"
    },
    "language_info": {
      "name": "python"
    }
  },
  "cells": [
    {
      "cell_type": "markdown",
      "metadata": {
        "id": "view-in-github",
        "colab_type": "text"
      },
      "source": [
        "<a href=\"https://colab.research.google.com/github/ysabel1111/1st_Repository/blob/main/CHAPTER4/Exercise-2.ipynb\" target=\"_parent\"><img src=\"https://colab.research.google.com/assets/colab-badge.svg\" alt=\"Open In Colab\"/></a>"
      ]
    },
    {
      "cell_type": "markdown",
      "source": [
        "Choose a color for an alien as you did in Exercise 5-3, and write an if-else chain.\n",
        "\n",
        "•If the alien’s color is green, print a statement that the player just earned 5 points for shooting the alien.\n",
        "\n",
        "•If the alien’s color isn’t green, print a statement that the player just earned 10 points.\n",
        "\n",
        "•Write one version of this program that runs the if block and another that runs the else block."
      ],
      "metadata": {
        "id": "MqAx27lUnUL0"
      }
    },
    {
      "cell_type": "code",
      "execution_count": 6,
      "metadata": {
        "colab": {
          "base_uri": "https://localhost:8080/"
        },
        "id": "G6ndhlagnR6c",
        "outputId": "0044e561-7982-4f9b-b8cf-a07e8cc87497"
      },
      "outputs": [
        {
          "output_type": "stream",
          "name": "stdout",
          "text": [
            "Enter alien's color: green\n",
            "You just earned 5 points.\n"
          ]
        }
      ],
      "source": [
        "#Exercise 2: Alien Colors #2\n",
        "\n",
        "#Asks the alien's color from the user using input() function\n",
        "alien_color=str(input(\"Enter alien's color: \"))\n",
        "\n",
        "if alien_color == 'green' :\n",
        "  print(\"You just earned 5 points.\") #Once enter 'green' then it will print\n",
        "else:\n",
        "    print(\"You just earned 10 points.\") #Other colors except green then it will print"
      ]
    },
    {
      "cell_type": "code",
      "source": [
        "#Asks the alien's color from the user using input() function\n",
        "alien_color=str(input(\"Enter alien's color: \"))\n",
        "\n",
        "if alien_color == 'green' :\n",
        "  print(\"You just earned 5 points.\") #Once enter 'green' then it will print\n",
        "else:\n",
        "    print(\"You just earned 10 points.\") #Other colors except green then it will print"
      ],
      "metadata": {
        "colab": {
          "base_uri": "https://localhost:8080/"
        },
        "id": "jcyNvRtynrxS",
        "outputId": "0ab89aa5-2700-45bc-a355-5a1606b7a29e"
      },
      "execution_count": 7,
      "outputs": [
        {
          "output_type": "stream",
          "name": "stdout",
          "text": [
            "Enter alien's color: gray\n",
            "You just earned 10 points.\n"
          ]
        }
      ]
    }
  ]
}