{
  "nbformat": 4,
  "nbformat_minor": 0,
  "metadata": {
    "colab": {
      "provenance": [],
      "authorship_tag": "ABX9TyPcS2QfYjSF/kYxLYrVt2N0",
      "include_colab_link": true
    },
    "kernelspec": {
      "name": "python3",
      "display_name": "Python 3"
    },
    "language_info": {
      "name": "python"
    }
  },
  "cells": [
    {
      "cell_type": "markdown",
      "metadata": {
        "id": "view-in-github",
        "colab_type": "text"
      },
      "source": [
        "<a href=\"https://colab.research.google.com/github/ysabel1111/1st_Repository/blob/main/CHAPTER4/Exercise-3.ipynb\" target=\"_parent\"><img src=\"https://colab.research.google.com/assets/colab-badge.svg\" alt=\"Open In Colab\"/></a>"
      ]
    },
    {
      "cell_type": "markdown",
      "source": [
        "Turn your if-else chain from Exercise 5-4 into an if-elifelse chain.\n",
        "\n",
        "• If the alien is green, print a message that the player earned 5 points.\n",
        "\n",
        "• If the alien is yellow, print a message that the player earned 10 points.\n",
        "\n",
        "• If the alien is red, print a message that the player earned 15 points.\n",
        "\n",
        "• Write three versions of this program, making sure each message is printed for the appropriate color alien."
      ],
      "metadata": {
        "id": "cYUjDNSIpj5T"
      }
    },
    {
      "cell_type": "code",
      "execution_count": 2,
      "metadata": {
        "colab": {
          "base_uri": "https://localhost:8080/"
        },
        "id": "o5WqGcCopcx7",
        "outputId": "5c85b797-34cf-4376-a5ce-aebd6bdee29f"
      },
      "outputs": [
        {
          "output_type": "stream",
          "name": "stdout",
          "text": [
            "Enter alien's color: green\n",
            "You just earned 5 points.\n"
          ]
        }
      ],
      "source": [
        "#Exercise 3: Alien Colors #3\n",
        "\n",
        "#Asks the alien's color from the user using input() function\n",
        "alien_color=str(input(\"Enter alien's color: \"))\n",
        "\n",
        "#if-elif-else statement for the specific alien's color\n",
        "if alien_color == 'green' :\n",
        "  print(\"You just earned 5 points.\") #color green\n",
        "elif alien_color == 'yellow' :\n",
        "  print(\"You just earned 10 points.\") #color yellow\n",
        "elif alien_color == 'red' :\n",
        "    print(\"You just earned 15 points.\") #color red\n",
        "else:\n",
        "    print(\"You just earned 0 point.\") #Optional else "
      ]
    },
    {
      "cell_type": "code",
      "source": [
        "#Asks the alien's color from the user using input() function\n",
        "alien_color=str(input(\"Enter alien's color: \"))\n",
        "\n",
        "#if-elif-else statement for the specific alien's color\n",
        "if alien_color == 'green' :\n",
        "  print(\"You just earned 5 points.\") #color green\n",
        "elif alien_color == 'yellow' :\n",
        "  print(\"You just earned 10 points.\") #color yellow\n",
        "elif alien_color == 'red' :\n",
        "    print(\"You just earned 15 points.\") #color red\n",
        "else:\n",
        "    print(\"You just earned 0 point.\") #Optional else "
      ],
      "metadata": {
        "id": "CAudP_SFqxt9",
        "outputId": "f36cad95-2680-452d-ca3e-43d979de8019",
        "colab": {
          "base_uri": "https://localhost:8080/"
        }
      },
      "execution_count": 3,
      "outputs": [
        {
          "output_type": "stream",
          "name": "stdout",
          "text": [
            "Enter alien's color: yellow\n",
            "You just earned 10 points.\n"
          ]
        }
      ]
    },
    {
      "cell_type": "code",
      "source": [
        "#Asks the alien's color from the user using input() function\n",
        "alien_color=str(input(\"Enter alien's color: \"))\n",
        "\n",
        "#if-elif-else statement for the specific alien's color\n",
        "if alien_color == 'green' :\n",
        "  print(\"You just earned 5 points.\") #color green\n",
        "elif alien_color == 'yellow' :\n",
        "  print(\"You just earned 10 points.\") #color yellow\n",
        "elif alien_color == 'red' :\n",
        "    print(\"You just earned 15 points.\") #color red\n",
        "else:\n",
        "    print(\"You just earned 0 point.\") #Optional else "
      ],
      "metadata": {
        "id": "vwGQVGNBq0C4",
        "outputId": "25a2ee79-618b-42b9-cae8-3aafa7da2198",
        "colab": {
          "base_uri": "https://localhost:8080/"
        }
      },
      "execution_count": 4,
      "outputs": [
        {
          "output_type": "stream",
          "name": "stdout",
          "text": [
            "Enter alien's color: red\n",
            "You just earned 15 points.\n"
          ]
        }
      ]
    }
  ]
}