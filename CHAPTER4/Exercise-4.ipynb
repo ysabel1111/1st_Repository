{
  "nbformat": 4,
  "nbformat_minor": 0,
  "metadata": {
    "colab": {
      "provenance": [],
      "authorship_tag": "ABX9TyNuvDUjSRfuUeuHlWJ4RtQs",
      "include_colab_link": true
    },
    "kernelspec": {
      "name": "python3",
      "display_name": "Python 3"
    },
    "language_info": {
      "name": "python"
    }
  },
  "cells": [
    {
      "cell_type": "markdown",
      "metadata": {
        "id": "view-in-github",
        "colab_type": "text"
      },
      "source": [
        "<a href=\"https://colab.research.google.com/github/ysabel1111/1st_Repository/blob/main/CHAPTER4/Exercise-4.ipynb\" target=\"_parent\"><img src=\"https://colab.research.google.com/assets/colab-badge.svg\" alt=\"Open In Colab\"/></a>"
      ]
    },
    {
      "cell_type": "markdown",
      "source": [
        "Write an if-elif-else chain that determines a person’s stage of life. Set a value for the variable age, and then:\n",
        "\n",
        "•If the person is less than 2 years old, print a message that the person is a baby.\n",
        "\n",
        "•If the person is at least 2 years old but less than 4, print a message that the person is a toddler.\n",
        "\n",
        "•If the person is at least 4 years old but less than 13, print a message that the person is a kid.\n",
        "\n",
        "•If the person is at least 13 years old but less than 20, print a message that the person is a teenager.\n",
        "\n",
        "•If the person is at least 20 years old but less than 65, print a message that the person is an adult.\n",
        "\n",
        "•If the person is age 65 or older, print a message that the person is an elder."
      ],
      "metadata": {
        "id": "wUrLddhGrGin"
      }
    },
    {
      "cell_type": "code",
      "execution_count": 2,
      "metadata": {
        "colab": {
          "base_uri": "https://localhost:8080/"
        },
        "id": "WD_etX9bq_Ui",
        "outputId": "b63c9b52-2276-4250-cfc8-05c035db84e7"
      },
      "outputs": [
        {
          "output_type": "stream",
          "name": "stdout",
          "text": [
            "Enter your age: \n",
            "55\n",
            "You're an adult!\n"
          ]
        }
      ],
      "source": [
        "#Exercise 4: Stages of Life\n",
        "\n",
        "#Asks the age from the user and print the value of the number\n",
        "print(\"Enter your age: \")\n",
        "age=int(input())\n",
        "\n",
        "#if-elif-else statement for a person's age\n",
        "if age < 2:\n",
        "    print(\"You're still a baby!\") #print if the statement is true\n",
        "elif age < 4:\n",
        "    print(\"You're a toddler!\") #print if the statement otherwise is true\n",
        "elif age < 13:\n",
        "    print(\"You're a kid!\") #print if another statement is true\n",
        "elif age < 20:\n",
        "    print(\"You're a teenager!\") #print is the statement is true\n",
        "elif age < 65:\n",
        "    print(\"You're an adult!\") ##print if the statement otherwise is true\n",
        "else:\n",
        "    print(\"You're an elder!\") #print if another statement is true"
      ]
    }
  ]
}