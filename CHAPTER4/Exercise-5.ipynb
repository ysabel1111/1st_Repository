{
  "nbformat": 4,
  "nbformat_minor": 0,
  "metadata": {
    "colab": {
      "provenance": [],
      "authorship_tag": "ABX9TyMNmbgzrEZzJOU3WOtaR+b7",
      "include_colab_link": true
    },
    "kernelspec": {
      "name": "python3",
      "display_name": "Python 3"
    },
    "language_info": {
      "name": "python"
    }
  },
  "cells": [
    {
      "cell_type": "markdown",
      "metadata": {
        "id": "view-in-github",
        "colab_type": "text"
      },
      "source": [
        "<a href=\"https://colab.research.google.com/github/ysabel1111/1st_Repository/blob/main/CHAPTER4/Exercise-5.ipynb\" target=\"_parent\"><img src=\"https://colab.research.google.com/assets/colab-badge.svg\" alt=\"Open In Colab\"/></a>"
      ]
    },
    {
      "cell_type": "markdown",
      "source": [
        "Make a list of your favorite fruits, and then write a series of independent if statements that check for certain fruits in your list.\n",
        "\n",
        "•Make a list of your three favorite fruits and call it favorite_fruits.\n",
        "\n",
        "•Write five if statements. Each should check whether a certain kind of fruit is in your list. If the fruit is in your list, the if block should print a statement,such as You really like bananas!"
      ],
      "metadata": {
        "id": "mHm5D4Otug0X"
      }
    },
    {
      "cell_type": "code",
      "execution_count": 2,
      "metadata": {
        "colab": {
          "base_uri": "https://localhost:8080/"
        },
        "id": "qLAMy0LZufha",
        "outputId": "bb63bcc7-1d25-4f0e-b470-996335cc8479"
      },
      "outputs": [
        {
          "output_type": "stream",
          "name": "stdout",
          "text": [
            "You really like banana!\n",
            "You really like melon!\n"
          ]
        }
      ],
      "source": [
        "#Exercise 5: Favorite Fruit \n",
        "\n",
        "#Make a string list\n",
        "favorite_fruits = ['banana', 'melon', 'orange']\n",
        "\n",
        "#Simple if-statement when the condition is true\n",
        "if 'banana' in favorite_fruits:\n",
        "  print('You really like banana!') #Executes the statement\n",
        "\n",
        "if 'melon' in favorite_fruits:\n",
        "  print('You really like melon!') #Executes the statement\n",
        "\n",
        "if 'apple' in favorite_fruits:\n",
        "  print('You really like apple!') #Does not execute the statement\n",
        "\n",
        "if 'kiwi' in favorite_fruits:\n",
        "  print('You really like kiwi') #Does not execute the statement"
      ]
    }
  ]
}