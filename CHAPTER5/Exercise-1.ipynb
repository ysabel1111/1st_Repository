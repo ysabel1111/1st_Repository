{
  "nbformat": 4,
  "nbformat_minor": 0,
  "metadata": {
    "colab": {
      "provenance": [],
      "authorship_tag": "ABX9TyNkSsM69g6WhNqT/Q20ewyr",
      "include_colab_link": true
    },
    "kernelspec": {
      "name": "python3",
      "display_name": "Python 3"
    },
    "language_info": {
      "name": "python"
    }
  },
  "cells": [
    {
      "cell_type": "markdown",
      "metadata": {
        "id": "view-in-github",
        "colab_type": "text"
      },
      "source": [
        "<a href=\"https://colab.research.google.com/github/ysabel1111/1st_Repository/blob/main/CHAPTER5/Exercise-1.ipynb\" target=\"_parent\"><img src=\"https://colab.research.google.com/assets/colab-badge.svg\" alt=\"Open In Colab\"/></a>"
      ]
    },
    {
      "cell_type": "code",
      "execution_count": 3,
      "metadata": {
        "colab": {
          "base_uri": "https://localhost:8080/"
        },
        "id": "KYIA-OLdUMpg",
        "outputId": "429db715-8435-4e8c-c764-4734b050d68a"
      },
      "outputs": [
        {
          "output_type": "stream",
          "name": "stdout",
          "text": [
            "{'First Name': 'Taylor', 'Last Name': 'Swift', 'Age': '32', 'City': 'United States'}\n",
            "Taylor\n",
            "Swift\n",
            "32\n",
            "United States\n"
          ]
        }
      ],
      "source": [
        "#Exercise 1: Person\n",
        "\n",
        "#Creating a dictionary that stores data of a person's firt name, last name, age, and city\n",
        "person={'First Name':'Taylor', 'Last Name':'Swift', 'Age':'32','City':'United States'} #string value, int value\n",
        "print(person) #prints the key-value pair \n",
        "\n",
        "#prints only values for each dictionary object\n",
        "print(person['First Name'])\n",
        "print(person['Last Name'])\n",
        "print(person['Age'])\n",
        "print(person['City'])"
      ]
    }
  ]
}