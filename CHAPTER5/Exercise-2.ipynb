{
  "nbformat": 4,
  "nbformat_minor": 0,
  "metadata": {
    "colab": {
      "provenance": [],
      "authorship_tag": "ABX9TyMe+BRAcyB4nrGxh33Cp1mE",
      "include_colab_link": true
    },
    "kernelspec": {
      "name": "python3",
      "display_name": "Python 3"
    },
    "language_info": {
      "name": "python"
    }
  },
  "cells": [
    {
      "cell_type": "markdown",
      "metadata": {
        "id": "view-in-github",
        "colab_type": "text"
      },
      "source": [
        "<a href=\"https://colab.research.google.com/github/ysabel1111/1st_Repository/blob/main/CHAPTER5/Exercise-2.ipynb\" target=\"_parent\"><img src=\"https://colab.research.google.com/assets/colab-badge.svg\" alt=\"Open In Colab\"/></a>"
      ]
    },
    {
      "cell_type": "markdown",
      "source": [
        "A Python dictionary can be used to model an actual dictionary. However, to avoid confusion, let’s call it a glossary.\n",
        "\n",
        "*   Think of five programming words you’ve learned about in the previous chapters. Use these words as the keys in your glossary, and store\n",
        "their meanings as values.\n",
        "*   Print each word and its meaning as neatly formatted output. You might print the word followed by a colon and then its meaning, or print\n",
        "the word on one line and then print its meaning indented on a second line. Use the newline character (\\n) to insert a blank line between each word-meaning pair in your output.   \n"
      ],
      "metadata": {
        "id": "2v62yk-MYx44"
      }
    },
    {
      "cell_type": "code",
      "execution_count": 3,
      "metadata": {
        "colab": {
          "base_uri": "https://localhost:8080/"
        },
        "id": "6SyaovfoXgi0",
        "outputId": "872364bd-d47f-4d6e-fbc7-4541c8fc3e36"
      },
      "outputs": [
        {
          "output_type": "stream",
          "name": "stdout",
          "text": [
            "Strings :\n",
            "A contiguous set of characters represented in the quotation marks. Python allows for either pairs of single or double quotes.\n",
            "\n",
            "Input Function :\n",
            "It reads a line from the input (usually from the user), converts the line into a string by removing the trailing newline, and returns it.\n",
            "\n",
            "Loop :\n",
            "To execute a code statement or several code statements multiple times.\n",
            "\n",
            "Dictionary :\n",
            "A collection of key-value pairs.\n",
            "\n",
            "Comment :\n",
            "Adding short descriptions using \"#\" to the code to make it easier to understand.\n",
            "\n"
          ]
        }
      ],
      "source": [
        "#Exercise 2: Glossary\n",
        "\n",
        "#strings, input function, loop, dictionary, comments\n",
        "#Creates a dictionary that names it as glossary\n",
        "glossary ={\n",
        "    'Strings': 'A contiguous set of characters represented in the quotation marks. Python allows for either pairs of single or double quotes.' ,\n",
        "    'Input Function': 'It reads a line from the input (usually from the user), converts the line into a string by removing the trailing newline, and returns it.',\n",
        "    'Loop': 'To execute a code statement or several code statements multiple times.',\n",
        "    'Dictionary' : 'A collection of key-value pairs.',\n",
        "    'Comment' : 'Adding short descriptions using \"#\" to the code to make it easier to understand.'\n",
        "}\n",
        "\n",
        "print('Strings :') #Prints the key only\n",
        "print(glossary['Strings']+'\\n') #Prints the value only + adding \\n to add a newline to a string\n",
        "\n",
        "print('Input Function :')\n",
        "print(glossary['Input Function']+'\\n')\n",
        "\n",
        "print('Loop :')\n",
        "print(glossary['Loop']+'\\n')\n",
        "\n",
        "print('Dictionary :')\n",
        "print(glossary['Dictionary']+'\\n')\n",
        "\n",
        "print('Comment :')\n",
        "print(glossary['Comment']+'\\n')"
      ]
    }
  ]
}