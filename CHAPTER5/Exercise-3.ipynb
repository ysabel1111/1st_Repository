{
  "nbformat": 4,
  "nbformat_minor": 0,
  "metadata": {
    "colab": {
      "provenance": [],
      "collapsed_sections": [],
      "authorship_tag": "ABX9TyNJ76g5QLQ/+ijo/EgSLvbM",
      "include_colab_link": true
    },
    "kernelspec": {
      "name": "python3",
      "display_name": "Python 3"
    },
    "language_info": {
      "name": "python"
    }
  },
  "cells": [
    {
      "cell_type": "markdown",
      "metadata": {
        "id": "view-in-github",
        "colab_type": "text"
      },
      "source": [
        "<a href=\"https://colab.research.google.com/github/ysabel1111/1st_Repository/blob/main/CHAPTER5/Exercise-3.ipynb\" target=\"_parent\"><img src=\"https://colab.research.google.com/assets/colab-badge.svg\" alt=\"Open In Colab\"/></a>"
      ]
    },
    {
      "cell_type": "markdown",
      "source": [
        "Now that you know how to loop through a dictionary, clean up the code from Exercise 6-3 (page 99) by replacing your series of print()\n",
        "\n",
        "calls with a loop that runs through the dictionary’s keys and values. When you’re sure that your loop works, add five more Python terms\n",
        "\n",
        "to your glossary. When you run your program again, these new words and meanings should automatically be included in the output."
      ],
      "metadata": {
        "id": "3e3kn2yQkgPS"
      }
    },
    {
      "cell_type": "code",
      "execution_count": 1,
      "metadata": {
        "colab": {
          "base_uri": "https://localhost:8080/"
        },
        "id": "16Fqz-PMkd_0",
        "outputId": "99cd462f-2e21-4ffb-b1bc-3670fc942f40"
      },
      "outputs": [
        {
          "output_type": "stream",
          "name": "stdout",
          "text": [
            "\n",
            "Strings: A contiguous set of characters represented in the quotation marks. Python allows for either pairs of single or double quotes.\n",
            "\n",
            "Input Function: It reads a line from the input (usually from the user), converts the line into a string by removing the trailing newline, and returns it.\n",
            "\n",
            "Loop: To execute a code statement or several code statements multiple times.\n",
            "\n",
            "Dictionary: A collection of key-value pairs.\n",
            "\n",
            "Comment: The inclusion of short descriptions along with the code to increase its readability.\n",
            "\n",
            "List: An ordered set of values, where each value is identified by an index.\n",
            "\n",
            "Variable: A name that refers to a value.\n",
            "\n",
            "lstrip(): it removes spaces from left side of string.\n",
            "\n",
            "rstrip(): it removes spaces from right side of string.\n",
            "\n",
            "strip(): it removes spaces from both left and right side of the string.\n"
          ]
        }
      ],
      "source": [
        "#Exercise 3: Glossary 2 \n",
        "\n",
        "#strings, input function, loop, dictionary, comments, lists, variable, lstrip(), rstrip(), strip()\n",
        "#Creates a dictionary that names it as glossary\n",
        "#Adding 5 more key and values to include in the output \n",
        "\n",
        "glossary ={\n",
        "    'Strings': 'A contiguous set of characters represented in the quotation marks. Python allows for either pairs of single or double quotes.' ,\n",
        "    'Input Function': 'It reads a line from the input (usually from the user), converts the line into a string by removing the trailing newline, and returns it.',\n",
        "    'Loop': 'To execute a code statement or several code statements multiple times.',\n",
        "    'Dictionary' : 'A collection of key-value pairs.',\n",
        "    'Comment' : 'The inclusion of short descriptions along with the code to increase its readability.',\n",
        "    'List' : 'An ordered set of values, where each value is identified by an index.',\n",
        "    'Variable': 'A name that refers to a value.',\n",
        "    'lstrip()': 'it removes spaces from left side of string.',\n",
        "    'rstrip()': 'it removes spaces from right side of string.',\n",
        "    'strip()': 'it removes spaces from both left and right side of the string.'\n",
        "}\n",
        "\n",
        "#using loop to run the dictionary's keys and values\n",
        "\n",
        "for word, definition in glossary.items():\n",
        "    print(f\"\\n{word}: {definition}\")\n"
      ]
    }
  ]
}