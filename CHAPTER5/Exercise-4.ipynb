{
  "nbformat": 4,
  "nbformat_minor": 0,
  "metadata": {
    "colab": {
      "provenance": [],
      "authorship_tag": "ABX9TyOV/Yk5gu7RyVL8p/n+hVF1",
      "include_colab_link": true
    },
    "kernelspec": {
      "name": "python3",
      "display_name": "Python 3"
    },
    "language_info": {
      "name": "python"
    }
  },
  "cells": [
    {
      "cell_type": "markdown",
      "metadata": {
        "id": "view-in-github",
        "colab_type": "text"
      },
      "source": [
        "<a href=\"https://colab.research.google.com/github/ysabel1111/1st_Repository/blob/main/CHAPTER5/Exercise-4.ipynb\" target=\"_parent\"><img src=\"https://colab.research.google.com/assets/colab-badge.svg\" alt=\"Open In Colab\"/></a>"
      ]
    },
    {
      "cell_type": "markdown",
      "source": [
        "Make a dictionary containing three major rivers and the country each river runs through. One key-value pair might be 'nile': 'egypt'.\n",
        "*   Use a loop to print a sentence about each river, such as The Nile runs through Egypt.\n",
        "*   Use a loop to print the name of each river included in the dictionary.\n",
        "\n",
        "*   Use a loop to print the name of each country included in the dictionary.\n"
      ],
      "metadata": {
        "id": "-3Y0bdi7p5i_"
      }
    },
    {
      "cell_type": "code",
      "execution_count": 2,
      "metadata": {
        "colab": {
          "base_uri": "https://localhost:8080/"
        },
        "id": "7cBLD3I4ovxQ",
        "outputId": "bc98d1e5-6d30-4f7c-bb87-e560f8a43594"
      },
      "outputs": [
        {
          "output_type": "stream",
          "name": "stdout",
          "text": [
            "The Nile flows through Egypt.\n",
            "The Amazon flows through South America.\n",
            "The Mississippi flows through United States.\n",
            "\n",
            "The following rivers are included in the dictionary:\n",
            "Nile\n",
            "Amazon\n",
            "Mississippi\n",
            "\n",
            "The following countries are included in the dictionary:\n",
            "Egypt\n",
            "South America\n",
            "United States\n"
          ]
        }
      ],
      "source": [
        "#Exercise 4: Rivers\n",
        "\n",
        "rivers = {'Nile': 'Egypt','Amazon': 'South America','Mississippi': 'United States'} #Using a dictionary\n",
        "\n",
        "for river, country in rivers.items(): #Prints the key-value pairs with a string\n",
        "    print(\"The \" + river.title() + \" flows through \" + country.title() + \".\")\n",
        "\n",
        "print('\\nThe following rivers are included in the dictionary:')\n",
        "for river in rivers.keys(): #Runs only the river\n",
        "  print(river)\n",
        "\n",
        "print('\\nThe following countries are included in the dictionary:')\n",
        "for country in rivers.values(): #Run only the country\n",
        "  print(country)"
      ]
    }
  ]
}