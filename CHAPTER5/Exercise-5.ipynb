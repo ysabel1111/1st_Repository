{
  "nbformat": 4,
  "nbformat_minor": 0,
  "metadata": {
    "colab": {
      "provenance": [],
      "authorship_tag": "ABX9TyOh/aK5p7PeG+aGsrSqj0vS",
      "include_colab_link": true
    },
    "kernelspec": {
      "name": "python3",
      "display_name": "Python 3"
    },
    "language_info": {
      "name": "python"
    }
  },
  "cells": [
    {
      "cell_type": "markdown",
      "metadata": {
        "id": "view-in-github",
        "colab_type": "text"
      },
      "source": [
        "<a href=\"https://colab.research.google.com/github/ysabel1111/1st_Repository/blob/main/CHAPTER5/Exercise-5.ipynb\" target=\"_parent\"><img src=\"https://colab.research.google.com/assets/colab-badge.svg\" alt=\"Open In Colab\"/></a>"
      ]
    },
    {
      "cell_type": "markdown",
      "source": [
        "Make several dictionaries, where each dictionary represents a different pet. In each dictionary, include the kind of animal and the owner’s name. Store these dictionaries in a list called pets. Next, loop through your list and asyou do, print everything you know about each pet."
      ],
      "metadata": {
        "id": "MMyBT631Vq-6"
      }
    },
    {
      "cell_type": "code",
      "execution_count": 1,
      "metadata": {
        "colab": {
          "base_uri": "https://localhost:8080/"
        },
        "id": "2_koqzADVjLA",
        "outputId": "3d7ae5d8-1206-4ff6-9537-e3b938cc3119"
      },
      "outputs": [
        {
          "output_type": "stream",
          "name": "stdout",
          "text": [
            "\n",
            "All the information I have about Rian's pet:\n",
            "Animal Type : Dog\n",
            "Breed : Shih Tzu\n",
            "Pet's Name : Whitey\n",
            "Owner's Name : Rian\n",
            "\n",
            "All the information I have about Jae's pet:\n",
            "Animal Type : Fish\n",
            "Breed : Betta\n",
            "Pet's Name : Nemo\n",
            "Owner's Name : Jae\n",
            "\n",
            "All the information I have about Alexander's pet:\n",
            "Animal Type : Dog\n",
            "Breed : Golden Retriever\n",
            "Pet's Name : Axel\n",
            "Owner's Name : Alexander\n"
          ]
        }
      ],
      "source": [
        "#Exercise 5: Pets \n",
        "\n",
        "#Store information about each pets in a list.\n",
        "#Empty list to store all different pets\n",
        "pets = []  \n",
        "\n",
        "#Making several dictionaries\n",
        "pet = {\"Animal Type\": \"Dog\", \"Breed\": \"Shih Tzu\", \"Pet's Name\" : \"Whitey\",\"Owner's Name\" : \"Rian\"}\n",
        "pets.append(pet)\n",
        "\n",
        "pet = {\"Animal Type\": \"Fish\", \"Breed\": \"Betta\", \"Pet's Name\" : \"Nemo\", \"Owner's Name\" : \"Jae\"}\n",
        "pets.append(pet)\n",
        "\n",
        "pet = {\"Animal Type\": \"Dog\", \"Breed\": \"Golden Retriever\", \"Pet's Name\" : \"Axel\",\"Owner's Name\" : \"Alexander\"}\n",
        "pets.append(pet)\n",
        "\n",
        "#Summarize the details for each pet.\n",
        "#Prints the key-value pairs\n",
        "for pet in pets:\n",
        "  print(\"\\nAll the information I have about \" + pet[\"Owner's Name\"] + \"'s pet:\")\n",
        "  for key, values in pet.items():\n",
        "    print(str(key) + \" : \" + str(values))\n",
        "\n"
      ]
    }
  ]
}