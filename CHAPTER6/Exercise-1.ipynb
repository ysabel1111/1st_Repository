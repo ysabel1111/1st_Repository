{
  "nbformat": 4,
  "nbformat_minor": 0,
  "metadata": {
    "colab": {
      "provenance": [],
      "authorship_tag": "ABX9TyNZolbeKIAWFfZ1j/tZmsD0",
      "include_colab_link": true
    },
    "kernelspec": {
      "name": "python3",
      "display_name": "Python 3"
    },
    "language_info": {
      "name": "python"
    }
  },
  "cells": [
    {
      "cell_type": "markdown",
      "metadata": {
        "id": "view-in-github",
        "colab_type": "text"
      },
      "source": [
        "<a href=\"https://colab.research.google.com/github/ysabel1111/1st_Repository/blob/main/CHAPTER6/Exercise-1.ipynb\" target=\"_parent\"><img src=\"https://colab.research.google.com/assets/colab-badge.svg\" alt=\"Open In Colab\"/></a>"
      ]
    },
    {
      "cell_type": "markdown",
      "source": [
        "Write a loop that prompts the user to enter a series of pizza toppings until they enter a 'quit' value. As they enter each topping,\n",
        "\n",
        "print a message saying you’ll add that topping to their pizza."
      ],
      "metadata": {
        "id": "owkAl7u1hzcb"
      }
    },
    {
      "cell_type": "code",
      "execution_count": 1,
      "metadata": {
        "colab": {
          "base_uri": "https://localhost:8080/"
        },
        "id": "rtOp3DMThtmi",
        "outputId": "9ad91f6a-c8ec-4dcd-d2de-00d77eaf4364"
      },
      "outputs": [
        {
          "name": "stdout",
          "output_type": "stream",
          "text": [
            "\n",
            "What toppings do you prefer on your pizza?\n",
            "(Enter 'quit' when you are finished.) extra cheese\n",
            "Sure! I'll add Extra Cheese to your pizza\n",
            "\n",
            "What toppings do you prefer on your pizza?\n",
            "(Enter 'quit' when you are finished.) pepperoni\n",
            "Sure! I'll add Pepperoni to your pizza\n",
            "\n",
            "What toppings do you prefer on your pizza?\n",
            "(Enter 'quit' when you are finished.) fresh basil\n",
            "Sure! I'll add Fresh Basil to your pizza\n",
            "\n",
            "What toppings do you prefer on your pizza?\n",
            "(Enter 'quit' when you are finished.) quit\n"
          ]
        }
      ],
      "source": [
        "#Exercise 1: Pizza Toppings\n",
        "\n",
        "#Using while-loop\n",
        "prompt = \"\\nWhat toppings do you prefer on your pizza?\"\n",
        "prompt += \"\\n(Enter 'quit' when you are finished.) \"\n",
        "\n",
        "while True:\n",
        "  toppings = input(prompt)\n",
        "  if toppings == 'quit':\n",
        "                  break  #Exits the loop as soon as it gives 'quit' \n",
        "  else:\n",
        "    print(\"Sure! I'll add \" + toppings.title() + \" to your pizza\") #Executes as there is no break"
      ]
    }
  ]
}