{
  "nbformat": 4,
  "nbformat_minor": 0,
  "metadata": {
    "colab": {
      "provenance": [],
      "authorship_tag": "ABX9TyP6DTn7hUJzUrzUzaCmYYWP",
      "include_colab_link": true
    },
    "kernelspec": {
      "name": "python3",
      "display_name": "Python 3"
    },
    "language_info": {
      "name": "python"
    }
  },
  "cells": [
    {
      "cell_type": "markdown",
      "metadata": {
        "id": "view-in-github",
        "colab_type": "text"
      },
      "source": [
        "<a href=\"https://colab.research.google.com/github/ysabel1111/1st_Repository/blob/main/CHAPTER6/Exercise-2.ipynb\" target=\"_parent\"><img src=\"https://colab.research.google.com/assets/colab-badge.svg\" alt=\"Open In Colab\"/></a>"
      ]
    },
    {
      "cell_type": "markdown",
      "source": [
        "A movie theater charges different ticket prices depending on a person’s age. If a person is under the age of 3, the ticket is free;  If a person is under the age of 3, the ticket is free; if they are between 3 and 12, the ticket is 10 dollar; and if they are over age 12, the ticket is 15 dollar.  Write a loop in which you ask users their age, and then tell them the cost of their movie ticket"
      ],
      "metadata": {
        "id": "UJjX5UJdj2Vz"
      }
    },
    {
      "cell_type": "code",
      "execution_count": 1,
      "metadata": {
        "colab": {
          "base_uri": "https://localhost:8080/"
        },
        "id": "S8bd3iLRjtih",
        "outputId": "5938fd70-cdc2-4cb3-ec1f-296864f0f43b"
      },
      "outputs": [
        {
          "name": "stdout",
          "output_type": "stream",
          "text": [
            "\n",
            "How old are you?\n",
            "(Enter 'quit' when you are finished.) 2\n",
            "You can get in for free.\n",
            "\n",
            "How old are you?\n",
            "(Enter 'quit' when you are finished.) 11\n",
            "Your ticket is $10!\n",
            "\n",
            "How old are you?\n",
            "(Enter 'quit' when you are finished.) 19\n",
            "Your ticket is $15!\n",
            "\n",
            "How old are you?\n",
            "(Enter 'quit' when you are finished.) 55\n",
            "Your ticket is $15!\n",
            "\n",
            "How old are you?\n",
            "(Enter 'quit' when you are finished.) quit\n"
          ]
        }
      ],
      "source": [
        "#Exercise 2: Movie Tickets\n",
        "\n",
        "#Using while-loop\n",
        "prompt = \"\\nHow old are you?\"\n",
        "prompt += \"\\n(Enter 'quit' when you are finished.) \"\n",
        "\n",
        "while True:\n",
        "    age = input(prompt)\n",
        "    if age == 'quit':\n",
        "               break #Exits the loop as soon as it gives 'quit' \n",
        "    age = int(age) #Using input() function to ask a person's age\n",
        "  \n",
        "    if age < 3:\n",
        "        print(\"You can get in for free.\")\n",
        "\n",
        "    elif age < 12:\n",
        "        print(\"Your ticket is $10!\")\n",
        "\n",
        "    else:\n",
        "        print(\"Your ticket is $15!\")"
      ]
    }
  ]
}