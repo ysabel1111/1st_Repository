{
  "nbformat": 4,
  "nbformat_minor": 0,
  "metadata": {
    "colab": {
      "provenance": [],
      "authorship_tag": "ABX9TyNw0wT5TqghKiox9gOQNvon",
      "include_colab_link": true
    },
    "kernelspec": {
      "name": "python3",
      "display_name": "Python 3"
    },
    "language_info": {
      "name": "python"
    }
  },
  "cells": [
    {
      "cell_type": "markdown",
      "metadata": {
        "id": "view-in-github",
        "colab_type": "text"
      },
      "source": [
        "<a href=\"https://colab.research.google.com/github/ysabel1111/1st_Repository/blob/main/CHAPTER6/Exercise-4.ipynb\" target=\"_parent\"><img src=\"https://colab.research.google.com/assets/colab-badge.svg\" alt=\"Open In Colab\"/></a>"
      ]
    },
    {
      "cell_type": "markdown",
      "source": [
        "Make a list called sandwich_orders and fill it with the names of various sandwiches. Then make an empty list called finished_sandwiches.\n",
        "\n",
        "Loop through the list of sandwich orders and print a message for each order, such as I made your tuna sandwich. As each sandwich is made,\n",
        "\n",
        "move it to the list of finished sandwiches. After all the sandwiches have been made, print a message listing each sandwich that was made."
      ],
      "metadata": {
        "id": "2PiGZuKsmLZe"
      }
    },
    {
      "cell_type": "code",
      "execution_count": 2,
      "metadata": {
        "colab": {
          "base_uri": "https://localhost:8080/"
        },
        "id": "LREMZI3Yllkl",
        "outputId": "04ad2d38-ad55-4f1f-d44d-226293f7536a"
      },
      "outputs": [
        {
          "output_type": "stream",
          "name": "stdout",
          "text": [
            "Here's a Grilled Chicken sandwich I made for you.\n",
            "Here's a Ham sandwich I made for you.\n",
            "Here's a Nutella sandwich I made for you.\n",
            "Here's a Grilled Cheese sandwich I made for you.\n",
            "\n",
            "\n",
            "Sandwich Orders:\n",
            "Grilled Chicken Sandwich\n",
            "Ham Sandwich\n",
            "Nutella Sandwich\n",
            "Grilled Cheese Sandwich\n"
          ]
        }
      ],
      "source": [
        "#Exercise 4: Deli\n",
        "\n",
        "#Creating a list for various sandwiches\n",
        "sandwich_orders = ['grilled cheese','nutella','ham','grilled chicken']\n",
        "finished_sandwiches = [] #Making a no list\n",
        "\n",
        "while sandwich_orders:\n",
        "  current_sandwich = sandwich_orders.pop()\n",
        "  print(\"Here's a \" + current_sandwich.title() + \" sandwich I made for you.\")\n",
        "  finished_sandwiches.append(current_sandwich.title()) #Using append() method to add an item at the end of the list\n",
        "\n",
        "\n",
        "#Printing down all information of the lists\n",
        "#Using loop for the entire list\n",
        "print(\"\\n\")\n",
        "print('Sandwich Orders:')\n",
        "for sandwich in finished_sandwiches:\n",
        "    print(sandwich,'Sandwich')\n"
      ]
    }
  ]
}