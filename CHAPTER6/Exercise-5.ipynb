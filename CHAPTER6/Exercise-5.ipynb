{
  "nbformat": 4,
  "nbformat_minor": 0,
  "metadata": {
    "colab": {
      "provenance": [],
      "authorship_tag": "ABX9TyMR/CRl2DjzrnAXXIBRhLJg",
      "include_colab_link": true
    },
    "kernelspec": {
      "name": "python3",
      "display_name": "Python 3"
    },
    "language_info": {
      "name": "python"
    }
  },
  "cells": [
    {
      "cell_type": "markdown",
      "metadata": {
        "id": "view-in-github",
        "colab_type": "text"
      },
      "source": [
        "<a href=\"https://colab.research.google.com/github/ysabel1111/1st_Repository/blob/main/CHAPTER6/Exercise-5.ipynb\" target=\"_parent\"><img src=\"https://colab.research.google.com/assets/colab-badge.svg\" alt=\"Open In Colab\"/></a>"
      ]
    },
    {
      "cell_type": "markdown",
      "source": [
        "Using the list sandwich_orders from Exercise 7-8, make sure the sandwich 'pastrami' appears in the list at least three times. Add code near the beginning of your program to print a message saying the deli has run out of pastrami, and then use a while loop to remove all occurrences of 'pastrami' from sandwich_orders. Make sure no pastrami sandwiches end up in finished_sandwiches."
      ],
      "metadata": {
        "id": "yxr-ocUSopZ0"
      }
    },
    {
      "cell_type": "code",
      "execution_count": 1,
      "metadata": {
        "colab": {
          "base_uri": "https://localhost:8080/"
        },
        "id": "2Ypj3y0oobg-",
        "outputId": "b9ee5daf-34d2-4958-9128-9650c49f61d1"
      },
      "outputs": [
        {
          "output_type": "stream",
          "name": "stdout",
          "text": [
            "Unfortunately, we are out of Pastrami today.\n",
            "\n",
            "\n",
            "Here's a Grilled Chicken sandwich I made for you.\n",
            "Here's a Ham sandwich I made for you.\n",
            "Here's a Nutella sandwich I made for you.\n",
            "Here's a Grilled Cheese sandwich I made for you.\n",
            "\n",
            "\n",
            "Sandwich Orders:\n",
            "Grilled Chicken Sandwich\n",
            "Ham Sandwich\n",
            "Nutella Sandwich\n",
            "Grilled Cheese Sandwich\n"
          ]
        }
      ],
      "source": [
        "#Exercise 5: No Pastrami\n",
        "\n",
        "#Creating a list for various sandwiches\n",
        "sandwich_orders = ['pastrami','grilled cheese','pastrami','pastrami','nutella','ham','grilled chicken']\n",
        "finished_sandwiches = []  #Making a no list\n",
        "\n",
        "#Using remove() function to remove the value \"pastrami\" in the list\n",
        "print(\"Unfortunately, we are out of Pastrami today.\")\n",
        "while 'pastrami' in sandwich_orders:\n",
        "  sandwich_orders.remove('pastrami')\n",
        "\n",
        "print(\"\\n\")\n",
        "while sandwich_orders:\n",
        "  current_sandwich = sandwich_orders.pop()\n",
        "  print(\"Here's a \" + current_sandwich.title() + \" sandwich I made for you.\")\n",
        "  finished_sandwiches.append(current_sandwich.title()) #Using append() method to add an item at the end of the list\n",
        "\n",
        "#Printing down all information of the lists\n",
        "#Using loop for the entire list\n",
        "print(\"\\n\")\n",
        "print('Sandwich Orders:')\n",
        "for sandwich in finished_sandwiches:\n",
        "    print(sandwich,'Sandwich')"
      ]
    }
  ]
}