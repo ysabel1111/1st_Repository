{
  "nbformat": 4,
  "nbformat_minor": 0,
  "metadata": {
    "colab": {
      "provenance": [],
      "authorship_tag": "ABX9TyPcjpZkdPl1m7rNkQWRa5Ma",
      "include_colab_link": true
    },
    "kernelspec": {
      "name": "python3",
      "display_name": "Python 3"
    },
    "language_info": {
      "name": "python"
    }
  },
  "cells": [
    {
      "cell_type": "markdown",
      "metadata": {
        "id": "view-in-github",
        "colab_type": "text"
      },
      "source": [
        "<a href=\"https://colab.research.google.com/github/ysabel1111/1st_Repository/blob/main/CHAPTER7/Exercise-1.ipynb\" target=\"_parent\"><img src=\"https://colab.research.google.com/assets/colab-badge.svg\" alt=\"Open In Colab\"/></a>"
      ]
    },
    {
      "cell_type": "markdown",
      "source": [
        "Write a function called display_message() that prints one sentence telling everyone what you are learning about in this chapter. Call the function, and make sure the message displays correctly."
      ],
      "metadata": {
        "id": "PEt90o04p23G"
      }
    },
    {
      "cell_type": "code",
      "execution_count": 2,
      "metadata": {
        "colab": {
          "base_uri": "https://localhost:8080/"
        },
        "id": "BgRgMbcFptCt",
        "outputId": "412ea774-df91-4565-cd06-f4e6ec004ddf"
      },
      "outputs": [
        {
          "output_type": "stream",
          "name": "stdout",
          "text": [
            "I'm learning how to store code using functions.\n"
          ]
        }
      ],
      "source": [
        "#Exercise 1: Message\n",
        "\n",
        "def display_message():\n",
        "    #This function displays a message about what I am learning in this chapter. \n",
        "    msg = \"I'm learning how to store code using functions.\"\n",
        "    print(msg)\n",
        "\n",
        "display_message() #To call the function\n"
      ]
    }
  ]
}