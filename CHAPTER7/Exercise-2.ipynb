{
  "nbformat": 4,
  "nbformat_minor": 0,
  "metadata": {
    "colab": {
      "provenance": [],
      "authorship_tag": "ABX9TyNdI99ULmrHM7aMbc7ys2Ut",
      "include_colab_link": true
    },
    "kernelspec": {
      "name": "python3",
      "display_name": "Python 3"
    },
    "language_info": {
      "name": "python"
    }
  },
  "cells": [
    {
      "cell_type": "markdown",
      "metadata": {
        "id": "view-in-github",
        "colab_type": "text"
      },
      "source": [
        "<a href=\"https://colab.research.google.com/github/ysabel1111/1st_Repository/blob/main/CHAPTER7/Exercise-2.ipynb\" target=\"_parent\"><img src=\"https://colab.research.google.com/assets/colab-badge.svg\" alt=\"Open In Colab\"/></a>"
      ]
    },
    {
      "cell_type": "markdown",
      "source": [
        "Write a function called favorite_book() that accepts one parameter, title. The function should print a message, such as One of my favorite books is Alice in Wonderland. Call the function, making sure to include a book title as an argument in the function call."
      ],
      "metadata": {
        "id": "HJRwIMgHslGZ"
      }
    },
    {
      "cell_type": "code",
      "execution_count": 1,
      "metadata": {
        "colab": {
          "base_uri": "https://localhost:8080/"
        },
        "id": "ehnYKbQEsbFT",
        "outputId": "a01e80ef-6d77-4a7c-c7c1-d20aa11770f0"
      },
      "outputs": [
        {
          "output_type": "stream",
          "name": "stdout",
          "text": [
            "\n",
            "My favorite books are Harry Potter and The Lord Of The Rings.\n"
          ]
        }
      ],
      "source": [
        "#Exercise 2: Favorite Book\n",
        "\n",
        "#Definition of a function with parameters\n",
        "def favorite_book(title1, title2):\n",
        "  \"\"\"Display a message about someone's favorite book.\"\"\"\n",
        "  print(f\"\\nMy favorite books are {title1.title()} and {title2.title()}.\")\n",
        "\n",
        "favorite_book(title1='Harry Potter', title2='The Lord of the Rings') #Calling a function with an argument\n",
        "\n"
      ]
    }
  ]
}