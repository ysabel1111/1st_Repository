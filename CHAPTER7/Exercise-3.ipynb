{
  "nbformat": 4,
  "nbformat_minor": 0,
  "metadata": {
    "colab": {
      "provenance": [],
      "authorship_tag": "ABX9TyOJ4mVaJyx0e7NhUr5Gf+Ol",
      "include_colab_link": true
    },
    "kernelspec": {
      "name": "python3",
      "display_name": "Python 3"
    },
    "language_info": {
      "name": "python"
    }
  },
  "cells": [
    {
      "cell_type": "markdown",
      "metadata": {
        "id": "view-in-github",
        "colab_type": "text"
      },
      "source": [
        "<a href=\"https://colab.research.google.com/github/ysabel1111/1st_Repository/blob/main/CHAPTER7/Exercise-3.ipynb\" target=\"_parent\"><img src=\"https://colab.research.google.com/assets/colab-badge.svg\" alt=\"Open In Colab\"/></a>"
      ]
    },
    {
      "cell_type": "markdown",
      "source": [
        "Write a function called make_shirt() that accepts a size and the text of a message that should be printed on the shirt. The function should print a sentence summarizing the size of the shirt and the message printed on it. Call the function once using positional arguments to make a shirt. Call the function a second time using keyword arguments."
      ],
      "metadata": {
        "id": "RCainHIjt86p"
      }
    },
    {
      "cell_type": "code",
      "execution_count": 4,
      "metadata": {
        "colab": {
          "base_uri": "https://localhost:8080/"
        },
        "id": "JpRx3bh7t7Ka",
        "outputId": "1b3c315e-24a8-4e15-87ff-2350a23ba871"
      },
      "outputs": [
        {
          "output_type": "stream",
          "name": "stdout",
          "text": [
            "\n",
            "There will be a Large-size shirt with a printed message that reads \"Python is the best!\"\n"
          ]
        }
      ],
      "source": [
        "#Exercise 3: T-Shirt\n",
        "\n",
        "#Definition of a function with two parameters\n",
        "def make_shirt(size, message):\n",
        "  \"\"\"Displaying the shirt that will be made.\"\"\"\n",
        "  print(f'\\nThere will be a {size}-size shirt with a printed message that reads \"{message}\"')\n",
        "\n",
        "make_shirt(size='Large', message='Python is the best!') ##Calling a function with an two arguments"
      ]
    }
  ]
}