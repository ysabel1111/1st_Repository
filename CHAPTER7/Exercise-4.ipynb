{
  "nbformat": 4,
  "nbformat_minor": 0,
  "metadata": {
    "colab": {
      "provenance": [],
      "authorship_tag": "ABX9TyPipSl9VDo/pn1hWRudxuYU",
      "include_colab_link": true
    },
    "kernelspec": {
      "name": "python3",
      "display_name": "Python 3"
    },
    "language_info": {
      "name": "python"
    }
  },
  "cells": [
    {
      "cell_type": "markdown",
      "metadata": {
        "id": "view-in-github",
        "colab_type": "text"
      },
      "source": [
        "<a href=\"https://colab.research.google.com/github/ysabel1111/1st_Repository/blob/main/CHAPTER7/Exercise-4.ipynb\" target=\"_parent\"><img src=\"https://colab.research.google.com/assets/colab-badge.svg\" alt=\"Open In Colab\"/></a>"
      ]
    },
    {
      "cell_type": "markdown",
      "source": [
        "Modify the make_shirt() function so that shirts are large by default with a message that reads I love Python. Make a large shirt and a medium shirt with the default message, and a shirt of any size with a different message."
      ],
      "metadata": {
        "id": "2UpwCJMpvbB2"
      }
    },
    {
      "cell_type": "code",
      "execution_count": 1,
      "metadata": {
        "colab": {
          "base_uri": "https://localhost:8080/"
        },
        "id": "K1WlReIEvaS5",
        "outputId": "d55198cf-547b-4e2b-975f-42c8b72b14cd"
      },
      "outputs": [
        {
          "output_type": "stream",
          "name": "stdout",
          "text": [
            "\n",
            "There will be a Large-size shirt with a printed message that reads \"I love Python!\"\n",
            "\n",
            "There will be a Medium-size shirt with a printed message that reads \"I love Python!\"\n",
            "\n",
            "There will be a Small-size shirt with a printed message that reads \"Programming Class is fun!\"\n"
          ]
        }
      ],
      "source": [
        "#Exercise 4: Large Shirts\n",
        "\n",
        "#This function displays a default message about the shirt\n",
        "def make_shirt(size='large', message='I love Python!'):\n",
        "    \"\"\"Displaying the shirt that will be made.\"\"\"\n",
        "    print(f'\\nThere will be a {size.title()}-size shirt with a printed message that reads \"{message}\"')\n",
        "\n",
        "make_shirt() #To call the function\n",
        "make_shirt(size='medium') #Calling a function with an argument\n",
        "make_shirt(size='small',message='Programming Class is fun!') #Calling a function with an two arguments"
      ]
    }
  ]
}