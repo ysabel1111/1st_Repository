{
  "nbformat": 4,
  "nbformat_minor": 0,
  "metadata": {
    "colab": {
      "provenance": [],
      "authorship_tag": "ABX9TyPz9M1bbaFd6m5CQe2V7jbc",
      "include_colab_link": true
    },
    "kernelspec": {
      "name": "python3",
      "display_name": "Python 3"
    },
    "language_info": {
      "name": "python"
    }
  },
  "cells": [
    {
      "cell_type": "markdown",
      "metadata": {
        "id": "view-in-github",
        "colab_type": "text"
      },
      "source": [
        "<a href=\"https://colab.research.google.com/github/ysabel1111/1st_Repository/blob/main/CHAPTER7/Exercise-5.ipynb\" target=\"_parent\"><img src=\"https://colab.research.google.com/assets/colab-badge.svg\" alt=\"Open In Colab\"/></a>"
      ]
    },
    {
      "cell_type": "markdown",
      "source": [
        "Write a function called describe_city() that accepts the name of a city and its country. The function should print a simple sentence, such as Reykjavik is in Iceland. Give the parameter for the country a default value.\n",
        "\n",
        "Call your function for three different cities, at least one of which is not in the default country."
      ],
      "metadata": {
        "id": "mEisKXunxud7"
      }
    },
    {
      "cell_type": "code",
      "execution_count": 1,
      "metadata": {
        "colab": {
          "base_uri": "https://localhost:8080/"
        },
        "id": "zQ8KMUmdxtsB",
        "outputId": "648d299c-0986-4686-aa06-0b56957bea73"
      },
      "outputs": [
        {
          "output_type": "stream",
          "name": "stdout",
          "text": [
            "Dubai is in United Arab Emirates.\n",
            "Abu Dhabi is in United Arab Emirates.\n",
            "Tokyo is in Japan.\n"
          ]
        }
      ],
      "source": [
        "#Exercise 5: Cities\n",
        "\n",
        "#This function displays for different cities\n",
        "def describe_city(city, country='United Arab Emirates'):\n",
        "  \"\"\"Describes a city.\"\"\"\n",
        "  print(f\"{city.title()} is in {country.title()}.\")\n",
        "\n",
        "describe_city('dubai') #Calling a function with an argument\n",
        "describe_city('abu dhabi') #Calling a function with an argument\n",
        "describe_city('tokyo','japan') #Calling a function with two arguments"
      ]
    }
  ]
}